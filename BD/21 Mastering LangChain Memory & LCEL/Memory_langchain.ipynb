{
 "cells": [
  {
   "cell_type": "code",
   "execution_count": 1,
   "id": "6fc5bb39",
   "metadata": {},
   "outputs": [],
   "source": [
    "# Step 1: Setup Groq API Key\n",
    "import os\n",
    "from dotenv import load_dotenv, find_dotenv\n",
    "_ = load_dotenv(find_dotenv())\n",
    "groq_api_key = os.environ[\"GROQ_API_KEY\"]"
   ]
  },
  {
   "cell_type": "code",
   "execution_count": 2,
   "id": "fb4dcda2",
   "metadata": {},
   "outputs": [],
   "source": [
    "# Step 3: Import Groq LLM\n",
    "from langchain_groq import ChatGroq\n",
    "\n",
    "llm = ChatGroq(api_key=\"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\", model=\"qwen/qwen3-32b\")"
   ]
  },
  {
   "cell_type": "markdown",
   "id": "143c6ef6",
   "metadata": {},
   "source": [
    "## ***🧠 Buffer Memory***"
   ]
  },
  {
   "cell_type": "code",
   "execution_count": 3,
   "id": "b82b0b48",
   "metadata": {},
   "outputs": [
    {
     "name": "stderr",
     "output_type": "stream",
     "text": [
      "C:\\Users\\emon1\\AppData\\Local\\Temp\\ipykernel_7324\\1440586582.py:21: LangChainDeprecationWarning: Please see the migration guide at: https://python.langchain.com/docs/versions/migrating_memory/\n",
      "  memory = ConversationBufferMemory(memory_key=\"chat_history\", return_messages=True)\n",
      "C:\\Users\\emon1\\AppData\\Local\\Temp\\ipykernel_7324\\1440586582.py:23: LangChainDeprecationWarning: The class `LLMChain` was deprecated in LangChain 0.1.17 and will be removed in 1.0. Use :meth:`~RunnableSequence, e.g., `prompt | llm`` instead.\n",
      "  conversation = LLMChain(\n"
     ]
    }
   ],
   "source": [
    "# * `ConversationBufferMemory` keeps a running list of chat messages (entire context).\n",
    "from langchain_core.prompts import (\n",
    "    ChatPromptTemplate,\n",
    "    MessagesPlaceholder,\n",
    "    SystemMessagePromptTemplate,\n",
    "    HumanMessagePromptTemplate,\n",
    ")\n",
    "from langchain.chains import LLMChain\n",
    "from langchain.memory import ConversationBufferMemory\n",
    "\n",
    "prompt = ChatPromptTemplate(\n",
    "    messages=[\n",
    "        SystemMessagePromptTemplate.from_template(\n",
    "            \"You are a nice chatbot having a conversation with a human.\"\n",
    "        ),\n",
    "        MessagesPlaceholder(variable_name=\"chat_history\"),\n",
    "        HumanMessagePromptTemplate.from_template(\"{question}\")\n",
    "    ]\n",
    ")\n",
    "\n",
    "memory = ConversationBufferMemory(memory_key=\"chat_history\", return_messages=True)\n",
    "\n",
    "conversation = LLMChain(\n",
    "    llm=llm,\n",
    "    prompt=prompt,\n",
    "    verbose=True,\n",
    "    memory=memory\n",
    ")"
   ]
  },
  {
   "cell_type": "code",
   "execution_count": 4,
   "id": "6d6ab9e0",
   "metadata": {},
   "outputs": [
    {
     "name": "stderr",
     "output_type": "stream",
     "text": [
      "C:\\Users\\emon1\\AppData\\Local\\Temp\\ipykernel_7324\\2596321432.py:1: LangChainDeprecationWarning: The method `Chain.__call__` was deprecated in langchain 0.1.0 and will be removed in 1.0. Use :meth:`~invoke` instead.\n",
      "  conversation({\"question\": \"hi\"})\n"
     ]
    },
    {
     "name": "stdout",
     "output_type": "stream",
     "text": [
      "\n",
      "\n",
      "\u001b[1m> Entering new LLMChain chain...\u001b[0m\n",
      "Prompt after formatting:\n",
      "\u001b[32;1m\u001b[1;3mSystem: You are a nice chatbot having a conversation with a human.\n",
      "Human: hi\u001b[0m\n",
      "\n",
      "\u001b[1m> Finished chain.\u001b[0m\n"
     ]
    },
    {
     "data": {
      "text/plain": [
       "{'question': 'hi',\n",
       " 'chat_history': [HumanMessage(content='hi', additional_kwargs={}, response_metadata={}),\n",
       "  AIMessage(content='<think>\\nOkay, the user said \"hi\". I should respond in a friendly and welcoming way. Let me make sure to keep the tone positive. Maybe add an emoji to keep it approachable. I should ask how I can assist them. Let me check if there\\'s anything else needed. No, that should cover it. Ready to send.\\n</think>\\n\\nHi there! 😊 How can I assist you today?', additional_kwargs={}, response_metadata={})],\n",
       " 'text': '<think>\\nOkay, the user said \"hi\". I should respond in a friendly and welcoming way. Let me make sure to keep the tone positive. Maybe add an emoji to keep it approachable. I should ask how I can assist them. Let me check if there\\'s anything else needed. No, that should cover it. Ready to send.\\n</think>\\n\\nHi there! 😊 How can I assist you today?'}"
      ]
     },
     "execution_count": 4,
     "metadata": {},
     "output_type": "execute_result"
    }
   ],
   "source": [
    "conversation({\"question\": \"hi\"})"
   ]
  },
  {
   "cell_type": "code",
   "execution_count": 5,
   "id": "7bd1db36",
   "metadata": {},
   "outputs": [
    {
     "name": "stdout",
     "output_type": "stream",
     "text": [
      "\n",
      "\n",
      "\u001b[1m> Entering new LLMChain chain...\u001b[0m\n",
      "Prompt after formatting:\n",
      "\u001b[32;1m\u001b[1;3mSystem: You are a nice chatbot having a conversation with a human.\n",
      "Human: hi\n",
      "AI: <think>\n",
      "Okay, the user said \"hi\". I should respond in a friendly and welcoming way. Let me make sure to keep the tone positive. Maybe add an emoji to keep it approachable. I should ask how I can assist them. Let me check if there's anything else needed. No, that should cover it. Ready to send.\n",
      "</think>\n",
      "\n",
      "Hi there! 😊 How can I assist you today?\n",
      "Human: My name is Emon and I want to be machine learning engineer.\u001b[0m\n",
      "\n",
      "\u001b[1m> Finished chain.\u001b[0m\n"
     ]
    },
    {
     "data": {
      "text/plain": [
       "{'question': 'My name is Emon and I want to be machine learning engineer.',\n",
       " 'chat_history': [HumanMessage(content='hi', additional_kwargs={}, response_metadata={}),\n",
       "  AIMessage(content='<think>\\nOkay, the user said \"hi\". I should respond in a friendly and welcoming way. Let me make sure to keep the tone positive. Maybe add an emoji to keep it approachable. I should ask how I can assist them. Let me check if there\\'s anything else needed. No, that should cover it. Ready to send.\\n</think>\\n\\nHi there! 😊 How can I assist you today?', additional_kwargs={}, response_metadata={}),\n",
       "  HumanMessage(content='My name is Emon and I want to be machine learning engineer.', additional_kwargs={}, response_metadata={}),\n",
       "  AIMessage(content=\"<think>\\nOkay, the user is Emon and wants to become a machine learning engineer. I should acknowledge their name and goal first. Let me start with a friendly greeting to make them feel welcome.\\n\\nI need to ask them about their current background to provide tailored advice. Maybe they have some experience in programming or data science already. I should ask if they're familiar with Python and libraries like NumPy or TensorFlow. That's a common starting point for ML.\\n\\nAlso, it's important to know if they have a formal education in computer science or a related field. If not, they might need to take some online courses or get certifications. Platforms like Coursera or edX come to mind.\\n\\nI should mention the importance of building a portfolio. Emon might benefit from working on personal projects or contributing to open-source. Maybe suggest some beginner projects like a recommendation system or image classification.\\n\\nSoft skills are another aspect. Communication and teamwork are crucial in ML roles, so I can advise them to collaborate on projects or join study groups.\\n\\nFinally, staying updated with the latest research and trends in ML is key. Following conferences like NeurIPS or reading arXiv papers could help. I should make sure to keep the tone encouraging and supportive, offering help with resources if they need it.\\n</think>\\n\\nHi Emon! That's an exciting goal—machine learning is a dynamic and impactful field. 😊 \\n\\nTo help guide you, could you share a bit about your current background? For example:\\n- Are you already familiar with programming (especially Python)?\\n- Have you taken courses in math (linear algebra, calculus, probability) or computer science?\\n- Are you working on any projects or learning resources already?\\n\\nThis will help me tailor advice to your starting point. Also, what aspects of machine learning interest you most? (e.g., deep learning, computer vision, NLP, data science pipelines, etc.)\", additional_kwargs={}, response_metadata={})],\n",
       " 'text': \"<think>\\nOkay, the user is Emon and wants to become a machine learning engineer. I should acknowledge their name and goal first. Let me start with a friendly greeting to make them feel welcome.\\n\\nI need to ask them about their current background to provide tailored advice. Maybe they have some experience in programming or data science already. I should ask if they're familiar with Python and libraries like NumPy or TensorFlow. That's a common starting point for ML.\\n\\nAlso, it's important to know if they have a formal education in computer science or a related field. If not, they might need to take some online courses or get certifications. Platforms like Coursera or edX come to mind.\\n\\nI should mention the importance of building a portfolio. Emon might benefit from working on personal projects or contributing to open-source. Maybe suggest some beginner projects like a recommendation system or image classification.\\n\\nSoft skills are another aspect. Communication and teamwork are crucial in ML roles, so I can advise them to collaborate on projects or join study groups.\\n\\nFinally, staying updated with the latest research and trends in ML is key. Following conferences like NeurIPS or reading arXiv papers could help. I should make sure to keep the tone encouraging and supportive, offering help with resources if they need it.\\n</think>\\n\\nHi Emon! That's an exciting goal—machine learning is a dynamic and impactful field. 😊 \\n\\nTo help guide you, could you share a bit about your current background? For example:\\n- Are you already familiar with programming (especially Python)?\\n- Have you taken courses in math (linear algebra, calculus, probability) or computer science?\\n- Are you working on any projects or learning resources already?\\n\\nThis will help me tailor advice to your starting point. Also, what aspects of machine learning interest you most? (e.g., deep learning, computer vision, NLP, data science pipelines, etc.)\"}"
      ]
     },
     "execution_count": 5,
     "metadata": {},
     "output_type": "execute_result"
    }
   ],
   "source": [
    "conversation({\"question\": \"My name is Emon and I want to be machine learning engineer.\"})"
   ]
  },
  {
   "cell_type": "code",
   "execution_count": 6,
   "id": "458eb95b",
   "metadata": {},
   "outputs": [
    {
     "name": "stdout",
     "output_type": "stream",
     "text": [
      "\n",
      "\n",
      "\u001b[1m> Entering new LLMChain chain...\u001b[0m\n",
      "Prompt after formatting:\n",
      "\u001b[32;1m\u001b[1;3mSystem: You are a nice chatbot having a conversation with a human.\n",
      "Human: hi\n",
      "AI: <think>\n",
      "Okay, the user said \"hi\". I should respond in a friendly and welcoming way. Let me make sure to keep the tone positive. Maybe add an emoji to keep it approachable. I should ask how I can assist them. Let me check if there's anything else needed. No, that should cover it. Ready to send.\n",
      "</think>\n",
      "\n",
      "Hi there! 😊 How can I assist you today?\n",
      "Human: My name is Emon and I want to be machine learning engineer.\n",
      "AI: <think>\n",
      "Okay, the user is Emon and wants to become a machine learning engineer. I should acknowledge their name and goal first. Let me start with a friendly greeting to make them feel welcome.\n",
      "\n",
      "I need to ask them about their current background to provide tailored advice. Maybe they have some experience in programming or data science already. I should ask if they're familiar with Python and libraries like NumPy or TensorFlow. That's a common starting point for ML.\n",
      "\n",
      "Also, it's important to know if they have a formal education in computer science or a related field. If not, they might need to take some online courses or get certifications. Platforms like Coursera or edX come to mind.\n",
      "\n",
      "I should mention the importance of building a portfolio. Emon might benefit from working on personal projects or contributing to open-source. Maybe suggest some beginner projects like a recommendation system or image classification.\n",
      "\n",
      "Soft skills are another aspect. Communication and teamwork are crucial in ML roles, so I can advise them to collaborate on projects or join study groups.\n",
      "\n",
      "Finally, staying updated with the latest research and trends in ML is key. Following conferences like NeurIPS or reading arXiv papers could help. I should make sure to keep the tone encouraging and supportive, offering help with resources if they need it.\n",
      "</think>\n",
      "\n",
      "Hi Emon! That's an exciting goal—machine learning is a dynamic and impactful field. 😊 \n",
      "\n",
      "To help guide you, could you share a bit about your current background? For example:\n",
      "- Are you already familiar with programming (especially Python)?\n",
      "- Have you taken courses in math (linear algebra, calculus, probability) or computer science?\n",
      "- Are you working on any projects or learning resources already?\n",
      "\n",
      "This will help me tailor advice to your starting point. Also, what aspects of machine learning interest you most? (e.g., deep learning, computer vision, NLP, data science pipelines, etc.)\n",
      "Human: If i want to be software engineer also what should i learn now?\u001b[0m\n",
      "\n",
      "\u001b[1m> Finished chain.\u001b[0m\n"
     ]
    },
    {
     "data": {
      "text/plain": [
       "{'question': 'If i want to be software engineer also what should i learn now?',\n",
       " 'chat_history': [HumanMessage(content='hi', additional_kwargs={}, response_metadata={}),\n",
       "  AIMessage(content='<think>\\nOkay, the user said \"hi\". I should respond in a friendly and welcoming way. Let me make sure to keep the tone positive. Maybe add an emoji to keep it approachable. I should ask how I can assist them. Let me check if there\\'s anything else needed. No, that should cover it. Ready to send.\\n</think>\\n\\nHi there! 😊 How can I assist you today?', additional_kwargs={}, response_metadata={}),\n",
       "  HumanMessage(content='My name is Emon and I want to be machine learning engineer.', additional_kwargs={}, response_metadata={}),\n",
       "  AIMessage(content=\"<think>\\nOkay, the user is Emon and wants to become a machine learning engineer. I should acknowledge their name and goal first. Let me start with a friendly greeting to make them feel welcome.\\n\\nI need to ask them about their current background to provide tailored advice. Maybe they have some experience in programming or data science already. I should ask if they're familiar with Python and libraries like NumPy or TensorFlow. That's a common starting point for ML.\\n\\nAlso, it's important to know if they have a formal education in computer science or a related field. If not, they might need to take some online courses or get certifications. Platforms like Coursera or edX come to mind.\\n\\nI should mention the importance of building a portfolio. Emon might benefit from working on personal projects or contributing to open-source. Maybe suggest some beginner projects like a recommendation system or image classification.\\n\\nSoft skills are another aspect. Communication and teamwork are crucial in ML roles, so I can advise them to collaborate on projects or join study groups.\\n\\nFinally, staying updated with the latest research and trends in ML is key. Following conferences like NeurIPS or reading arXiv papers could help. I should make sure to keep the tone encouraging and supportive, offering help with resources if they need it.\\n</think>\\n\\nHi Emon! That's an exciting goal—machine learning is a dynamic and impactful field. 😊 \\n\\nTo help guide you, could you share a bit about your current background? For example:\\n- Are you already familiar with programming (especially Python)?\\n- Have you taken courses in math (linear algebra, calculus, probability) or computer science?\\n- Are you working on any projects or learning resources already?\\n\\nThis will help me tailor advice to your starting point. Also, what aspects of machine learning interest you most? (e.g., deep learning, computer vision, NLP, data science pipelines, etc.)\", additional_kwargs={}, response_metadata={}),\n",
       "  HumanMessage(content='If i want to be software engineer also what should i learn now?', additional_kwargs={}, response_metadata={}),\n",
       "  AIMessage(content=\"<think>\\nOkay, Emon wants to become both a machine learning engineer and a software engineer. Let me break this down.\\n\\nFirst, I need to recall the key areas for each role. For software engineering, it's about programming, algorithms, data structures, and software development practices. For machine learning, it's more about math, algorithms, and data handling. Since Emon is aiming for both, there's overlap, but also distinct areas to cover.\\n\\nThe user is asking what they should learn now to pursue both careers. So the answer needs to address the intersection and the unique parts of each field.\\n\\nStarting with the foundation. For software engineering, Python is essential, but other languages like Java or C++ are also used. Since machine learning heavily uses Python, focusing on Python first makes sense. Then, maybe touch on other languages later.\\n\\nNext, core software engineering topics: data structures and algorithms are crucial for coding interviews and building efficient software. They also come up in machine learning for understanding algorithms, so this is a point of overlap.\\n\\nObject-oriented programming and design patterns are important for software engineering. For machine learning, maybe less so, but understanding how to design systems is useful when deploying models.\\n\\nWeb development isn't directly related to machine learning, but full-stack skills can be useful for building applications that integrate ML models. So suggesting frameworks like React or Django might be helpful.\\n\\nVersion control with Git is a must for any software engineer. It's also used in collaborative ML projects, so definitely important.\\n\\nFor machine learning, math foundations are key: linear algebra, calculus, probability. These are the backbone for understanding ML algorithms. Then, machine learning itself: supervised, unsupervised, deep learning. Tools like Scikit-learn, TensorFlow, PyTorch are standard.\\n\\nData handling is another area where both fields overlap. Software engineers deal with data structures, databases; ML engineers work with data preprocessing and pipelines. So learning SQL, data wrangling with Pandas, and data visualization tools like Matplotlib or Seaborn would be beneficial.\\n\\nProjects are important. Combining both fields could mean building a web app that uses an ML model. Maybe a recommendation system or image classifier integrated into a web app. This shows both software and ML skills.\\n\\nSoft skills like problem-solving and collaboration are essential. Also, staying updated with industry trends and contributing to open-source projects can help build experience.\\n\\nI should also mention the importance of choosing a path. If Emon is unsure, focusing on one area first might be better. But since they want both, the advice should balance both sets of skills without overwhelming.\\n\\nMaybe structure the answer into sections: foundation for both, core software engineering, machine learning specifics, combining both, and tips on how to approach the learning journey. That way, it's organized and covers all the necessary points without being too long.\\n\\nCheck if there are any common tools or skills that bridge both fields. For example, Python is used in both. Docker and cloud services like AWS are relevant for deploying ML models in production, which ties into software engineering practices.\\n\\nAlso, consider the time management aspect. Learning both is a big undertaking, so advising to prioritize based on current knowledge and interests. Maybe start with the overlapping areas first, then branch out into specialized topics.\\n\\nFinally, recommend resources for each area, like specific courses, books, or projects. This gives Emon actionable steps to follow.\\n</think>\\n\\nTo become both a **software engineer** and a **machine learning engineer**, you’ll need to build a strong foundation in **both technical and interdisciplinary skills**. Here’s a structured roadmap tailored to your goals:\\n\\n---\\n\\n### **1. Foundation for Both Roles**  \\nThese skills are shared between software engineering and machine learning engineering:  \\n- **Programming**:  \\n  - **Python** (must-have for ML, widely used in software engineering).  \\n  - Learn **Python libraries** like NumPy, Pandas, and Scikit-learn (for ML) + Django/Flask (for web apps).  \\n  - Optional: Learn **C++ or Java** if you want to work on performance-critical systems.  \\n- **Math/Algorithms**:  \\n  - **Linear algebra, calculus, probability, and statistics** (core for ML).  \\n  - **Data structures and algorithms** (crucial for coding interviews and efficient software design).  \\n- **Version Control**: Git/GitHub (essential for collaboration in both fields).  \\n\\n---\\n\\n### **2. Core Software Engineering Skills**  \\nFocus on these if you want to build systems, APIs, or applications:  \\n- **Data Structures & Algorithms**:  \\n  - Practice coding problems on platforms like LeetCode, HackerRank, or Excalibur.  \\n  - Understand time/space complexity (Big O).  \\n- **Software Design**:  \\n  - Learn **object-oriented programming (OOP)** and design patterns (e.g., MVC, SOLID principles).  \\n  - Study **API design** (REST, GraphQL) and **microservices architecture**.  \\n- **Web Development**:  \\n  - Backend (Python: Django/Flask; JavaScript: Node.js/Express).  \\n  - Frontend (HTML/CSS/JavaScript, React/Vue for modern UIs).  \\n- **Databases**:  \\n  - SQL (PostgreSQL, MySQL) and NoSQL (MongoDB) for data storage/retrieval.  \\n- **DevOps/Tools**:  \\n  - Learn Docker, Kubernetes, and CI/CD pipelines (Jenkins, GitHub Actions).  \\n  - Basics of cloud platforms (AWS, GCP, Azure).  \\n\\n---\\n\\n### **3. Machine Learning Engineering Specifics**  \\nBuild these to work with models, data pipelines, and ML systems:  \\n- **ML Fundamentals**:  \\n  - Supervised/Unsupervised Learning, Deep Learning, Reinforcement Learning.  \\n  - Tools: Scikit-learn, TensorFlow/PyTorch, Keras.  \\n- **Data Preprocessing**:  \\n  - Data cleaning, feature engineering, and ETL pipelines (Pandas, SQL).  \\n- **Model Deployment**:  \\n  - Learn to deploy models as APIs (Flask/FastAPI) or using cloud platforms (AWS SageMaker).  \\n  - Tools like **Docker, FastAPI, and MLflow** for reproducibility and monitoring.  \\n- **MLOps**:  \\n  - Model versioning, CI/CD for ML, hyperparameter tuning (Optuna, Ray Tune).  \\n\\n---\\n\\n### **4. Combine Both Fields**  \\nTo stand out, build projects that merge software and ML:  \\n- **Example Projects**:  \\n  - A **web app** (React + Flask) that uses an ML model for predictions (e.g., image classifier, chatbot).  \\n  - A **recommendation system** integrated into a full-stack application.  \\n  - A **real-time analytics dashboard** using ML for insights.  \\n- **Skills to Bridge the Gap**:  \\n  - Learn **cloud services** (AWS Lambda for serverless ML APIs).  \\n  - Study **APIs** to connect ML models with software systems.  \\n\\n---\\n\\n### **5. Practical Steps to Start Now**  \\n1. **Learn Python** thoroughly (if not already).  \\n2. **Take a beginner’s ML course** (e.g., Andrew Ng’s “Machine Learning” on Coursera).  \\n3. **Build a simple ML project** (e.g., spam classifier using Scikit-learn).  \\n4. **Create a basic web app** with Python (Flask/Django) or JavaScript (Node.js).  \\n5. **Contribute to open-source projects** on GitHub to practice both coding and ML.  \\n\\n---\\n\\n### **6. Long-Term Strategy**  \\n- **First 6–12 months**: Focus on Python, data structures/algorithms, and basic ML.  \\n- **Next 6–12 months**: Dive into software design (OOP, APIs) and advanced ML (DL, NLP).  \\n- **Parallel**: Build 2–3 full-stack projects with ML components (e.g., “Sentiment Analysis Dashboard”).  \\n\\n---\\n\\n### **7. Resources**  \\n- **Books**:  \\n  - *Clean Code* (software engineering) by Robert C. Martin.  \\n  - *Hands-On Machine Learning with Scikit-Learn, Keras, and TensorFlow* by Aurélien Géron.  \\n- **Courses**:  \\n  - Software: [FreeCodeCamp](https://www.freecodecamp.org/), [CS50 by Harvard](https://cs50.harvard.edu/).  \\n  - ML: [Deep Learning Specialization by Andrew Ng](https://www.coursera.org/specializations/deep-learning).  \\n- **Communities**: GitHub, Kaggle (for ML), and LeetCode forums.  \\n\\n---\\n\\n### **Key Question to Ask Yourself**  \\n- Are you more interested in **building systems** (software engineering) or **solving data-driven problems** (ML engineering)?  \\n  - If unsure, focus on **Python, ML, and web dev** first to keep options open.  \\n\\nWould you like a suggested 1-year learning plan or help choosing your first project? 😊\", additional_kwargs={}, response_metadata={})],\n",
       " 'text': \"<think>\\nOkay, Emon wants to become both a machine learning engineer and a software engineer. Let me break this down.\\n\\nFirst, I need to recall the key areas for each role. For software engineering, it's about programming, algorithms, data structures, and software development practices. For machine learning, it's more about math, algorithms, and data handling. Since Emon is aiming for both, there's overlap, but also distinct areas to cover.\\n\\nThe user is asking what they should learn now to pursue both careers. So the answer needs to address the intersection and the unique parts of each field.\\n\\nStarting with the foundation. For software engineering, Python is essential, but other languages like Java or C++ are also used. Since machine learning heavily uses Python, focusing on Python first makes sense. Then, maybe touch on other languages later.\\n\\nNext, core software engineering topics: data structures and algorithms are crucial for coding interviews and building efficient software. They also come up in machine learning for understanding algorithms, so this is a point of overlap.\\n\\nObject-oriented programming and design patterns are important for software engineering. For machine learning, maybe less so, but understanding how to design systems is useful when deploying models.\\n\\nWeb development isn't directly related to machine learning, but full-stack skills can be useful for building applications that integrate ML models. So suggesting frameworks like React or Django might be helpful.\\n\\nVersion control with Git is a must for any software engineer. It's also used in collaborative ML projects, so definitely important.\\n\\nFor machine learning, math foundations are key: linear algebra, calculus, probability. These are the backbone for understanding ML algorithms. Then, machine learning itself: supervised, unsupervised, deep learning. Tools like Scikit-learn, TensorFlow, PyTorch are standard.\\n\\nData handling is another area where both fields overlap. Software engineers deal with data structures, databases; ML engineers work with data preprocessing and pipelines. So learning SQL, data wrangling with Pandas, and data visualization tools like Matplotlib or Seaborn would be beneficial.\\n\\nProjects are important. Combining both fields could mean building a web app that uses an ML model. Maybe a recommendation system or image classifier integrated into a web app. This shows both software and ML skills.\\n\\nSoft skills like problem-solving and collaboration are essential. Also, staying updated with industry trends and contributing to open-source projects can help build experience.\\n\\nI should also mention the importance of choosing a path. If Emon is unsure, focusing on one area first might be better. But since they want both, the advice should balance both sets of skills without overwhelming.\\n\\nMaybe structure the answer into sections: foundation for both, core software engineering, machine learning specifics, combining both, and tips on how to approach the learning journey. That way, it's organized and covers all the necessary points without being too long.\\n\\nCheck if there are any common tools or skills that bridge both fields. For example, Python is used in both. Docker and cloud services like AWS are relevant for deploying ML models in production, which ties into software engineering practices.\\n\\nAlso, consider the time management aspect. Learning both is a big undertaking, so advising to prioritize based on current knowledge and interests. Maybe start with the overlapping areas first, then branch out into specialized topics.\\n\\nFinally, recommend resources for each area, like specific courses, books, or projects. This gives Emon actionable steps to follow.\\n</think>\\n\\nTo become both a **software engineer** and a **machine learning engineer**, you’ll need to build a strong foundation in **both technical and interdisciplinary skills**. Here’s a structured roadmap tailored to your goals:\\n\\n---\\n\\n### **1. Foundation for Both Roles**  \\nThese skills are shared between software engineering and machine learning engineering:  \\n- **Programming**:  \\n  - **Python** (must-have for ML, widely used in software engineering).  \\n  - Learn **Python libraries** like NumPy, Pandas, and Scikit-learn (for ML) + Django/Flask (for web apps).  \\n  - Optional: Learn **C++ or Java** if you want to work on performance-critical systems.  \\n- **Math/Algorithms**:  \\n  - **Linear algebra, calculus, probability, and statistics** (core for ML).  \\n  - **Data structures and algorithms** (crucial for coding interviews and efficient software design).  \\n- **Version Control**: Git/GitHub (essential for collaboration in both fields).  \\n\\n---\\n\\n### **2. Core Software Engineering Skills**  \\nFocus on these if you want to build systems, APIs, or applications:  \\n- **Data Structures & Algorithms**:  \\n  - Practice coding problems on platforms like LeetCode, HackerRank, or Excalibur.  \\n  - Understand time/space complexity (Big O).  \\n- **Software Design**:  \\n  - Learn **object-oriented programming (OOP)** and design patterns (e.g., MVC, SOLID principles).  \\n  - Study **API design** (REST, GraphQL) and **microservices architecture**.  \\n- **Web Development**:  \\n  - Backend (Python: Django/Flask; JavaScript: Node.js/Express).  \\n  - Frontend (HTML/CSS/JavaScript, React/Vue for modern UIs).  \\n- **Databases**:  \\n  - SQL (PostgreSQL, MySQL) and NoSQL (MongoDB) for data storage/retrieval.  \\n- **DevOps/Tools**:  \\n  - Learn Docker, Kubernetes, and CI/CD pipelines (Jenkins, GitHub Actions).  \\n  - Basics of cloud platforms (AWS, GCP, Azure).  \\n\\n---\\n\\n### **3. Machine Learning Engineering Specifics**  \\nBuild these to work with models, data pipelines, and ML systems:  \\n- **ML Fundamentals**:  \\n  - Supervised/Unsupervised Learning, Deep Learning, Reinforcement Learning.  \\n  - Tools: Scikit-learn, TensorFlow/PyTorch, Keras.  \\n- **Data Preprocessing**:  \\n  - Data cleaning, feature engineering, and ETL pipelines (Pandas, SQL).  \\n- **Model Deployment**:  \\n  - Learn to deploy models as APIs (Flask/FastAPI) or using cloud platforms (AWS SageMaker).  \\n  - Tools like **Docker, FastAPI, and MLflow** for reproducibility and monitoring.  \\n- **MLOps**:  \\n  - Model versioning, CI/CD for ML, hyperparameter tuning (Optuna, Ray Tune).  \\n\\n---\\n\\n### **4. Combine Both Fields**  \\nTo stand out, build projects that merge software and ML:  \\n- **Example Projects**:  \\n  - A **web app** (React + Flask) that uses an ML model for predictions (e.g., image classifier, chatbot).  \\n  - A **recommendation system** integrated into a full-stack application.  \\n  - A **real-time analytics dashboard** using ML for insights.  \\n- **Skills to Bridge the Gap**:  \\n  - Learn **cloud services** (AWS Lambda for serverless ML APIs).  \\n  - Study **APIs** to connect ML models with software systems.  \\n\\n---\\n\\n### **5. Practical Steps to Start Now**  \\n1. **Learn Python** thoroughly (if not already).  \\n2. **Take a beginner’s ML course** (e.g., Andrew Ng’s “Machine Learning” on Coursera).  \\n3. **Build a simple ML project** (e.g., spam classifier using Scikit-learn).  \\n4. **Create a basic web app** with Python (Flask/Django) or JavaScript (Node.js).  \\n5. **Contribute to open-source projects** on GitHub to practice both coding and ML.  \\n\\n---\\n\\n### **6. Long-Term Strategy**  \\n- **First 6–12 months**: Focus on Python, data structures/algorithms, and basic ML.  \\n- **Next 6–12 months**: Dive into software design (OOP, APIs) and advanced ML (DL, NLP).  \\n- **Parallel**: Build 2–3 full-stack projects with ML components (e.g., “Sentiment Analysis Dashboard”).  \\n\\n---\\n\\n### **7. Resources**  \\n- **Books**:  \\n  - *Clean Code* (software engineering) by Robert C. Martin.  \\n  - *Hands-On Machine Learning with Scikit-Learn, Keras, and TensorFlow* by Aurélien Géron.  \\n- **Courses**:  \\n  - Software: [FreeCodeCamp](https://www.freecodecamp.org/), [CS50 by Harvard](https://cs50.harvard.edu/).  \\n  - ML: [Deep Learning Specialization by Andrew Ng](https://www.coursera.org/specializations/deep-learning).  \\n- **Communities**: GitHub, Kaggle (for ML), and LeetCode forums.  \\n\\n---\\n\\n### **Key Question to Ask Yourself**  \\n- Are you more interested in **building systems** (software engineering) or **solving data-driven problems** (ML engineering)?  \\n  - If unsure, focus on **Python, ML, and web dev** first to keep options open.  \\n\\nWould you like a suggested 1-year learning plan or help choosing your first project? 😊\"}"
      ]
     },
     "execution_count": 6,
     "metadata": {},
     "output_type": "execute_result"
    }
   ],
   "source": [
    "conversation({\"question\": \"If i want to be software engineer also what should i learn now?\"})"
   ]
  },
  {
   "cell_type": "code",
   "execution_count": 7,
   "id": "105762a7",
   "metadata": {},
   "outputs": [
    {
     "name": "stdout",
     "output_type": "stream",
     "text": [
      "\n",
      "\n",
      "\u001b[1m> Entering new LLMChain chain...\u001b[0m\n",
      "Prompt after formatting:\n",
      "\u001b[32;1m\u001b[1;3mSystem: You are a nice chatbot having a conversation with a human.\n",
      "Human: hi\n",
      "AI: <think>\n",
      "Okay, the user said \"hi\". I should respond in a friendly and welcoming way. Let me make sure to keep the tone positive. Maybe add an emoji to keep it approachable. I should ask how I can assist them. Let me check if there's anything else needed. No, that should cover it. Ready to send.\n",
      "</think>\n",
      "\n",
      "Hi there! 😊 How can I assist you today?\n",
      "Human: My name is Emon and I want to be machine learning engineer.\n",
      "AI: <think>\n",
      "Okay, the user is Emon and wants to become a machine learning engineer. I should acknowledge their name and goal first. Let me start with a friendly greeting to make them feel welcome.\n",
      "\n",
      "I need to ask them about their current background to provide tailored advice. Maybe they have some experience in programming or data science already. I should ask if they're familiar with Python and libraries like NumPy or TensorFlow. That's a common starting point for ML.\n",
      "\n",
      "Also, it's important to know if they have a formal education in computer science or a related field. If not, they might need to take some online courses or get certifications. Platforms like Coursera or edX come to mind.\n",
      "\n",
      "I should mention the importance of building a portfolio. Emon might benefit from working on personal projects or contributing to open-source. Maybe suggest some beginner projects like a recommendation system or image classification.\n",
      "\n",
      "Soft skills are another aspect. Communication and teamwork are crucial in ML roles, so I can advise them to collaborate on projects or join study groups.\n",
      "\n",
      "Finally, staying updated with the latest research and trends in ML is key. Following conferences like NeurIPS or reading arXiv papers could help. I should make sure to keep the tone encouraging and supportive, offering help with resources if they need it.\n",
      "</think>\n",
      "\n",
      "Hi Emon! That's an exciting goal—machine learning is a dynamic and impactful field. 😊 \n",
      "\n",
      "To help guide you, could you share a bit about your current background? For example:\n",
      "- Are you already familiar with programming (especially Python)?\n",
      "- Have you taken courses in math (linear algebra, calculus, probability) or computer science?\n",
      "- Are you working on any projects or learning resources already?\n",
      "\n",
      "This will help me tailor advice to your starting point. Also, what aspects of machine learning interest you most? (e.g., deep learning, computer vision, NLP, data science pipelines, etc.)\n",
      "Human: If i want to be software engineer also what should i learn now?\n",
      "AI: <think>\n",
      "Okay, Emon wants to become both a machine learning engineer and a software engineer. Let me break this down.\n",
      "\n",
      "First, I need to recall the key areas for each role. For software engineering, it's about programming, algorithms, data structures, and software development practices. For machine learning, it's more about math, algorithms, and data handling. Since Emon is aiming for both, there's overlap, but also distinct areas to cover.\n",
      "\n",
      "The user is asking what they should learn now to pursue both careers. So the answer needs to address the intersection and the unique parts of each field.\n",
      "\n",
      "Starting with the foundation. For software engineering, Python is essential, but other languages like Java or C++ are also used. Since machine learning heavily uses Python, focusing on Python first makes sense. Then, maybe touch on other languages later.\n",
      "\n",
      "Next, core software engineering topics: data structures and algorithms are crucial for coding interviews and building efficient software. They also come up in machine learning for understanding algorithms, so this is a point of overlap.\n",
      "\n",
      "Object-oriented programming and design patterns are important for software engineering. For machine learning, maybe less so, but understanding how to design systems is useful when deploying models.\n",
      "\n",
      "Web development isn't directly related to machine learning, but full-stack skills can be useful for building applications that integrate ML models. So suggesting frameworks like React or Django might be helpful.\n",
      "\n",
      "Version control with Git is a must for any software engineer. It's also used in collaborative ML projects, so definitely important.\n",
      "\n",
      "For machine learning, math foundations are key: linear algebra, calculus, probability. These are the backbone for understanding ML algorithms. Then, machine learning itself: supervised, unsupervised, deep learning. Tools like Scikit-learn, TensorFlow, PyTorch are standard.\n",
      "\n",
      "Data handling is another area where both fields overlap. Software engineers deal with data structures, databases; ML engineers work with data preprocessing and pipelines. So learning SQL, data wrangling with Pandas, and data visualization tools like Matplotlib or Seaborn would be beneficial.\n",
      "\n",
      "Projects are important. Combining both fields could mean building a web app that uses an ML model. Maybe a recommendation system or image classifier integrated into a web app. This shows both software and ML skills.\n",
      "\n",
      "Soft skills like problem-solving and collaboration are essential. Also, staying updated with industry trends and contributing to open-source projects can help build experience.\n",
      "\n",
      "I should also mention the importance of choosing a path. If Emon is unsure, focusing on one area first might be better. But since they want both, the advice should balance both sets of skills without overwhelming.\n",
      "\n",
      "Maybe structure the answer into sections: foundation for both, core software engineering, machine learning specifics, combining both, and tips on how to approach the learning journey. That way, it's organized and covers all the necessary points without being too long.\n",
      "\n",
      "Check if there are any common tools or skills that bridge both fields. For example, Python is used in both. Docker and cloud services like AWS are relevant for deploying ML models in production, which ties into software engineering practices.\n",
      "\n",
      "Also, consider the time management aspect. Learning both is a big undertaking, so advising to prioritize based on current knowledge and interests. Maybe start with the overlapping areas first, then branch out into specialized topics.\n",
      "\n",
      "Finally, recommend resources for each area, like specific courses, books, or projects. This gives Emon actionable steps to follow.\n",
      "</think>\n",
      "\n",
      "To become both a **software engineer** and a **machine learning engineer**, you’ll need to build a strong foundation in **both technical and interdisciplinary skills**. Here’s a structured roadmap tailored to your goals:\n",
      "\n",
      "---\n",
      "\n",
      "### **1. Foundation for Both Roles**  \n",
      "These skills are shared between software engineering and machine learning engineering:  \n",
      "- **Programming**:  \n",
      "  - **Python** (must-have for ML, widely used in software engineering).  \n",
      "  - Learn **Python libraries** like NumPy, Pandas, and Scikit-learn (for ML) + Django/Flask (for web apps).  \n",
      "  - Optional: Learn **C++ or Java** if you want to work on performance-critical systems.  \n",
      "- **Math/Algorithms**:  \n",
      "  - **Linear algebra, calculus, probability, and statistics** (core for ML).  \n",
      "  - **Data structures and algorithms** (crucial for coding interviews and efficient software design).  \n",
      "- **Version Control**: Git/GitHub (essential for collaboration in both fields).  \n",
      "\n",
      "---\n",
      "\n",
      "### **2. Core Software Engineering Skills**  \n",
      "Focus on these if you want to build systems, APIs, or applications:  \n",
      "- **Data Structures & Algorithms**:  \n",
      "  - Practice coding problems on platforms like LeetCode, HackerRank, or Excalibur.  \n",
      "  - Understand time/space complexity (Big O).  \n",
      "- **Software Design**:  \n",
      "  - Learn **object-oriented programming (OOP)** and design patterns (e.g., MVC, SOLID principles).  \n",
      "  - Study **API design** (REST, GraphQL) and **microservices architecture**.  \n",
      "- **Web Development**:  \n",
      "  - Backend (Python: Django/Flask; JavaScript: Node.js/Express).  \n",
      "  - Frontend (HTML/CSS/JavaScript, React/Vue for modern UIs).  \n",
      "- **Databases**:  \n",
      "  - SQL (PostgreSQL, MySQL) and NoSQL (MongoDB) for data storage/retrieval.  \n",
      "- **DevOps/Tools**:  \n",
      "  - Learn Docker, Kubernetes, and CI/CD pipelines (Jenkins, GitHub Actions).  \n",
      "  - Basics of cloud platforms (AWS, GCP, Azure).  \n",
      "\n",
      "---\n",
      "\n",
      "### **3. Machine Learning Engineering Specifics**  \n",
      "Build these to work with models, data pipelines, and ML systems:  \n",
      "- **ML Fundamentals**:  \n",
      "  - Supervised/Unsupervised Learning, Deep Learning, Reinforcement Learning.  \n",
      "  - Tools: Scikit-learn, TensorFlow/PyTorch, Keras.  \n",
      "- **Data Preprocessing**:  \n",
      "  - Data cleaning, feature engineering, and ETL pipelines (Pandas, SQL).  \n",
      "- **Model Deployment**:  \n",
      "  - Learn to deploy models as APIs (Flask/FastAPI) or using cloud platforms (AWS SageMaker).  \n",
      "  - Tools like **Docker, FastAPI, and MLflow** for reproducibility and monitoring.  \n",
      "- **MLOps**:  \n",
      "  - Model versioning, CI/CD for ML, hyperparameter tuning (Optuna, Ray Tune).  \n",
      "\n",
      "---\n",
      "\n",
      "### **4. Combine Both Fields**  \n",
      "To stand out, build projects that merge software and ML:  \n",
      "- **Example Projects**:  \n",
      "  - A **web app** (React + Flask) that uses an ML model for predictions (e.g., image classifier, chatbot).  \n",
      "  - A **recommendation system** integrated into a full-stack application.  \n",
      "  - A **real-time analytics dashboard** using ML for insights.  \n",
      "- **Skills to Bridge the Gap**:  \n",
      "  - Learn **cloud services** (AWS Lambda for serverless ML APIs).  \n",
      "  - Study **APIs** to connect ML models with software systems.  \n",
      "\n",
      "---\n",
      "\n",
      "### **5. Practical Steps to Start Now**  \n",
      "1. **Learn Python** thoroughly (if not already).  \n",
      "2. **Take a beginner’s ML course** (e.g., Andrew Ng’s “Machine Learning” on Coursera).  \n",
      "3. **Build a simple ML project** (e.g., spam classifier using Scikit-learn).  \n",
      "4. **Create a basic web app** with Python (Flask/Django) or JavaScript (Node.js).  \n",
      "5. **Contribute to open-source projects** on GitHub to practice both coding and ML.  \n",
      "\n",
      "---\n",
      "\n",
      "### **6. Long-Term Strategy**  \n",
      "- **First 6–12 months**: Focus on Python, data structures/algorithms, and basic ML.  \n",
      "- **Next 6–12 months**: Dive into software design (OOP, APIs) and advanced ML (DL, NLP).  \n",
      "- **Parallel**: Build 2–3 full-stack projects with ML components (e.g., “Sentiment Analysis Dashboard”).  \n",
      "\n",
      "---\n",
      "\n",
      "### **7. Resources**  \n",
      "- **Books**:  \n",
      "  - *Clean Code* (software engineering) by Robert C. Martin.  \n",
      "  - *Hands-On Machine Learning with Scikit-Learn, Keras, and TensorFlow* by Aurélien Géron.  \n",
      "- **Courses**:  \n",
      "  - Software: [FreeCodeCamp](https://www.freecodecamp.org/), [CS50 by Harvard](https://cs50.harvard.edu/).  \n",
      "  - ML: [Deep Learning Specialization by Andrew Ng](https://www.coursera.org/specializations/deep-learning).  \n",
      "- **Communities**: GitHub, Kaggle (for ML), and LeetCode forums.  \n",
      "\n",
      "---\n",
      "\n",
      "### **Key Question to Ask Yourself**  \n",
      "- Are you more interested in **building systems** (software engineering) or **solving data-driven problems** (ML engineering)?  \n",
      "  - If unsure, focus on **Python, ML, and web dev** first to keep options open.  \n",
      "\n",
      "Would you like a suggested 1-year learning plan or help choosing your first project? 😊\n",
      "Human: Do you remember my name?\u001b[0m\n",
      "\n",
      "\u001b[1m> Finished chain.\u001b[0m\n"
     ]
    },
    {
     "data": {
      "text/plain": [
       "{'question': 'Do you remember my name?',\n",
       " 'chat_history': [HumanMessage(content='hi', additional_kwargs={}, response_metadata={}),\n",
       "  AIMessage(content='<think>\\nOkay, the user said \"hi\". I should respond in a friendly and welcoming way. Let me make sure to keep the tone positive. Maybe add an emoji to keep it approachable. I should ask how I can assist them. Let me check if there\\'s anything else needed. No, that should cover it. Ready to send.\\n</think>\\n\\nHi there! 😊 How can I assist you today?', additional_kwargs={}, response_metadata={}),\n",
       "  HumanMessage(content='My name is Emon and I want to be machine learning engineer.', additional_kwargs={}, response_metadata={}),\n",
       "  AIMessage(content=\"<think>\\nOkay, the user is Emon and wants to become a machine learning engineer. I should acknowledge their name and goal first. Let me start with a friendly greeting to make them feel welcome.\\n\\nI need to ask them about their current background to provide tailored advice. Maybe they have some experience in programming or data science already. I should ask if they're familiar with Python and libraries like NumPy or TensorFlow. That's a common starting point for ML.\\n\\nAlso, it's important to know if they have a formal education in computer science or a related field. If not, they might need to take some online courses or get certifications. Platforms like Coursera or edX come to mind.\\n\\nI should mention the importance of building a portfolio. Emon might benefit from working on personal projects or contributing to open-source. Maybe suggest some beginner projects like a recommendation system or image classification.\\n\\nSoft skills are another aspect. Communication and teamwork are crucial in ML roles, so I can advise them to collaborate on projects or join study groups.\\n\\nFinally, staying updated with the latest research and trends in ML is key. Following conferences like NeurIPS or reading arXiv papers could help. I should make sure to keep the tone encouraging and supportive, offering help with resources if they need it.\\n</think>\\n\\nHi Emon! That's an exciting goal—machine learning is a dynamic and impactful field. 😊 \\n\\nTo help guide you, could you share a bit about your current background? For example:\\n- Are you already familiar with programming (especially Python)?\\n- Have you taken courses in math (linear algebra, calculus, probability) or computer science?\\n- Are you working on any projects or learning resources already?\\n\\nThis will help me tailor advice to your starting point. Also, what aspects of machine learning interest you most? (e.g., deep learning, computer vision, NLP, data science pipelines, etc.)\", additional_kwargs={}, response_metadata={}),\n",
       "  HumanMessage(content='If i want to be software engineer also what should i learn now?', additional_kwargs={}, response_metadata={}),\n",
       "  AIMessage(content=\"<think>\\nOkay, Emon wants to become both a machine learning engineer and a software engineer. Let me break this down.\\n\\nFirst, I need to recall the key areas for each role. For software engineering, it's about programming, algorithms, data structures, and software development practices. For machine learning, it's more about math, algorithms, and data handling. Since Emon is aiming for both, there's overlap, but also distinct areas to cover.\\n\\nThe user is asking what they should learn now to pursue both careers. So the answer needs to address the intersection and the unique parts of each field.\\n\\nStarting with the foundation. For software engineering, Python is essential, but other languages like Java or C++ are also used. Since machine learning heavily uses Python, focusing on Python first makes sense. Then, maybe touch on other languages later.\\n\\nNext, core software engineering topics: data structures and algorithms are crucial for coding interviews and building efficient software. They also come up in machine learning for understanding algorithms, so this is a point of overlap.\\n\\nObject-oriented programming and design patterns are important for software engineering. For machine learning, maybe less so, but understanding how to design systems is useful when deploying models.\\n\\nWeb development isn't directly related to machine learning, but full-stack skills can be useful for building applications that integrate ML models. So suggesting frameworks like React or Django might be helpful.\\n\\nVersion control with Git is a must for any software engineer. It's also used in collaborative ML projects, so definitely important.\\n\\nFor machine learning, math foundations are key: linear algebra, calculus, probability. These are the backbone for understanding ML algorithms. Then, machine learning itself: supervised, unsupervised, deep learning. Tools like Scikit-learn, TensorFlow, PyTorch are standard.\\n\\nData handling is another area where both fields overlap. Software engineers deal with data structures, databases; ML engineers work with data preprocessing and pipelines. So learning SQL, data wrangling with Pandas, and data visualization tools like Matplotlib or Seaborn would be beneficial.\\n\\nProjects are important. Combining both fields could mean building a web app that uses an ML model. Maybe a recommendation system or image classifier integrated into a web app. This shows both software and ML skills.\\n\\nSoft skills like problem-solving and collaboration are essential. Also, staying updated with industry trends and contributing to open-source projects can help build experience.\\n\\nI should also mention the importance of choosing a path. If Emon is unsure, focusing on one area first might be better. But since they want both, the advice should balance both sets of skills without overwhelming.\\n\\nMaybe structure the answer into sections: foundation for both, core software engineering, machine learning specifics, combining both, and tips on how to approach the learning journey. That way, it's organized and covers all the necessary points without being too long.\\n\\nCheck if there are any common tools or skills that bridge both fields. For example, Python is used in both. Docker and cloud services like AWS are relevant for deploying ML models in production, which ties into software engineering practices.\\n\\nAlso, consider the time management aspect. Learning both is a big undertaking, so advising to prioritize based on current knowledge and interests. Maybe start with the overlapping areas first, then branch out into specialized topics.\\n\\nFinally, recommend resources for each area, like specific courses, books, or projects. This gives Emon actionable steps to follow.\\n</think>\\n\\nTo become both a **software engineer** and a **machine learning engineer**, you’ll need to build a strong foundation in **both technical and interdisciplinary skills**. Here’s a structured roadmap tailored to your goals:\\n\\n---\\n\\n### **1. Foundation for Both Roles**  \\nThese skills are shared between software engineering and machine learning engineering:  \\n- **Programming**:  \\n  - **Python** (must-have for ML, widely used in software engineering).  \\n  - Learn **Python libraries** like NumPy, Pandas, and Scikit-learn (for ML) + Django/Flask (for web apps).  \\n  - Optional: Learn **C++ or Java** if you want to work on performance-critical systems.  \\n- **Math/Algorithms**:  \\n  - **Linear algebra, calculus, probability, and statistics** (core for ML).  \\n  - **Data structures and algorithms** (crucial for coding interviews and efficient software design).  \\n- **Version Control**: Git/GitHub (essential for collaboration in both fields).  \\n\\n---\\n\\n### **2. Core Software Engineering Skills**  \\nFocus on these if you want to build systems, APIs, or applications:  \\n- **Data Structures & Algorithms**:  \\n  - Practice coding problems on platforms like LeetCode, HackerRank, or Excalibur.  \\n  - Understand time/space complexity (Big O).  \\n- **Software Design**:  \\n  - Learn **object-oriented programming (OOP)** and design patterns (e.g., MVC, SOLID principles).  \\n  - Study **API design** (REST, GraphQL) and **microservices architecture**.  \\n- **Web Development**:  \\n  - Backend (Python: Django/Flask; JavaScript: Node.js/Express).  \\n  - Frontend (HTML/CSS/JavaScript, React/Vue for modern UIs).  \\n- **Databases**:  \\n  - SQL (PostgreSQL, MySQL) and NoSQL (MongoDB) for data storage/retrieval.  \\n- **DevOps/Tools**:  \\n  - Learn Docker, Kubernetes, and CI/CD pipelines (Jenkins, GitHub Actions).  \\n  - Basics of cloud platforms (AWS, GCP, Azure).  \\n\\n---\\n\\n### **3. Machine Learning Engineering Specifics**  \\nBuild these to work with models, data pipelines, and ML systems:  \\n- **ML Fundamentals**:  \\n  - Supervised/Unsupervised Learning, Deep Learning, Reinforcement Learning.  \\n  - Tools: Scikit-learn, TensorFlow/PyTorch, Keras.  \\n- **Data Preprocessing**:  \\n  - Data cleaning, feature engineering, and ETL pipelines (Pandas, SQL).  \\n- **Model Deployment**:  \\n  - Learn to deploy models as APIs (Flask/FastAPI) or using cloud platforms (AWS SageMaker).  \\n  - Tools like **Docker, FastAPI, and MLflow** for reproducibility and monitoring.  \\n- **MLOps**:  \\n  - Model versioning, CI/CD for ML, hyperparameter tuning (Optuna, Ray Tune).  \\n\\n---\\n\\n### **4. Combine Both Fields**  \\nTo stand out, build projects that merge software and ML:  \\n- **Example Projects**:  \\n  - A **web app** (React + Flask) that uses an ML model for predictions (e.g., image classifier, chatbot).  \\n  - A **recommendation system** integrated into a full-stack application.  \\n  - A **real-time analytics dashboard** using ML for insights.  \\n- **Skills to Bridge the Gap**:  \\n  - Learn **cloud services** (AWS Lambda for serverless ML APIs).  \\n  - Study **APIs** to connect ML models with software systems.  \\n\\n---\\n\\n### **5. Practical Steps to Start Now**  \\n1. **Learn Python** thoroughly (if not already).  \\n2. **Take a beginner’s ML course** (e.g., Andrew Ng’s “Machine Learning” on Coursera).  \\n3. **Build a simple ML project** (e.g., spam classifier using Scikit-learn).  \\n4. **Create a basic web app** with Python (Flask/Django) or JavaScript (Node.js).  \\n5. **Contribute to open-source projects** on GitHub to practice both coding and ML.  \\n\\n---\\n\\n### **6. Long-Term Strategy**  \\n- **First 6–12 months**: Focus on Python, data structures/algorithms, and basic ML.  \\n- **Next 6–12 months**: Dive into software design (OOP, APIs) and advanced ML (DL, NLP).  \\n- **Parallel**: Build 2–3 full-stack projects with ML components (e.g., “Sentiment Analysis Dashboard”).  \\n\\n---\\n\\n### **7. Resources**  \\n- **Books**:  \\n  - *Clean Code* (software engineering) by Robert C. Martin.  \\n  - *Hands-On Machine Learning with Scikit-Learn, Keras, and TensorFlow* by Aurélien Géron.  \\n- **Courses**:  \\n  - Software: [FreeCodeCamp](https://www.freecodecamp.org/), [CS50 by Harvard](https://cs50.harvard.edu/).  \\n  - ML: [Deep Learning Specialization by Andrew Ng](https://www.coursera.org/specializations/deep-learning).  \\n- **Communities**: GitHub, Kaggle (for ML), and LeetCode forums.  \\n\\n---\\n\\n### **Key Question to Ask Yourself**  \\n- Are you more interested in **building systems** (software engineering) or **solving data-driven problems** (ML engineering)?  \\n  - If unsure, focus on **Python, ML, and web dev** first to keep options open.  \\n\\nWould you like a suggested 1-year learning plan or help choosing your first project? 😊\", additional_kwargs={}, response_metadata={}),\n",
       "  HumanMessage(content='Do you remember my name?', additional_kwargs={}, response_metadata={}),\n",
       "  AIMessage(content=\"<think>\\nOkay, the user is asking if I remember their name. Let me check the conversation history.\\n\\nLooking back, the user mentioned their name is Emon when discussing their goal to become a machine learning engineer. I acknowledged their name in my previous response. Now, Emon is asking if I remember their name. \\n\\nI need to confirm that I do remember it. It's important to acknowledge their name to build rapport and show that I'm paying attention. I should respond warmly, restate their name, and perhaps ask how they'd like to proceed. Let me make sure the response is friendly and continues the conversation smoothly. Also, check if there's anything else they need help with after confirming their name.\\n</think>\\n\\nYes, Emon! 😊 I remember your name. How would you like to proceed? Are there specific topics you'd like to dive into, or need help planning your next steps toward your goals?\", additional_kwargs={}, response_metadata={})],\n",
       " 'text': \"<think>\\nOkay, the user is asking if I remember their name. Let me check the conversation history.\\n\\nLooking back, the user mentioned their name is Emon when discussing their goal to become a machine learning engineer. I acknowledged their name in my previous response. Now, Emon is asking if I remember their name. \\n\\nI need to confirm that I do remember it. It's important to acknowledge their name to build rapport and show that I'm paying attention. I should respond warmly, restate their name, and perhaps ask how they'd like to proceed. Let me make sure the response is friendly and continues the conversation smoothly. Also, check if there's anything else they need help with after confirming their name.\\n</think>\\n\\nYes, Emon! 😊 I remember your name. How would you like to proceed? Are there specific topics you'd like to dive into, or need help planning your next steps toward your goals?\"}"
      ]
     },
     "execution_count": 7,
     "metadata": {},
     "output_type": "execute_result"
    }
   ],
   "source": [
    "conversation({\"question\": \"Do you remember my name?\"})"
   ]
  },
  {
   "cell_type": "code",
   "execution_count": 8,
   "id": "21e64c7f",
   "metadata": {},
   "outputs": [
    {
     "name": "stdout",
     "output_type": "stream",
     "text": [
      "[HumanMessage(content='hi', additional_kwargs={}, response_metadata={}), AIMessage(content='<think>\\nOkay, the user said \"hi\". I should respond in a friendly and welcoming way. Let me make sure to keep the tone positive. Maybe add an emoji to keep it approachable. I should ask how I can assist them. Let me check if there\\'s anything else needed. No, that should cover it. Ready to send.\\n</think>\\n\\nHi there! 😊 How can I assist you today?', additional_kwargs={}, response_metadata={}), HumanMessage(content='My name is Emon and I want to be machine learning engineer.', additional_kwargs={}, response_metadata={}), AIMessage(content=\"<think>\\nOkay, the user is Emon and wants to become a machine learning engineer. I should acknowledge their name and goal first. Let me start with a friendly greeting to make them feel welcome.\\n\\nI need to ask them about their current background to provide tailored advice. Maybe they have some experience in programming or data science already. I should ask if they're familiar with Python and libraries like NumPy or TensorFlow. That's a common starting point for ML.\\n\\nAlso, it's important to know if they have a formal education in computer science or a related field. If not, they might need to take some online courses or get certifications. Platforms like Coursera or edX come to mind.\\n\\nI should mention the importance of building a portfolio. Emon might benefit from working on personal projects or contributing to open-source. Maybe suggest some beginner projects like a recommendation system or image classification.\\n\\nSoft skills are another aspect. Communication and teamwork are crucial in ML roles, so I can advise them to collaborate on projects or join study groups.\\n\\nFinally, staying updated with the latest research and trends in ML is key. Following conferences like NeurIPS or reading arXiv papers could help. I should make sure to keep the tone encouraging and supportive, offering help with resources if they need it.\\n</think>\\n\\nHi Emon! That's an exciting goal—machine learning is a dynamic and impactful field. 😊 \\n\\nTo help guide you, could you share a bit about your current background? For example:\\n- Are you already familiar with programming (especially Python)?\\n- Have you taken courses in math (linear algebra, calculus, probability) or computer science?\\n- Are you working on any projects or learning resources already?\\n\\nThis will help me tailor advice to your starting point. Also, what aspects of machine learning interest you most? (e.g., deep learning, computer vision, NLP, data science pipelines, etc.)\", additional_kwargs={}, response_metadata={}), HumanMessage(content='If i want to be software engineer also what should i learn now?', additional_kwargs={}, response_metadata={}), AIMessage(content=\"<think>\\nOkay, Emon wants to become both a machine learning engineer and a software engineer. Let me break this down.\\n\\nFirst, I need to recall the key areas for each role. For software engineering, it's about programming, algorithms, data structures, and software development practices. For machine learning, it's more about math, algorithms, and data handling. Since Emon is aiming for both, there's overlap, but also distinct areas to cover.\\n\\nThe user is asking what they should learn now to pursue both careers. So the answer needs to address the intersection and the unique parts of each field.\\n\\nStarting with the foundation. For software engineering, Python is essential, but other languages like Java or C++ are also used. Since machine learning heavily uses Python, focusing on Python first makes sense. Then, maybe touch on other languages later.\\n\\nNext, core software engineering topics: data structures and algorithms are crucial for coding interviews and building efficient software. They also come up in machine learning for understanding algorithms, so this is a point of overlap.\\n\\nObject-oriented programming and design patterns are important for software engineering. For machine learning, maybe less so, but understanding how to design systems is useful when deploying models.\\n\\nWeb development isn't directly related to machine learning, but full-stack skills can be useful for building applications that integrate ML models. So suggesting frameworks like React or Django might be helpful.\\n\\nVersion control with Git is a must for any software engineer. It's also used in collaborative ML projects, so definitely important.\\n\\nFor machine learning, math foundations are key: linear algebra, calculus, probability. These are the backbone for understanding ML algorithms. Then, machine learning itself: supervised, unsupervised, deep learning. Tools like Scikit-learn, TensorFlow, PyTorch are standard.\\n\\nData handling is another area where both fields overlap. Software engineers deal with data structures, databases; ML engineers work with data preprocessing and pipelines. So learning SQL, data wrangling with Pandas, and data visualization tools like Matplotlib or Seaborn would be beneficial.\\n\\nProjects are important. Combining both fields could mean building a web app that uses an ML model. Maybe a recommendation system or image classifier integrated into a web app. This shows both software and ML skills.\\n\\nSoft skills like problem-solving and collaboration are essential. Also, staying updated with industry trends and contributing to open-source projects can help build experience.\\n\\nI should also mention the importance of choosing a path. If Emon is unsure, focusing on one area first might be better. But since they want both, the advice should balance both sets of skills without overwhelming.\\n\\nMaybe structure the answer into sections: foundation for both, core software engineering, machine learning specifics, combining both, and tips on how to approach the learning journey. That way, it's organized and covers all the necessary points without being too long.\\n\\nCheck if there are any common tools or skills that bridge both fields. For example, Python is used in both. Docker and cloud services like AWS are relevant for deploying ML models in production, which ties into software engineering practices.\\n\\nAlso, consider the time management aspect. Learning both is a big undertaking, so advising to prioritize based on current knowledge and interests. Maybe start with the overlapping areas first, then branch out into specialized topics.\\n\\nFinally, recommend resources for each area, like specific courses, books, or projects. This gives Emon actionable steps to follow.\\n</think>\\n\\nTo become both a **software engineer** and a **machine learning engineer**, you’ll need to build a strong foundation in **both technical and interdisciplinary skills**. Here’s a structured roadmap tailored to your goals:\\n\\n---\\n\\n### **1. Foundation for Both Roles**  \\nThese skills are shared between software engineering and machine learning engineering:  \\n- **Programming**:  \\n  - **Python** (must-have for ML, widely used in software engineering).  \\n  - Learn **Python libraries** like NumPy, Pandas, and Scikit-learn (for ML) + Django/Flask (for web apps).  \\n  - Optional: Learn **C++ or Java** if you want to work on performance-critical systems.  \\n- **Math/Algorithms**:  \\n  - **Linear algebra, calculus, probability, and statistics** (core for ML).  \\n  - **Data structures and algorithms** (crucial for coding interviews and efficient software design).  \\n- **Version Control**: Git/GitHub (essential for collaboration in both fields).  \\n\\n---\\n\\n### **2. Core Software Engineering Skills**  \\nFocus on these if you want to build systems, APIs, or applications:  \\n- **Data Structures & Algorithms**:  \\n  - Practice coding problems on platforms like LeetCode, HackerRank, or Excalibur.  \\n  - Understand time/space complexity (Big O).  \\n- **Software Design**:  \\n  - Learn **object-oriented programming (OOP)** and design patterns (e.g., MVC, SOLID principles).  \\n  - Study **API design** (REST, GraphQL) and **microservices architecture**.  \\n- **Web Development**:  \\n  - Backend (Python: Django/Flask; JavaScript: Node.js/Express).  \\n  - Frontend (HTML/CSS/JavaScript, React/Vue for modern UIs).  \\n- **Databases**:  \\n  - SQL (PostgreSQL, MySQL) and NoSQL (MongoDB) for data storage/retrieval.  \\n- **DevOps/Tools**:  \\n  - Learn Docker, Kubernetes, and CI/CD pipelines (Jenkins, GitHub Actions).  \\n  - Basics of cloud platforms (AWS, GCP, Azure).  \\n\\n---\\n\\n### **3. Machine Learning Engineering Specifics**  \\nBuild these to work with models, data pipelines, and ML systems:  \\n- **ML Fundamentals**:  \\n  - Supervised/Unsupervised Learning, Deep Learning, Reinforcement Learning.  \\n  - Tools: Scikit-learn, TensorFlow/PyTorch, Keras.  \\n- **Data Preprocessing**:  \\n  - Data cleaning, feature engineering, and ETL pipelines (Pandas, SQL).  \\n- **Model Deployment**:  \\n  - Learn to deploy models as APIs (Flask/FastAPI) or using cloud platforms (AWS SageMaker).  \\n  - Tools like **Docker, FastAPI, and MLflow** for reproducibility and monitoring.  \\n- **MLOps**:  \\n  - Model versioning, CI/CD for ML, hyperparameter tuning (Optuna, Ray Tune).  \\n\\n---\\n\\n### **4. Combine Both Fields**  \\nTo stand out, build projects that merge software and ML:  \\n- **Example Projects**:  \\n  - A **web app** (React + Flask) that uses an ML model for predictions (e.g., image classifier, chatbot).  \\n  - A **recommendation system** integrated into a full-stack application.  \\n  - A **real-time analytics dashboard** using ML for insights.  \\n- **Skills to Bridge the Gap**:  \\n  - Learn **cloud services** (AWS Lambda for serverless ML APIs).  \\n  - Study **APIs** to connect ML models with software systems.  \\n\\n---\\n\\n### **5. Practical Steps to Start Now**  \\n1. **Learn Python** thoroughly (if not already).  \\n2. **Take a beginner’s ML course** (e.g., Andrew Ng’s “Machine Learning” on Coursera).  \\n3. **Build a simple ML project** (e.g., spam classifier using Scikit-learn).  \\n4. **Create a basic web app** with Python (Flask/Django) or JavaScript (Node.js).  \\n5. **Contribute to open-source projects** on GitHub to practice both coding and ML.  \\n\\n---\\n\\n### **6. Long-Term Strategy**  \\n- **First 6–12 months**: Focus on Python, data structures/algorithms, and basic ML.  \\n- **Next 6–12 months**: Dive into software design (OOP, APIs) and advanced ML (DL, NLP).  \\n- **Parallel**: Build 2–3 full-stack projects with ML components (e.g., “Sentiment Analysis Dashboard”).  \\n\\n---\\n\\n### **7. Resources**  \\n- **Books**:  \\n  - *Clean Code* (software engineering) by Robert C. Martin.  \\n  - *Hands-On Machine Learning with Scikit-Learn, Keras, and TensorFlow* by Aurélien Géron.  \\n- **Courses**:  \\n  - Software: [FreeCodeCamp](https://www.freecodecamp.org/), [CS50 by Harvard](https://cs50.harvard.edu/).  \\n  - ML: [Deep Learning Specialization by Andrew Ng](https://www.coursera.org/specializations/deep-learning).  \\n- **Communities**: GitHub, Kaggle (for ML), and LeetCode forums.  \\n\\n---\\n\\n### **Key Question to Ask Yourself**  \\n- Are you more interested in **building systems** (software engineering) or **solving data-driven problems** (ML engineering)?  \\n  - If unsure, focus on **Python, ML, and web dev** first to keep options open.  \\n\\nWould you like a suggested 1-year learning plan or help choosing your first project? 😊\", additional_kwargs={}, response_metadata={}), HumanMessage(content='Do you remember my name?', additional_kwargs={}, response_metadata={}), AIMessage(content=\"<think>\\nOkay, the user is asking if I remember their name. Let me check the conversation history.\\n\\nLooking back, the user mentioned their name is Emon when discussing their goal to become a machine learning engineer. I acknowledged their name in my previous response. Now, Emon is asking if I remember their name. \\n\\nI need to confirm that I do remember it. It's important to acknowledge their name to build rapport and show that I'm paying attention. I should respond warmly, restate their name, and perhaps ask how they'd like to proceed. Let me make sure the response is friendly and continues the conversation smoothly. Also, check if there's anything else they need help with after confirming their name.\\n</think>\\n\\nYes, Emon! 😊 I remember your name. How would you like to proceed? Are there specific topics you'd like to dive into, or need help planning your next steps toward your goals?\", additional_kwargs={}, response_metadata={})]\n"
     ]
    }
   ],
   "source": [
    "print(memory.buffer)"
   ]
  },
  {
   "cell_type": "markdown",
   "id": "cdf02f77",
   "metadata": {},
   "source": [
    "## ***🧠 Conversation Buffer Window Memory***"
   ]
  },
  {
   "cell_type": "code",
   "execution_count": 9,
   "id": "f5215817",
   "metadata": {},
   "outputs": [
    {
     "name": "stderr",
     "output_type": "stream",
     "text": [
      "C:\\Users\\emon1\\AppData\\Local\\Temp\\ipykernel_7324\\1818575590.py:6: LangChainDeprecationWarning: Please see the migration guide at: https://python.langchain.com/docs/versions/migrating_memory/\n",
      "  window_memory = ConversationBufferWindowMemory(k=3)\n",
      "C:\\Users\\emon1\\AppData\\Local\\Temp\\ipykernel_7324\\1818575590.py:8: LangChainDeprecationWarning: The class `ConversationChain` was deprecated in LangChain 0.2.7 and will be removed in 1.0. Use :meth:`~RunnableWithMessageHistory: https://python.langchain.com/v0.2/api_reference/core/runnables/langchain_core.runnables.history.RunnableWithMessageHistory.html` instead.\n",
      "  conversation_window = ConversationChain(\n"
     ]
    }
   ],
   "source": [
    "# Only remembers the **last K interactions** (short-term memory window).\n",
    "\n",
    "from langchain.memory import ConversationBufferWindowMemory\n",
    "from langchain.chains import ConversationChain\n",
    "\n",
    "window_memory = ConversationBufferWindowMemory(k=3)\n",
    "\n",
    "conversation_window = ConversationChain(\n",
    "    llm=llm,\n",
    "    memory=window_memory,\n",
    "    verbose=True\n",
    ")"
   ]
  },
  {
   "cell_type": "code",
   "execution_count": 10,
   "id": "2d9b2db6",
   "metadata": {},
   "outputs": [
    {
     "name": "stdout",
     "output_type": "stream",
     "text": [
      "\n",
      "\n",
      "\u001b[1m> Entering new ConversationChain chain...\u001b[0m\n",
      "Prompt after formatting:\n",
      "\u001b[32;1m\u001b[1;3mThe following is a friendly conversation between a human and an AI. The AI is talkative and provides lots of specific details from its context. If the AI does not know the answer to a question, it truthfully says it does not know.\n",
      "\n",
      "Current conversation:\n",
      "\n",
      "Human: Hi, my name is Bappy\n",
      "AI:\u001b[0m\n",
      "\n",
      "\u001b[1m> Finished chain.\u001b[0m\n"
     ]
    },
    {
     "data": {
      "text/plain": [
       "{'input': 'Hi, my name is Bappy',\n",
       " 'history': '',\n",
       " 'response': '<think>\\nOkay, the user introduced themselves as Bappy. I need to respond in a friendly and conversational way. Since there\\'s no prior context, I should start by acknowledging their introduction. Maybe add an emoji to keep it approachable. Let me make sure to invite them to ask questions or share more about themselves. Keep it open-ended so they feel comfortable to continue the conversation. Alright, something like, \"Hi Bappy! 😊 Nice to meet you. How can I assist you today?\" That sounds good. Let me check for any errors and ensure the tone is warm and inviting.\\n</think>\\n\\nHi Bappy! 😊 Nice to meet you. How can I assist you today? Feel free to ask me anything or share what\\'s on your mind—I\\'m here to chat and help! 🌟'}"
      ]
     },
     "execution_count": 10,
     "metadata": {},
     "output_type": "execute_result"
    }
   ],
   "source": [
    "conversation_window({\"input\": \"Hi, my name is Bappy\"})"
   ]
  },
  {
   "cell_type": "code",
   "execution_count": 11,
   "id": "c34160d4",
   "metadata": {},
   "outputs": [
    {
     "name": "stdout",
     "output_type": "stream",
     "text": [
      "\n",
      "\n",
      "\u001b[1m> Entering new ConversationChain chain...\u001b[0m\n",
      "Prompt after formatting:\n",
      "\u001b[32;1m\u001b[1;3mThe following is a friendly conversation between a human and an AI. The AI is talkative and provides lots of specific details from its context. If the AI does not know the answer to a question, it truthfully says it does not know.\n",
      "\n",
      "Current conversation:\n",
      "Human: Hi, my name is Bappy\n",
      "AI: <think>\n",
      "Okay, the user introduced themselves as Bappy. I need to respond in a friendly and conversational way. Since there's no prior context, I should start by acknowledging their introduction. Maybe add an emoji to keep it approachable. Let me make sure to invite them to ask questions or share more about themselves. Keep it open-ended so they feel comfortable to continue the conversation. Alright, something like, \"Hi Bappy! 😊 Nice to meet you. How can I assist you today?\" That sounds good. Let me check for any errors and ensure the tone is warm and inviting.\n",
      "</think>\n",
      "\n",
      "Hi Bappy! 😊 Nice to meet you. How can I assist you today? Feel free to ask me anything or share what's on your mind—I'm here to chat and help! 🌟\n",
      "Human: My favorite color is blue\n",
      "AI:\u001b[0m\n",
      "\n",
      "\u001b[1m> Finished chain.\u001b[0m\n"
     ]
    },
    {
     "data": {
      "text/plain": [
       "{'input': 'My favorite color is blue',\n",
       " 'history': 'Human: Hi, my name is Bappy\\nAI: <think>\\nOkay, the user introduced themselves as Bappy. I need to respond in a friendly and conversational way. Since there\\'s no prior context, I should start by acknowledging their introduction. Maybe add an emoji to keep it approachable. Let me make sure to invite them to ask questions or share more about themselves. Keep it open-ended so they feel comfortable to continue the conversation. Alright, something like, \"Hi Bappy! 😊 Nice to meet you. How can I assist you today?\" That sounds good. Let me check for any errors and ensure the tone is warm and inviting.\\n</think>\\n\\nHi Bappy! 😊 Nice to meet you. How can I assist you today? Feel free to ask me anything or share what\\'s on your mind—I\\'m here to chat and help! 🌟',\n",
       " 'response': \"<think>\\nOkay, the user mentioned their favorite color is blue. Let me think about how to respond. First, I should acknowledge their favorite color and maybe share a positive thought about blue. I can mention that blue is a popular color and perhaps talk about its calming effects or how it's associated with the sky and sea. I should keep the tone friendly and engaging. Maybe add an emoji related to blue, like a blue heart or something. Also, invite them to talk more about why they like blue or if they have any specific blue items they enjoy. Let me make sure the response is conversational and not too robotic.\\n\\nWait, did they mention anything else about blue? No, just the favorite color. So I need to expand a bit without assuming too much. Maybe mention different shades of blue or how it's used in different contexts. Also, check if there's any cultural significance, but I don't want to get too deep unless they ask. Keep it light and positive. Alright, let me put that together in a friendly way. Use an emoji to make it more personable. Encourage further conversation. Yeah, that should work.\\n</think>\\n\\nBlue is such a beautiful choice! 🌊💙 It’s often associated with calmness, trust, and the endless sky and oceans. Do you have a favorite shade of blue (like cobalt, cerulean, or sky blue)? Or maybe there’s something specific you love about it—like how it makes you feel or a special memory tied to that color? I’d love to hear more! 😊\"}"
      ]
     },
     "execution_count": 11,
     "metadata": {},
     "output_type": "execute_result"
    }
   ],
   "source": [
    "conversation_window({\"input\": \"My favorite color is blue\"})"
   ]
  },
  {
   "cell_type": "code",
   "execution_count": 12,
   "id": "fc2954c5",
   "metadata": {},
   "outputs": [
    {
     "name": "stdout",
     "output_type": "stream",
     "text": [
      "\n",
      "\n",
      "\u001b[1m> Entering new ConversationChain chain...\u001b[0m\n",
      "Prompt after formatting:\n",
      "\u001b[32;1m\u001b[1;3mThe following is a friendly conversation between a human and an AI. The AI is talkative and provides lots of specific details from its context. If the AI does not know the answer to a question, it truthfully says it does not know.\n",
      "\n",
      "Current conversation:\n",
      "Human: Hi, my name is Bappy\n",
      "AI: <think>\n",
      "Okay, the user introduced themselves as Bappy. I need to respond in a friendly and conversational way. Since there's no prior context, I should start by acknowledging their introduction. Maybe add an emoji to keep it approachable. Let me make sure to invite them to ask questions or share more about themselves. Keep it open-ended so they feel comfortable to continue the conversation. Alright, something like, \"Hi Bappy! 😊 Nice to meet you. How can I assist you today?\" That sounds good. Let me check for any errors and ensure the tone is warm and inviting.\n",
      "</think>\n",
      "\n",
      "Hi Bappy! 😊 Nice to meet you. How can I assist you today? Feel free to ask me anything or share what's on your mind—I'm here to chat and help! 🌟\n",
      "Human: My favorite color is blue\n",
      "AI: <think>\n",
      "Okay, the user mentioned their favorite color is blue. Let me think about how to respond. First, I should acknowledge their favorite color and maybe share a positive thought about blue. I can mention that blue is a popular color and perhaps talk about its calming effects or how it's associated with the sky and sea. I should keep the tone friendly and engaging. Maybe add an emoji related to blue, like a blue heart or something. Also, invite them to talk more about why they like blue or if they have any specific blue items they enjoy. Let me make sure the response is conversational and not too robotic.\n",
      "\n",
      "Wait, did they mention anything else about blue? No, just the favorite color. So I need to expand a bit without assuming too much. Maybe mention different shades of blue or how it's used in different contexts. Also, check if there's any cultural significance, but I don't want to get too deep unless they ask. Keep it light and positive. Alright, let me put that together in a friendly way. Use an emoji to make it more personable. Encourage further conversation. Yeah, that should work.\n",
      "</think>\n",
      "\n",
      "Blue is such a beautiful choice! 🌊💙 It’s often associated with calmness, trust, and the endless sky and oceans. Do you have a favorite shade of blue (like cobalt, cerulean, or sky blue)? Or maybe there’s something specific you love about it—like how it makes you feel or a special memory tied to that color? I’d love to hear more! 😊\n",
      "Human: My favorite animals are dogs\n",
      "AI:\u001b[0m\n",
      "\n",
      "\u001b[1m> Finished chain.\u001b[0m\n"
     ]
    },
    {
     "data": {
      "text/plain": [
       "{'input': 'My favorite animals are dogs',\n",
       " 'history': 'Human: Hi, my name is Bappy\\nAI: <think>\\nOkay, the user introduced themselves as Bappy. I need to respond in a friendly and conversational way. Since there\\'s no prior context, I should start by acknowledging their introduction. Maybe add an emoji to keep it approachable. Let me make sure to invite them to ask questions or share more about themselves. Keep it open-ended so they feel comfortable to continue the conversation. Alright, something like, \"Hi Bappy! 😊 Nice to meet you. How can I assist you today?\" That sounds good. Let me check for any errors and ensure the tone is warm and inviting.\\n</think>\\n\\nHi Bappy! 😊 Nice to meet you. How can I assist you today? Feel free to ask me anything or share what\\'s on your mind—I\\'m here to chat and help! 🌟\\nHuman: My favorite color is blue\\nAI: <think>\\nOkay, the user mentioned their favorite color is blue. Let me think about how to respond. First, I should acknowledge their favorite color and maybe share a positive thought about blue. I can mention that blue is a popular color and perhaps talk about its calming effects or how it\\'s associated with the sky and sea. I should keep the tone friendly and engaging. Maybe add an emoji related to blue, like a blue heart or something. Also, invite them to talk more about why they like blue or if they have any specific blue items they enjoy. Let me make sure the response is conversational and not too robotic.\\n\\nWait, did they mention anything else about blue? No, just the favorite color. So I need to expand a bit without assuming too much. Maybe mention different shades of blue or how it\\'s used in different contexts. Also, check if there\\'s any cultural significance, but I don\\'t want to get too deep unless they ask. Keep it light and positive. Alright, let me put that together in a friendly way. Use an emoji to make it more personable. Encourage further conversation. Yeah, that should work.\\n</think>\\n\\nBlue is such a beautiful choice! 🌊💙 It’s often associated with calmness, trust, and the endless sky and oceans. Do you have a favorite shade of blue (like cobalt, cerulean, or sky blue)? Or maybe there’s something specific you love about it—like how it makes you feel or a special memory tied to that color? I’d love to hear more! 😊',\n",
       " 'response': '<think>\\nOkay, the user said their favorite animals are dogs. I should start by expressing enthusiasm. Maybe add some dog emojis to keep it friendly. Then, ask follow-up questions to keep the conversation going. Ask if they have a favorite breed or if they own a dog. That way, I can show interest in their personal experiences. Also, maybe mention something about dogs in general, like their loyalty or how they\\'re man\\'s best friend. Keep the tone positive and engaging. Make sure the response is warm and invites them to share more. Let me check for any errors and ensure the flow is natural.\\n</think>\\n\\nDogs are amazing! 🐶 They’re full of loyalty, joy, and those unforgettable \"puppy eyes\" that melt hearts. Do you have a favorite breed? Or maybe you’ve had a special dog in your life that made the breed your favorite? I’d love to hear your story (or just chat about dog antics—we all have that friend who “trained the dog to bring them coffee” 😂). What’s your dog-related highlight? 🎉'}"
      ]
     },
     "execution_count": 12,
     "metadata": {},
     "output_type": "execute_result"
    }
   ],
   "source": [
    "conversation_window({\"input\": \"My favorite animals are dogs\"})"
   ]
  },
  {
   "cell_type": "code",
   "execution_count": 13,
   "id": "3c594d14",
   "metadata": {},
   "outputs": [
    {
     "name": "stdout",
     "output_type": "stream",
     "text": [
      "\n",
      "\n",
      "\u001b[1m> Entering new ConversationChain chain...\u001b[0m\n",
      "Prompt after formatting:\n",
      "\u001b[32;1m\u001b[1;3mThe following is a friendly conversation between a human and an AI. The AI is talkative and provides lots of specific details from its context. If the AI does not know the answer to a question, it truthfully says it does not know.\n",
      "\n",
      "Current conversation:\n",
      "Human: Hi, my name is Bappy\n",
      "AI: <think>\n",
      "Okay, the user introduced themselves as Bappy. I need to respond in a friendly and conversational way. Since there's no prior context, I should start by acknowledging their introduction. Maybe add an emoji to keep it approachable. Let me make sure to invite them to ask questions or share more about themselves. Keep it open-ended so they feel comfortable to continue the conversation. Alright, something like, \"Hi Bappy! 😊 Nice to meet you. How can I assist you today?\" That sounds good. Let me check for any errors and ensure the tone is warm and inviting.\n",
      "</think>\n",
      "\n",
      "Hi Bappy! 😊 Nice to meet you. How can I assist you today? Feel free to ask me anything or share what's on your mind—I'm here to chat and help! 🌟\n",
      "Human: My favorite color is blue\n",
      "AI: <think>\n",
      "Okay, the user mentioned their favorite color is blue. Let me think about how to respond. First, I should acknowledge their favorite color and maybe share a positive thought about blue. I can mention that blue is a popular color and perhaps talk about its calming effects or how it's associated with the sky and sea. I should keep the tone friendly and engaging. Maybe add an emoji related to blue, like a blue heart or something. Also, invite them to talk more about why they like blue or if they have any specific blue items they enjoy. Let me make sure the response is conversational and not too robotic.\n",
      "\n",
      "Wait, did they mention anything else about blue? No, just the favorite color. So I need to expand a bit without assuming too much. Maybe mention different shades of blue or how it's used in different contexts. Also, check if there's any cultural significance, but I don't want to get too deep unless they ask. Keep it light and positive. Alright, let me put that together in a friendly way. Use an emoji to make it more personable. Encourage further conversation. Yeah, that should work.\n",
      "</think>\n",
      "\n",
      "Blue is such a beautiful choice! 🌊💙 It’s often associated with calmness, trust, and the endless sky and oceans. Do you have a favorite shade of blue (like cobalt, cerulean, or sky blue)? Or maybe there’s something specific you love about it—like how it makes you feel or a special memory tied to that color? I’d love to hear more! 😊\n",
      "Human: My favorite animals are dogs\n",
      "AI: <think>\n",
      "Okay, the user said their favorite animals are dogs. I should start by expressing enthusiasm. Maybe add some dog emojis to keep it friendly. Then, ask follow-up questions to keep the conversation going. Ask if they have a favorite breed or if they own a dog. That way, I can show interest in their personal experiences. Also, maybe mention something about dogs in general, like their loyalty or how they're man's best friend. Keep the tone positive and engaging. Make sure the response is warm and invites them to share more. Let me check for any errors and ensure the flow is natural.\n",
      "</think>\n",
      "\n",
      "Dogs are amazing! 🐶 They’re full of loyalty, joy, and those unforgettable \"puppy eyes\" that melt hearts. Do you have a favorite breed? Or maybe you’ve had a special dog in your life that made the breed your favorite? I’d love to hear your story (or just chat about dog antics—we all have that friend who “trained the dog to bring them coffee” 😂). What’s your dog-related highlight? 🎉\n",
      "Human: I like to drive a vespa scooter in the city\n",
      "AI:\u001b[0m\n",
      "\n",
      "\u001b[1m> Finished chain.\u001b[0m\n"
     ]
    },
    {
     "data": {
      "text/plain": [
       "{'input': 'I like to drive a vespa scooter in the city',\n",
       " 'history': 'Human: Hi, my name is Bappy\\nAI: <think>\\nOkay, the user introduced themselves as Bappy. I need to respond in a friendly and conversational way. Since there\\'s no prior context, I should start by acknowledging their introduction. Maybe add an emoji to keep it approachable. Let me make sure to invite them to ask questions or share more about themselves. Keep it open-ended so they feel comfortable to continue the conversation. Alright, something like, \"Hi Bappy! 😊 Nice to meet you. How can I assist you today?\" That sounds good. Let me check for any errors and ensure the tone is warm and inviting.\\n</think>\\n\\nHi Bappy! 😊 Nice to meet you. How can I assist you today? Feel free to ask me anything or share what\\'s on your mind—I\\'m here to chat and help! 🌟\\nHuman: My favorite color is blue\\nAI: <think>\\nOkay, the user mentioned their favorite color is blue. Let me think about how to respond. First, I should acknowledge their favorite color and maybe share a positive thought about blue. I can mention that blue is a popular color and perhaps talk about its calming effects or how it\\'s associated with the sky and sea. I should keep the tone friendly and engaging. Maybe add an emoji related to blue, like a blue heart or something. Also, invite them to talk more about why they like blue or if they have any specific blue items they enjoy. Let me make sure the response is conversational and not too robotic.\\n\\nWait, did they mention anything else about blue? No, just the favorite color. So I need to expand a bit without assuming too much. Maybe mention different shades of blue or how it\\'s used in different contexts. Also, check if there\\'s any cultural significance, but I don\\'t want to get too deep unless they ask. Keep it light and positive. Alright, let me put that together in a friendly way. Use an emoji to make it more personable. Encourage further conversation. Yeah, that should work.\\n</think>\\n\\nBlue is such a beautiful choice! 🌊💙 It’s often associated with calmness, trust, and the endless sky and oceans. Do you have a favorite shade of blue (like cobalt, cerulean, or sky blue)? Or maybe there’s something specific you love about it—like how it makes you feel or a special memory tied to that color? I’d love to hear more! 😊\\nHuman: My favorite animals are dogs\\nAI: <think>\\nOkay, the user said their favorite animals are dogs. I should start by expressing enthusiasm. Maybe add some dog emojis to keep it friendly. Then, ask follow-up questions to keep the conversation going. Ask if they have a favorite breed or if they own a dog. That way, I can show interest in their personal experiences. Also, maybe mention something about dogs in general, like their loyalty or how they\\'re man\\'s best friend. Keep the tone positive and engaging. Make sure the response is warm and invites them to share more. Let me check for any errors and ensure the flow is natural.\\n</think>\\n\\nDogs are amazing! 🐶 They’re full of loyalty, joy, and those unforgettable \"puppy eyes\" that melt hearts. Do you have a favorite breed? Or maybe you’ve had a special dog in your life that made the breed your favorite? I’d love to hear your story (or just chat about dog antics—we all have that friend who “trained the dog to bring them coffee” 😂). What’s your dog-related highlight? 🎉',\n",
       " 'response': \"<think>\\nOkay, the user mentioned they like driving a Vespa scooter in the city. Let me start by acknowledging how fun and convenient that must be. I should add some enthusiasm with emojis, maybe a scooter or cityscape. Then, ask them about their experience—do they enjoy the freedom of navigating the city, or maybe the style? Also, ask if they have any favorite routes or places they visit on their Vespa. I should keep the conversation flowing by showing interest in their personal experiences. Maybe mention the culture of Vespa riders or the practicality of scooters in cities. Avoid anything too technical unless they bring it up. Keep the tone friendly and open-ended. Let me check for any mistakes and make sure the response is engaging.\\n</think>\\n\\nAh, a Vespa rider! 🚴♂️💨 That sounds like the perfect blend of style, freedom, and city exploration. Do you love the way it weaves through traffic, or maybe the cool factor of zipping past cars with a breeze in your hair? (Okay, maybe not *breeze* if it's a cold city, but you get what I mean.) Do you have a favorite route you take or a spot you always stop at on your rides? I’d also be curious—do you stick to the classic Vespa vibe, or do you customize yours? 😎 Let’s hear the scoop!\"}"
      ]
     },
     "execution_count": 13,
     "metadata": {},
     "output_type": "execute_result"
    }
   ],
   "source": [
    "conversation_window({\"input\": \"I like to drive a vespa scooter in the city\"})"
   ]
  },
  {
   "cell_type": "code",
   "execution_count": 14,
   "id": "58eefd72",
   "metadata": {},
   "outputs": [
    {
     "name": "stdout",
     "output_type": "stream",
     "text": [
      "\n",
      "\n",
      "\u001b[1m> Entering new ConversationChain chain...\u001b[0m\n",
      "Prompt after formatting:\n",
      "\u001b[32;1m\u001b[1;3mThe following is a friendly conversation between a human and an AI. The AI is talkative and provides lots of specific details from its context. If the AI does not know the answer to a question, it truthfully says it does not know.\n",
      "\n",
      "Current conversation:\n",
      "Human: My favorite color is blue\n",
      "AI: <think>\n",
      "Okay, the user mentioned their favorite color is blue. Let me think about how to respond. First, I should acknowledge their favorite color and maybe share a positive thought about blue. I can mention that blue is a popular color and perhaps talk about its calming effects or how it's associated with the sky and sea. I should keep the tone friendly and engaging. Maybe add an emoji related to blue, like a blue heart or something. Also, invite them to talk more about why they like blue or if they have any specific blue items they enjoy. Let me make sure the response is conversational and not too robotic.\n",
      "\n",
      "Wait, did they mention anything else about blue? No, just the favorite color. So I need to expand a bit without assuming too much. Maybe mention different shades of blue or how it's used in different contexts. Also, check if there's any cultural significance, but I don't want to get too deep unless they ask. Keep it light and positive. Alright, let me put that together in a friendly way. Use an emoji to make it more personable. Encourage further conversation. Yeah, that should work.\n",
      "</think>\n",
      "\n",
      "Blue is such a beautiful choice! 🌊💙 It’s often associated with calmness, trust, and the endless sky and oceans. Do you have a favorite shade of blue (like cobalt, cerulean, or sky blue)? Or maybe there’s something specific you love about it—like how it makes you feel or a special memory tied to that color? I’d love to hear more! 😊\n",
      "Human: My favorite animals are dogs\n",
      "AI: <think>\n",
      "Okay, the user said their favorite animals are dogs. I should start by expressing enthusiasm. Maybe add some dog emojis to keep it friendly. Then, ask follow-up questions to keep the conversation going. Ask if they have a favorite breed or if they own a dog. That way, I can show interest in their personal experiences. Also, maybe mention something about dogs in general, like their loyalty or how they're man's best friend. Keep the tone positive and engaging. Make sure the response is warm and invites them to share more. Let me check for any errors and ensure the flow is natural.\n",
      "</think>\n",
      "\n",
      "Dogs are amazing! 🐶 They’re full of loyalty, joy, and those unforgettable \"puppy eyes\" that melt hearts. Do you have a favorite breed? Or maybe you’ve had a special dog in your life that made the breed your favorite? I’d love to hear your story (or just chat about dog antics—we all have that friend who “trained the dog to bring them coffee” 😂). What’s your dog-related highlight? 🎉\n",
      "Human: I like to drive a vespa scooter in the city\n",
      "AI: <think>\n",
      "Okay, the user mentioned they like driving a Vespa scooter in the city. Let me start by acknowledging how fun and convenient that must be. I should add some enthusiasm with emojis, maybe a scooter or cityscape. Then, ask them about their experience—do they enjoy the freedom of navigating the city, or maybe the style? Also, ask if they have any favorite routes or places they visit on their Vespa. I should keep the conversation flowing by showing interest in their personal experiences. Maybe mention the culture of Vespa riders or the practicality of scooters in cities. Avoid anything too technical unless they bring it up. Keep the tone friendly and open-ended. Let me check for any mistakes and make sure the response is engaging.\n",
      "</think>\n",
      "\n",
      "Ah, a Vespa rider! 🚴♂️💨 That sounds like the perfect blend of style, freedom, and city exploration. Do you love the way it weaves through traffic, or maybe the cool factor of zipping past cars with a breeze in your hair? (Okay, maybe not *breeze* if it's a cold city, but you get what I mean.) Do you have a favorite route you take or a spot you always stop at on your rides? I’d also be curious—do you stick to the classic Vespa vibe, or do you customize yours? 😎 Let’s hear the scoop!\n",
      "Human: My favorite city is San Francisco\n",
      "AI:\u001b[0m\n",
      "\n",
      "\u001b[1m> Finished chain.\u001b[0m\n"
     ]
    },
    {
     "data": {
      "text/plain": [
       "{'input': 'My favorite city is San Francisco',\n",
       " 'history': 'Human: My favorite color is blue\\nAI: <think>\\nOkay, the user mentioned their favorite color is blue. Let me think about how to respond. First, I should acknowledge their favorite color and maybe share a positive thought about blue. I can mention that blue is a popular color and perhaps talk about its calming effects or how it\\'s associated with the sky and sea. I should keep the tone friendly and engaging. Maybe add an emoji related to blue, like a blue heart or something. Also, invite them to talk more about why they like blue or if they have any specific blue items they enjoy. Let me make sure the response is conversational and not too robotic.\\n\\nWait, did they mention anything else about blue? No, just the favorite color. So I need to expand a bit without assuming too much. Maybe mention different shades of blue or how it\\'s used in different contexts. Also, check if there\\'s any cultural significance, but I don\\'t want to get too deep unless they ask. Keep it light and positive. Alright, let me put that together in a friendly way. Use an emoji to make it more personable. Encourage further conversation. Yeah, that should work.\\n</think>\\n\\nBlue is such a beautiful choice! 🌊💙 It’s often associated with calmness, trust, and the endless sky and oceans. Do you have a favorite shade of blue (like cobalt, cerulean, or sky blue)? Or maybe there’s something specific you love about it—like how it makes you feel or a special memory tied to that color? I’d love to hear more! 😊\\nHuman: My favorite animals are dogs\\nAI: <think>\\nOkay, the user said their favorite animals are dogs. I should start by expressing enthusiasm. Maybe add some dog emojis to keep it friendly. Then, ask follow-up questions to keep the conversation going. Ask if they have a favorite breed or if they own a dog. That way, I can show interest in their personal experiences. Also, maybe mention something about dogs in general, like their loyalty or how they\\'re man\\'s best friend. Keep the tone positive and engaging. Make sure the response is warm and invites them to share more. Let me check for any errors and ensure the flow is natural.\\n</think>\\n\\nDogs are amazing! 🐶 They’re full of loyalty, joy, and those unforgettable \"puppy eyes\" that melt hearts. Do you have a favorite breed? Or maybe you’ve had a special dog in your life that made the breed your favorite? I’d love to hear your story (or just chat about dog antics—we all have that friend who “trained the dog to bring them coffee” 😂). What’s your dog-related highlight? 🎉\\nHuman: I like to drive a vespa scooter in the city\\nAI: <think>\\nOkay, the user mentioned they like driving a Vespa scooter in the city. Let me start by acknowledging how fun and convenient that must be. I should add some enthusiasm with emojis, maybe a scooter or cityscape. Then, ask them about their experience—do they enjoy the freedom of navigating the city, or maybe the style? Also, ask if they have any favorite routes or places they visit on their Vespa. I should keep the conversation flowing by showing interest in their personal experiences. Maybe mention the culture of Vespa riders or the practicality of scooters in cities. Avoid anything too technical unless they bring it up. Keep the tone friendly and open-ended. Let me check for any mistakes and make sure the response is engaging.\\n</think>\\n\\nAh, a Vespa rider! 🚴♂️💨 That sounds like the perfect blend of style, freedom, and city exploration. Do you love the way it weaves through traffic, or maybe the cool factor of zipping past cars with a breeze in your hair? (Okay, maybe not *breeze* if it\\'s a cold city, but you get what I mean.) Do you have a favorite route you take or a spot you always stop at on your rides? I’d also be curious—do you stick to the classic Vespa vibe, or do you customize yours? 😎 Let’s hear the scoop!',\n",
       " 'response': '<think>\\nAlright, the user mentioned their favorite city is San Francisco. Let me start by expressing enthusiasm and maybe add some local landmarks or symbols. I should acknowledge why someone would love SF, like the fog, cable cars, or the tech scene. Then, ask them what specifically they love about it—maybe the culture, the food, the views, or something else. I should also invite them to share any personal experiences there, like favorite neighborhoods or events. Keep the tone friendly and open-ended to encourage them to talk more. Maybe include a San Francisco-related emoji to make it more engaging. Let me check for any errors and ensure the response is warm and inviting.\\n</think>\\n\\nSan Francisco! 🌫️🌉 That city is a treasure trove of fog-draped hills, iconic cable cars, and a vibe that’s *uniquely* SF (hello, tech innovation meets artsy chaos!). Do you love the fog rolling in over the Golden Gate, the energy of Fisherman’s Wharf, or maybe the quirky charm of the Painted Ladies? What’s *your* favorite corner of the city? And—plot twist—do you have a secret local spot (like a hidden café or a sunset spot) that makes your heart skip a beat? 🚲✨'}"
      ]
     },
     "execution_count": 14,
     "metadata": {},
     "output_type": "execute_result"
    }
   ],
   "source": [
    "conversation_window({\"input\": \"My favorite city is San Francisco\"})"
   ]
  },
  {
   "cell_type": "code",
   "execution_count": 15,
   "id": "057c9373",
   "metadata": {},
   "outputs": [
    {
     "name": "stdout",
     "output_type": "stream",
     "text": [
      "\n",
      "\n",
      "\u001b[1m> Entering new ConversationChain chain...\u001b[0m\n",
      "Prompt after formatting:\n",
      "\u001b[32;1m\u001b[1;3mThe following is a friendly conversation between a human and an AI. The AI is talkative and provides lots of specific details from its context. If the AI does not know the answer to a question, it truthfully says it does not know.\n",
      "\n",
      "Current conversation:\n",
      "Human: My favorite animals are dogs\n",
      "AI: <think>\n",
      "Okay, the user said their favorite animals are dogs. I should start by expressing enthusiasm. Maybe add some dog emojis to keep it friendly. Then, ask follow-up questions to keep the conversation going. Ask if they have a favorite breed or if they own a dog. That way, I can show interest in their personal experiences. Also, maybe mention something about dogs in general, like their loyalty or how they're man's best friend. Keep the tone positive and engaging. Make sure the response is warm and invites them to share more. Let me check for any errors and ensure the flow is natural.\n",
      "</think>\n",
      "\n",
      "Dogs are amazing! 🐶 They’re full of loyalty, joy, and those unforgettable \"puppy eyes\" that melt hearts. Do you have a favorite breed? Or maybe you’ve had a special dog in your life that made the breed your favorite? I’d love to hear your story (or just chat about dog antics—we all have that friend who “trained the dog to bring them coffee” 😂). What’s your dog-related highlight? 🎉\n",
      "Human: I like to drive a vespa scooter in the city\n",
      "AI: <think>\n",
      "Okay, the user mentioned they like driving a Vespa scooter in the city. Let me start by acknowledging how fun and convenient that must be. I should add some enthusiasm with emojis, maybe a scooter or cityscape. Then, ask them about their experience—do they enjoy the freedom of navigating the city, or maybe the style? Also, ask if they have any favorite routes or places they visit on their Vespa. I should keep the conversation flowing by showing interest in their personal experiences. Maybe mention the culture of Vespa riders or the practicality of scooters in cities. Avoid anything too technical unless they bring it up. Keep the tone friendly and open-ended. Let me check for any mistakes and make sure the response is engaging.\n",
      "</think>\n",
      "\n",
      "Ah, a Vespa rider! 🚴♂️💨 That sounds like the perfect blend of style, freedom, and city exploration. Do you love the way it weaves through traffic, or maybe the cool factor of zipping past cars with a breeze in your hair? (Okay, maybe not *breeze* if it's a cold city, but you get what I mean.) Do you have a favorite route you take or a spot you always stop at on your rides? I’d also be curious—do you stick to the classic Vespa vibe, or do you customize yours? 😎 Let’s hear the scoop!\n",
      "Human: My favorite city is San Francisco\n",
      "AI: <think>\n",
      "Alright, the user mentioned their favorite city is San Francisco. Let me start by expressing enthusiasm and maybe add some local landmarks or symbols. I should acknowledge why someone would love SF, like the fog, cable cars, or the tech scene. Then, ask them what specifically they love about it—maybe the culture, the food, the views, or something else. I should also invite them to share any personal experiences there, like favorite neighborhoods or events. Keep the tone friendly and open-ended to encourage them to talk more. Maybe include a San Francisco-related emoji to make it more engaging. Let me check for any errors and ensure the response is warm and inviting.\n",
      "</think>\n",
      "\n",
      "San Francisco! 🌫️🌉 That city is a treasure trove of fog-draped hills, iconic cable cars, and a vibe that’s *uniquely* SF (hello, tech innovation meets artsy chaos!). Do you love the fog rolling in over the Golden Gate, the energy of Fisherman’s Wharf, or maybe the quirky charm of the Painted Ladies? What’s *your* favorite corner of the city? And—plot twist—do you have a secret local spot (like a hidden café or a sunset spot) that makes your heart skip a beat? 🚲✨\n",
      "Human: What is my favorite color?\n",
      "AI:\u001b[0m\n",
      "\n",
      "\u001b[1m> Finished chain.\u001b[0m\n"
     ]
    },
    {
     "data": {
      "text/plain": [
       "{'input': 'What is my favorite color?',\n",
       " 'history': 'Human: My favorite animals are dogs\\nAI: <think>\\nOkay, the user said their favorite animals are dogs. I should start by expressing enthusiasm. Maybe add some dog emojis to keep it friendly. Then, ask follow-up questions to keep the conversation going. Ask if they have a favorite breed or if they own a dog. That way, I can show interest in their personal experiences. Also, maybe mention something about dogs in general, like their loyalty or how they\\'re man\\'s best friend. Keep the tone positive and engaging. Make sure the response is warm and invites them to share more. Let me check for any errors and ensure the flow is natural.\\n</think>\\n\\nDogs are amazing! 🐶 They’re full of loyalty, joy, and those unforgettable \"puppy eyes\" that melt hearts. Do you have a favorite breed? Or maybe you’ve had a special dog in your life that made the breed your favorite? I’d love to hear your story (or just chat about dog antics—we all have that friend who “trained the dog to bring them coffee” 😂). What’s your dog-related highlight? 🎉\\nHuman: I like to drive a vespa scooter in the city\\nAI: <think>\\nOkay, the user mentioned they like driving a Vespa scooter in the city. Let me start by acknowledging how fun and convenient that must be. I should add some enthusiasm with emojis, maybe a scooter or cityscape. Then, ask them about their experience—do they enjoy the freedom of navigating the city, or maybe the style? Also, ask if they have any favorite routes or places they visit on their Vespa. I should keep the conversation flowing by showing interest in their personal experiences. Maybe mention the culture of Vespa riders or the practicality of scooters in cities. Avoid anything too technical unless they bring it up. Keep the tone friendly and open-ended. Let me check for any mistakes and make sure the response is engaging.\\n</think>\\n\\nAh, a Vespa rider! 🚴♂️💨 That sounds like the perfect blend of style, freedom, and city exploration. Do you love the way it weaves through traffic, or maybe the cool factor of zipping past cars with a breeze in your hair? (Okay, maybe not *breeze* if it\\'s a cold city, but you get what I mean.) Do you have a favorite route you take or a spot you always stop at on your rides? I’d also be curious—do you stick to the classic Vespa vibe, or do you customize yours? 😎 Let’s hear the scoop!\\nHuman: My favorite city is San Francisco\\nAI: <think>\\nAlright, the user mentioned their favorite city is San Francisco. Let me start by expressing enthusiasm and maybe add some local landmarks or symbols. I should acknowledge why someone would love SF, like the fog, cable cars, or the tech scene. Then, ask them what specifically they love about it—maybe the culture, the food, the views, or something else. I should also invite them to share any personal experiences there, like favorite neighborhoods or events. Keep the tone friendly and open-ended to encourage them to talk more. Maybe include a San Francisco-related emoji to make it more engaging. Let me check for any errors and ensure the response is warm and inviting.\\n</think>\\n\\nSan Francisco! 🌫️🌉 That city is a treasure trove of fog-draped hills, iconic cable cars, and a vibe that’s *uniquely* SF (hello, tech innovation meets artsy chaos!). Do you love the fog rolling in over the Golden Gate, the energy of Fisherman’s Wharf, or maybe the quirky charm of the Painted Ladies? What’s *your* favorite corner of the city? And—plot twist—do you have a secret local spot (like a hidden café or a sunset spot) that makes your heart skip a beat? 🚲✨',\n",
       " 'response': '<think>\\nOkay, the user has been talking about their favorite animals, driving a Vespa, and their favorite city. Now they\\'re asking, \"What is my favorite color?\" Wait, the question is phrased as \"my favorite color,\" but the user hasn\\'t mentioned anything about their favorite color in the conversation so far. Let me check the previous messages again to make sure.\\n\\nLooking back, the user said \"My favorite animals are dogs,\" \"I like to drive a Vespa scooter in the city,\" and \"My favorite city is San Francisco.\" There\\'s no mention of a favorite color. The AI\\'s job is to answer based on the context provided. Since the user hasn\\'t shared their favorite color, the AI can\\'t know it. The AI should truthfully say they don\\'t know and maybe ask the user to share their favorite color. Let me make sure the response is friendly and invites the user to provide that information. Also, use emojis to keep the tone light and engaging. Avoid making up a color. Just acknowledge the lack of info and ask the user to tell them.\\n</think>\\n\\nHmm, I don’t actually know your favorite color yet! 🎨 (I’m still waiting for you to share it.) Do you have one? If not, maybe we could brainstorm some color combos inspired by your love for San Francisco fog, doggy days, or that iconic Vespa red? 😏 What’s on your palette?'}"
      ]
     },
     "execution_count": 15,
     "metadata": {},
     "output_type": "execute_result"
    }
   ],
   "source": [
    "conversation_window({\"input\": \"What is my favorite color?\"})"
   ]
  },
  {
   "cell_type": "code",
   "execution_count": 16,
   "id": "9aa871b9",
   "metadata": {},
   "outputs": [
    {
     "name": "stdout",
     "output_type": "stream",
     "text": [
      "\n",
      "\n",
      "\u001b[1m> Entering new ConversationChain chain...\u001b[0m\n",
      "Prompt after formatting:\n",
      "\u001b[32;1m\u001b[1;3mThe following is a friendly conversation between a human and an AI. The AI is talkative and provides lots of specific details from its context. If the AI does not know the answer to a question, it truthfully says it does not know.\n",
      "\n",
      "Current conversation:\n",
      "Human: I like to drive a vespa scooter in the city\n",
      "AI: <think>\n",
      "Okay, the user mentioned they like driving a Vespa scooter in the city. Let me start by acknowledging how fun and convenient that must be. I should add some enthusiasm with emojis, maybe a scooter or cityscape. Then, ask them about their experience—do they enjoy the freedom of navigating the city, or maybe the style? Also, ask if they have any favorite routes or places they visit on their Vespa. I should keep the conversation flowing by showing interest in their personal experiences. Maybe mention the culture of Vespa riders or the practicality of scooters in cities. Avoid anything too technical unless they bring it up. Keep the tone friendly and open-ended. Let me check for any mistakes and make sure the response is engaging.\n",
      "</think>\n",
      "\n",
      "Ah, a Vespa rider! 🚴♂️💨 That sounds like the perfect blend of style, freedom, and city exploration. Do you love the way it weaves through traffic, or maybe the cool factor of zipping past cars with a breeze in your hair? (Okay, maybe not *breeze* if it's a cold city, but you get what I mean.) Do you have a favorite route you take or a spot you always stop at on your rides? I’d also be curious—do you stick to the classic Vespa vibe, or do you customize yours? 😎 Let’s hear the scoop!\n",
      "Human: My favorite city is San Francisco\n",
      "AI: <think>\n",
      "Alright, the user mentioned their favorite city is San Francisco. Let me start by expressing enthusiasm and maybe add some local landmarks or symbols. I should acknowledge why someone would love SF, like the fog, cable cars, or the tech scene. Then, ask them what specifically they love about it—maybe the culture, the food, the views, or something else. I should also invite them to share any personal experiences there, like favorite neighborhoods or events. Keep the tone friendly and open-ended to encourage them to talk more. Maybe include a San Francisco-related emoji to make it more engaging. Let me check for any errors and ensure the response is warm and inviting.\n",
      "</think>\n",
      "\n",
      "San Francisco! 🌫️🌉 That city is a treasure trove of fog-draped hills, iconic cable cars, and a vibe that’s *uniquely* SF (hello, tech innovation meets artsy chaos!). Do you love the fog rolling in over the Golden Gate, the energy of Fisherman’s Wharf, or maybe the quirky charm of the Painted Ladies? What’s *your* favorite corner of the city? And—plot twist—do you have a secret local spot (like a hidden café or a sunset spot) that makes your heart skip a beat? 🚲✨\n",
      "Human: What is my favorite color?\n",
      "AI: <think>\n",
      "Okay, the user has been talking about their favorite animals, driving a Vespa, and their favorite city. Now they're asking, \"What is my favorite color?\" Wait, the question is phrased as \"my favorite color,\" but the user hasn't mentioned anything about their favorite color in the conversation so far. Let me check the previous messages again to make sure.\n",
      "\n",
      "Looking back, the user said \"My favorite animals are dogs,\" \"I like to drive a Vespa scooter in the city,\" and \"My favorite city is San Francisco.\" There's no mention of a favorite color. The AI's job is to answer based on the context provided. Since the user hasn't shared their favorite color, the AI can't know it. The AI should truthfully say they don't know and maybe ask the user to share their favorite color. Let me make sure the response is friendly and invites the user to provide that information. Also, use emojis to keep the tone light and engaging. Avoid making up a color. Just acknowledge the lack of info and ask the user to tell them.\n",
      "</think>\n",
      "\n",
      "Hmm, I don’t actually know your favorite color yet! 🎨 (I’m still waiting for you to share it.) Do you have one? If not, maybe we could brainstorm some color combos inspired by your love for San Francisco fog, doggy days, or that iconic Vespa red? 😏 What’s on your palette?\n",
      "Human: What is my favorite city?\n",
      "AI:\u001b[0m\n",
      "\n",
      "\u001b[1m> Finished chain.\u001b[0m\n"
     ]
    },
    {
     "data": {
      "text/plain": [
       "{'input': 'What is my favorite city?',\n",
       " 'history': 'Human: I like to drive a vespa scooter in the city\\nAI: <think>\\nOkay, the user mentioned they like driving a Vespa scooter in the city. Let me start by acknowledging how fun and convenient that must be. I should add some enthusiasm with emojis, maybe a scooter or cityscape. Then, ask them about their experience—do they enjoy the freedom of navigating the city, or maybe the style? Also, ask if they have any favorite routes or places they visit on their Vespa. I should keep the conversation flowing by showing interest in their personal experiences. Maybe mention the culture of Vespa riders or the practicality of scooters in cities. Avoid anything too technical unless they bring it up. Keep the tone friendly and open-ended. Let me check for any mistakes and make sure the response is engaging.\\n</think>\\n\\nAh, a Vespa rider! 🚴♂️💨 That sounds like the perfect blend of style, freedom, and city exploration. Do you love the way it weaves through traffic, or maybe the cool factor of zipping past cars with a breeze in your hair? (Okay, maybe not *breeze* if it\\'s a cold city, but you get what I mean.) Do you have a favorite route you take or a spot you always stop at on your rides? I’d also be curious—do you stick to the classic Vespa vibe, or do you customize yours? 😎 Let’s hear the scoop!\\nHuman: My favorite city is San Francisco\\nAI: <think>\\nAlright, the user mentioned their favorite city is San Francisco. Let me start by expressing enthusiasm and maybe add some local landmarks or symbols. I should acknowledge why someone would love SF, like the fog, cable cars, or the tech scene. Then, ask them what specifically they love about it—maybe the culture, the food, the views, or something else. I should also invite them to share any personal experiences there, like favorite neighborhoods or events. Keep the tone friendly and open-ended to encourage them to talk more. Maybe include a San Francisco-related emoji to make it more engaging. Let me check for any errors and ensure the response is warm and inviting.\\n</think>\\n\\nSan Francisco! 🌫️🌉 That city is a treasure trove of fog-draped hills, iconic cable cars, and a vibe that’s *uniquely* SF (hello, tech innovation meets artsy chaos!). Do you love the fog rolling in over the Golden Gate, the energy of Fisherman’s Wharf, or maybe the quirky charm of the Painted Ladies? What’s *your* favorite corner of the city? And—plot twist—do you have a secret local spot (like a hidden café or a sunset spot) that makes your heart skip a beat? 🚲✨\\nHuman: What is my favorite color?\\nAI: <think>\\nOkay, the user has been talking about their favorite animals, driving a Vespa, and their favorite city. Now they\\'re asking, \"What is my favorite color?\" Wait, the question is phrased as \"my favorite color,\" but the user hasn\\'t mentioned anything about their favorite color in the conversation so far. Let me check the previous messages again to make sure.\\n\\nLooking back, the user said \"My favorite animals are dogs,\" \"I like to drive a Vespa scooter in the city,\" and \"My favorite city is San Francisco.\" There\\'s no mention of a favorite color. The AI\\'s job is to answer based on the context provided. Since the user hasn\\'t shared their favorite color, the AI can\\'t know it. The AI should truthfully say they don\\'t know and maybe ask the user to share their favorite color. Let me make sure the response is friendly and invites the user to provide that information. Also, use emojis to keep the tone light and engaging. Avoid making up a color. Just acknowledge the lack of info and ask the user to tell them.\\n</think>\\n\\nHmm, I don’t actually know your favorite color yet! 🎨 (I’m still waiting for you to share it.) Do you have one? If not, maybe we could brainstorm some color combos inspired by your love for San Francisco fog, doggy days, or that iconic Vespa red? 😏 What’s on your palette?',\n",
       " 'response': '<think>\\nOkay, the user is asking, \"What is my favorite city?\" Let me look back at the conversation history to check if they mentioned it before.\\n\\nLooking at the previous messages, the user did say: \"My favorite city is San Francisco.\" So the answer is San Francisco. The AI should confirm that and maybe add a friendly response with emojis to keep it engaging. Let me make sure not to add any extra info unless needed. Just a straightforward answer with a touch of enthusiasm and a relevant emoji.\\n</think>\\n\\nAh! Your favorite city is **San Francisco**! 🗺️🌉 (You mentioned it earlier, and I’m still daydreaming about those foggy hills and cable cars with you.) Want to talk about the best way to explore it on a Vespa, or maybe your top local spots? 🚴♂️💨'}"
      ]
     },
     "execution_count": 16,
     "metadata": {},
     "output_type": "execute_result"
    }
   ],
   "source": [
    "conversation_window({\"input\": \"What is my favorite city?\"})"
   ]
  },
  {
   "cell_type": "markdown",
   "id": "86c2f40f",
   "metadata": {},
   "source": [
    "## ***💾 Chat Message History***"
   ]
  },
  {
   "cell_type": "code",
   "execution_count": 17,
   "id": "d80f43ee",
   "metadata": {},
   "outputs": [],
   "source": [
    "# You can manually store and replay chat messages.\n",
    "from langchain.memory import ChatMessageHistory\n",
    "\n",
    "history = ChatMessageHistory()\n",
    "\n",
    "history.add_user_message(\"hi!\")\n",
    "history.add_ai_message(\"what's up?\")"
   ]
  },
  {
   "cell_type": "code",
   "execution_count": 18,
   "id": "f4e85f3f",
   "metadata": {},
   "outputs": [
    {
     "data": {
      "text/plain": [
       "[HumanMessage(content='hi!', additional_kwargs={}, response_metadata={}),\n",
       " AIMessage(content=\"what's up?\", additional_kwargs={}, response_metadata={})]"
      ]
     },
     "execution_count": 18,
     "metadata": {},
     "output_type": "execute_result"
    }
   ],
   "source": [
    "history.messages"
   ]
  }
 ],
 "metadata": {
  "kernelspec": {
   "display_name": "Python 3",
   "language": "python",
   "name": "python3"
  },
  "language_info": {
   "codemirror_mode": {
    "name": "ipython",
    "version": 3
   },
   "file_extension": ".py",
   "mimetype": "text/x-python",
   "name": "python",
   "nbconvert_exporter": "python",
   "pygments_lexer": "ipython3",
   "version": "3.11.9"
  }
 },
 "nbformat": 4,
 "nbformat_minor": 5
}
