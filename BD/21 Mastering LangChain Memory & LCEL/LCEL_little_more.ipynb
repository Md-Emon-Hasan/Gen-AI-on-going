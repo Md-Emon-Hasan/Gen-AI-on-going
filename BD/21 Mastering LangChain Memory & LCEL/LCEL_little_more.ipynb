{
 "cells": [
  {
   "cell_type": "code",
   "execution_count": 1,
   "id": "2ac15ab5",
   "metadata": {},
   "outputs": [],
   "source": [
    "# Step 1: Load GROQ API Key\n",
    "import os\n",
    "from dotenv import load_dotenv, find_dotenv\n",
    "_ = load_dotenv(find_dotenv())\n",
    "groq_api_key = os.environ[\"GROQ_API_KEY\"]"
   ]
  },
  {
   "cell_type": "code",
   "execution_count": 5,
   "id": "ceb79b48",
   "metadata": {},
   "outputs": [],
   "source": [
    "# Step 2: Import LLM (Groq)\n",
    "from langchain_groq import ChatGroq\n",
    "\n",
    "model = ChatGroq(api_key=\"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\", model=\"qwen/qwen3-32b\")"
   ]
  },
  {
   "cell_type": "code",
   "execution_count": 6,
   "id": "e269cb36",
   "metadata": {},
   "outputs": [
    {
     "data": {
      "text/plain": [
       "'<think>\\nOkay, the user wants a curious fact about Messi. Let me think about what I know about him. He\\'s a famous soccer player, from Argentina, plays for PSG now, maybe? But I need to check if that\\'s current. Also, his achievements, like Ballon d\\'Ors. Wait, I remember he won 8 Ballon d\\'Ors, which is a lot. But is there something curious about that? Maybe the fact that he\\'s the only one to win it 8 times. That\\'s a fact, but maybe not the most curious.\\n\\nWhat about his family? Does he have any siblings with interesting careers? His brother is a goalkeeper, maybe? Or maybe his nickname? Leo Messi, the nickname is Leo, but that\\'s common. Wait, his nickname in Argentina is Leo, but his full name is Lionel Andrés. Maybe something about his early career? Like he was diagnosed with a growth hormone deficiency as a child. That required treatment, which his family couldn\\'t afford, and Barcelona paid for it when he moved there. That\\'s a common fact, but is it curious? Maybe, because it\\'s a significant part of his story.\\n\\nAnother angle: his left foot. He\\'s known for being left-footed, but maybe there\\'s something specific about his playing style. Or perhaps something unique about his free-kick technique. Or maybe a quirky habit he has? Like his penalty kick routine. I think he sometimes counts steps or has a specific way of approaching the ball. Or maybe something about his off-field activities, like he\\'s known for being humble, but that\\'s not a fact. Wait, he has a foundation called Leo Messi Foundation, which focuses on education and health for children. That\\'s more about his charity work, but not the most curious.\\n\\nWait, I remember reading once that Messi\\'s first name is Lionel, which was inspired by his father\\'s favorite actor, Leo Lanz. But that might not be accurate. Alternatively, maybe there\\'s something about his nickname in different countries. For example, in some places he\\'s called by his initials, like L.A. Messi. Not sure if that\\'s true. Another possibility: his ability to score with either foot and his head? But that\\'s common for many players now. \\n\\nWait, there\\'s a fact that Messi has a unique talent where he can score with either foot and his head equally well. But again, maybe not the most curious. Let me think again. Oh, here\\'s something: when he was a child, he had a growth hormone deficiency, which required treatment. His family couldn\\'t afford it, so when Barcelona signed him, they covered the cost. That allowed him to grow to his current height of about 5\\'7\". That\\'s a significant fact because it\\'s a pivotal moment in his career and personal life. It\\'s a common fact but maybe the user wants something even more obscure.\\n\\nAlternatively, maybe there\\'s a fact about his playing style. For example, he has a high success rate in penalty kicks. Or maybe something about his time with Barcelona, like he never won the European Championship (UEFA Champions League) until recently? Wait, he did win it with Barcelona in 2009, 2011, 2015, and then with Inter Miami in the US? No, Inter Miami is in the MLS, which doesn\\'t compete in European competitions. So maybe that\\'s not it. \\n\\nWait, Messi\\'s family: his brother was a goalkeeper, but he\\'s not a professional. His younger brother is Rodrigo, who played semi-professionally. Not sure if that\\'s curious. Another angle: Messi\\'s first professional goal was at 17 for Barcelona against Real Madrid in the Copa del Rey. But that\\'s a well-known fact. \\n\\nWait, here\\'s a curious one: Messi\\'s name in Spanish is Lionel Andrés Messi Cuccittini. His mother, Celia Cuccittini, is from a family of Italian descent, hence the last name. So technically, his full name includes \"Cuccittini,\" but he\\'s mostly known as Messi. Maybe that\\'s a curious fact. Or perhaps he\\'s one of the few players to have played for the same club (Barcelona) for most of his career, except for his time at PSG and Inter Miami. \\n\\nAlternatively, there\\'s the fact that Messi has scored over 800 career goals, which is an incredible number. But is that a curious fact? Maybe not. Wait, he once scored 91 goals in a calendar year. That\\'s a record. But I think that was in 2012. Maybe that\\'s a curious fact. Let me verify. Yes, in 2012, Messi scored 91 goals across all competitions for Barcelona and Argentina. That\\'s a record. That\\'s a fact that\\'s pretty impressive and might be considered curious.\\n\\nAnother angle: his time in the US with Inter Miami. He joined in 2023 after a long career in Europe. That\\'s a recent move and maybe considered a surprising change for a player of his stature. But the user might be looking for something more inherent to him rather than a career move. \\n\\nWait, there\\'s also the fact that Messi is known for his low profile off the field. He\\'s very private and doesn\\'t seek the spotlight, which is unusual for someone of his fame. That\\'s more about his personality than a fact. \\n\\nHmm. Let me go back to the growth hormone deficiency. That\\'s a significant fact because it explains some of the challenges he faced early in his career. It\\'s also a common fact, but maybe the user is looking for something more specific. Another possibility is that he\\'s one of the few players to have won the Ballon d\\'Or while playing for a club that didn\\'t win the Champions League that year. For example, in 2012, Barcelona didn\\'t win the Champions League, but Messi still won the Ballon d\\'Or. That\\'s a curious fact about the award criteria. \\n\\nWait, another angle: Messi\\'s ability to play as a forward, but he\\'s also played in various positions, including as an attacking midfielder and even a winger. His versatility is remarkable. But not sure if that\\'s considered a curious fact. \\n\\nAlternatively, he\\'s the only player to have won the Ballon d\\'Or seven times before moving to a new club (from Barcelona to PSG). But that\\'s more of a career milestone. \\n\\nWait, here\\'s something: Messi\\'s first name is Lionel, which is a French name meaning \"lion.\" His father, also named Jorge, chose it because he wanted to honor his French heritage. That\\'s a small detail but maybe considered curious. \\n\\nOr maybe a quirky fact about his penalty kicks. He has a specific routine where he counts the steps before taking the shot. But I\\'m not sure if that\\'s accurate. \\n\\nAfter considering various options, the most notable and perhaps curious fact is his growth hormone deficiency as a child and Barcelona covering the treatment costs. It\\'s a pivotal event in his life that allowed him to continue his career. Alternatively, his 91-goal season in 2012. Both are significant. Let me check which one is more commonly cited as a curious fact. The growth hormone story is often mentioned in biographies, so that might be the better choice. Alternatively, the 91-goal season is a record. Let me confirm the numbers: in 2011/2012, he scored 50 league goals, 10 Copa del Rey, 11 Champions League, and 20 international goals, totaling 91. Yes. That\\'s a record.\\n</think>\\n\\nOne of the most curious facts about Lionel Messi is that **he scored an astonishing 91 goals in a single calendar year (2012)** across all competitions. This record-breaking tally included 50 goals in La Liga, 10 in the Copa del Rey, 11 in the UEFA Champions League, and 20 for the Argentina national team. This feat remains unmatched in professional football history and highlights his incredible consistency and goal-scoring prowess during that period. \\n\\nAnother fascinating tidbit is that **Messi\\'s full name is Lionel Andrés Messi Cuccittini**, but he is widely known by his paternal surname, \"Messi,\" while his mother’s family name, \"Cuccittini,\" is of Italian origin. This detail often goes unnoticed in media coverage, making it a subtle yet intriguing fact about his heritage. \\n\\nWhich one do you find more surprising? 😊'"
      ]
     },
     "execution_count": 6,
     "metadata": {},
     "output_type": "execute_result"
    }
   ],
   "source": [
    "# Step 3: Basic LCEL Chain\n",
    "from langchain_core.output_parsers import StrOutputParser\n",
    "from langchain_core.prompts import ChatPromptTemplate\n",
    "\n",
    "prompt = ChatPromptTemplate.from_template(\"tell me a curious fact about {soccer_player}\")\n",
    "output_parser = StrOutputParser()\n",
    "\n",
    "chain = prompt | model | output_parser\n",
    "chain.invoke({\"soccer_player\": \"Messi\"})"
   ]
  },
  {
   "cell_type": "code",
   "execution_count": 7,
   "id": "420ae1a3",
   "metadata": {},
   "outputs": [
    {
     "data": {
      "text/plain": [
       "'<think>\\nOkay, so I need to find a curious fact about '"
      ]
     },
     "execution_count": 7,
     "metadata": {},
     "output_type": "execute_result"
    }
   ],
   "source": [
    "# Step 4: Using `.bind()` to stop generation after \"Ronaldo\"\n",
    "chain = prompt | model.bind(stop=[\"Messi\"]) | output_parser\n",
    "chain.invoke({\"soccer_player\": \"Messi\"})"
   ]
  },
  {
   "cell_type": "markdown",
   "id": "9a8d8dee",
   "metadata": {},
   "source": [
    "## ***Combining LCEL Chains***"
   ]
  },
  {
   "cell_type": "code",
   "execution_count": 8,
   "id": "53e4871f",
   "metadata": {},
   "outputs": [
    {
     "data": {
      "text/plain": [
       "\"<think>\\nOkay, the user wants a sentence about Chamberlain. Let me figure out which Chamberlain they're referring to. There are a few notable ones.\\n\\nFirst, there's Neville Chamberlain, the British Prime Minister during the 1930s known for appeasing Hitler before WWII. That's a common reference. Then there's Oliver Chamberlain, the American football player, and maybe others like John Chamberlain, the artist. But since the user didn't specify, I should go with the most well-known one, which is likely Neville Chamberlain.\\n\\nNow, I need to create a sentence that's informative but concise. Maybe mention his role in the Munich Agreement and the policy of appeasement. Let me check the key points: he was the Prime Minister, he signed the Munich Agreement in 1938, which allowed Germany to annex the Sudetenland, and this policy is often seen as a failure because it didn't stop Hitler. \\n\\nI should make sure the sentence is accurate. Let me structure it: Neville Chamberlain, as British Prime Minister, signed the Munich Agreement in 1938, which is widely viewed as a failed attempt at appeasing Adolf Hitler and avoiding war. That covers the main points without getting too detailed. \\n\\nWait, should I mention the policy of appeasement? Yes, that adds context. Let me revise it: Neville Chamberlain, as British Prime Minister, is best known for his appeasement policy, exemplified by the 1938 Munich Agreement, which allowed Nazi Germany to annex the Sudetenland and is often criticized for enabling the outbreak of World War II. That's better. It includes his role, the policy, the event, and the consequence. \\n\\nLet me double-check dates and facts. The Munich Agreement was September 1938. Sudetenland was part of Czechoslovakia. Correct. And the result was that Hitler wasn't satisfied, leading to the invasion of Czechoslovakia in 1939 and then Poland, starting the war. So the sentence accurately reflects that appeasement failed. \\n\\nI think that's a solid sentence. It's concise, informative, and covers the key aspects of Chamberlain's most notable actions. The user probably wants a quick fact, not an essay, so this should work. Alright, ready to present this.\\n</think>\\n\\nNeville Chamberlain, as British Prime Minister, signed the 1938 Munich Agreement with Adolf Hitler, a controversial decision to appease Nazi Germany by allowing the annexation of the Sudetenland, which is widely regarded as having failed to prevent the outbreak of World War II.\""
      ]
     },
     "execution_count": 8,
     "metadata": {},
     "output_type": "execute_result"
    }
   ],
   "source": [
    "prompt = ChatPromptTemplate.from_template(\"tell me a sentence about {politician}\")\n",
    "chain = prompt | model | StrOutputParser()\n",
    "chain.invoke(\"Chamberlain\")"
   ]
  },
  {
   "cell_type": "markdown",
   "id": "c3504e74",
   "metadata": {},
   "source": [
    "## ***Combined Chain***"
   ]
  },
  {
   "cell_type": "code",
   "execution_count": 9,
   "id": "f2c81193",
   "metadata": {},
   "outputs": [
    {
     "data": {
      "text/plain": [
       "'<think>\\nOkay, the user asked for a sentence about Lincoln, and I provided one. Now they\\'re asking \"Was positive for Humanity?\" Hmm, maybe they\\'re questioning if Lincoln\\'s impact was positive. I need to address that.\\n\\nFirst, I should confirm that Lincoln\\'s actions were indeed beneficial. He ended slavery, preserved the Union, and his leadership during the Civil War had long-term positive effects. But I should also consider any counterarguments. Some might argue about his policies towards Native Americans or the expansion of federal power, but those are more nuanced points.\\n\\nThe user\\'s question seems to be seeking validation of Lincoln\\'s positive contributions. I should clearly state that his actions were positive, especially regarding ending slavery and preserving the Union. Mention specific achievements like the Emancipation Proclamation and the Gettysburg Address to reinforce that. Also, highlight his moral stance against slavery as a key factor. Make sure to keep it concise but thorough, addressing the main points that affirm his positive impact on humanity.\\n</think>\\n\\nAbraham Lincoln\\'s leadership had profoundly positive impacts on humanity, most notably through his pivotal role in abolishing slavery in the United States via the **Emancipation Proclamation** (1863) and the eventual passage of the **13th Amendment** (1865), which permanently ended slavery nationwide. His steadfast commitment to preserving the Union during the Civil War and his moral opposition to slavery continue to be celebrated as transformative contributions to human rights and equality.'"
      ]
     },
     "execution_count": 9,
     "metadata": {},
     "output_type": "execute_result"
    }
   ],
   "source": [
    "historian_prompt = ChatPromptTemplate.from_template(\"Was {politician} positive for Humanity?\")\n",
    "composed_chain = {\"politician\": chain} | historian_prompt | model | StrOutputParser()\n",
    "composed_chain.invoke({\"politician\": \"Lincoln\"})"
   ]
  },
  {
   "cell_type": "markdown",
   "id": "3a430bb7",
   "metadata": {},
   "source": [
    "## ***Chain Inside Another Chain***"
   ]
  },
  {
   "cell_type": "code",
   "execution_count": 10,
   "id": "fc3a3ac3",
   "metadata": {},
   "outputs": [
    {
     "data": {
      "text/plain": [
       "\"<think>\\nOkay, the user asked about the continent of the country where Mitterrand is from. I need to figure out which Mitterrand they're referring to. The most likely is François Mitterrand, the former French president. He was born in France, so the country is France. Now, France is in Europe. I should confirm that there's no other Mitterrand from a different country, but I can't think of any. So the answer is Europe. I'll make sure to mention François Mitterrand to avoid confusion with any other namesakes.\\n</think>\\n\\nFrançois Mitterrand était un homme politique français, ancien président de la République (1981-1995) et Premier ministre (1959-1962). Il est né en France, pays situé en **Europe**. Ainsi, le continent associé à son pays d'origine est **l'Europe**.\""
      ]
     },
     "execution_count": 10,
     "metadata": {},
     "output_type": "execute_result"
    }
   ],
   "source": [
    "from operator import itemgetter\n",
    "\n",
    "prompt1 = ChatPromptTemplate.from_template(\"what is the country {politician} is from?\")\n",
    "prompt2 = ChatPromptTemplate.from_template(\"what continent is the country {country} in? respond in {language}\")\n",
    "\n",
    "chain1 = prompt1 | model | StrOutputParser()\n",
    "\n",
    "chain2 = (\n",
    "    {\"country\": chain1, \"language\": itemgetter(\"language\")}\n",
    "    | prompt2\n",
    "    | model\n",
    "    | StrOutputParser()\n",
    ")\n",
    "\n",
    "chain2.invoke({\"politician\": \"Miterrand\", \"language\": \"French\"})"
   ]
  },
  {
   "cell_type": "markdown",
   "id": "76855d43",
   "metadata": {},
   "source": [
    "## ***LCEL Chain in a RAG Pipeline***"
   ]
  },
  {
   "cell_type": "code",
   "execution_count": 11,
   "id": "da45f88c",
   "metadata": {},
   "outputs": [
    {
     "name": "stderr",
     "output_type": "stream",
     "text": [
      "USER_AGENT environment variable not set, consider setting it to identify your requests.\n"
     ]
    }
   ],
   "source": [
    "import bs4\n",
    "from langchain import hub\n",
    "from langchain_chroma import Chroma\n",
    "from langchain_community.document_loaders import WebBaseLoader\n",
    "from langchain_core.output_parsers import StrOutputParser\n",
    "from langchain_core.runnables import RunnablePassthrough\n",
    "from langchain_text_splitters import RecursiveCharacterTextSplitter"
   ]
  },
  {
   "cell_type": "code",
   "execution_count": 12,
   "id": "e0d2882e",
   "metadata": {},
   "outputs": [],
   "source": [
    "loader = WebBaseLoader(\n",
    "    web_paths=(\"https://lilianweng.github.io/posts/2023-06-23-agent/\",),\n",
    "    bs_kwargs=dict(\n",
    "        parse_only=bs4.SoupStrainer(\n",
    "            class_=(\"post-content\", \"post-title\", \"post-header\")\n",
    "        )\n",
    "    ),\n",
    ")"
   ]
  },
  {
   "cell_type": "code",
   "execution_count": 13,
   "id": "0cbcfa06",
   "metadata": {},
   "outputs": [],
   "source": [
    "docs = loader.load()\n",
    "\n",
    "text_splitter = RecursiveCharacterTextSplitter(chunk_size=1000, chunk_overlap=200)\n",
    "splits = text_splitter.split_documents(docs)"
   ]
  },
  {
   "cell_type": "code",
   "execution_count": 14,
   "id": "c5cfc560",
   "metadata": {},
   "outputs": [
    {
     "name": "stderr",
     "output_type": "stream",
     "text": [
      "C:\\Users\\emon1\\AppData\\Local\\Temp\\ipykernel_2580\\1728591684.py:3: LangChainDeprecationWarning: The class `HuggingFaceEmbeddings` was deprecated in LangChain 0.2.2 and will be removed in 1.0. An updated version of the class exists in the :class:`~langchain-huggingface package and should be used instead. To use it run `pip install -U :class:`~langchain-huggingface` and import as `from :class:`~langchain_huggingface import HuggingFaceEmbeddings``.\n",
      "  embedding_model = HuggingFaceEmbeddings(model_name=\"all-MiniLM-L6-v2\")\n",
      "c:\\Users\\emon1\\AppData\\Local\\Programs\\Python\\Python311\\Lib\\site-packages\\tqdm\\auto.py:21: TqdmWarning: IProgress not found. Please update jupyter and ipywidgets. See https://ipywidgets.readthedocs.io/en/stable/user_install.html\n",
      "  from .autonotebook import tqdm as notebook_tqdm\n"
     ]
    }
   ],
   "source": [
    "from langchain.embeddings import HuggingFaceEmbeddings\n",
    "\n",
    "embedding_model = HuggingFaceEmbeddings(model_name=\"all-MiniLM-L6-v2\")"
   ]
  },
  {
   "cell_type": "code",
   "execution_count": 15,
   "id": "f438cfe7",
   "metadata": {},
   "outputs": [],
   "source": [
    "vectorstore = Chroma.from_documents(documents=splits, embedding=embedding_model)\n",
    "retriever = vectorstore.as_retriever()"
   ]
  },
  {
   "cell_type": "code",
   "execution_count": 16,
   "id": "a1b0d1d4",
   "metadata": {},
   "outputs": [
    {
     "name": "stderr",
     "output_type": "stream",
     "text": [
      "c:\\Users\\emon1\\AppData\\Local\\Programs\\Python\\Python311\\Lib\\site-packages\\langsmith\\client.py:241: LangSmithMissingAPIKeyWarning: API key must be provided when using hosted LangSmith API\n",
      "  warnings.warn(\n"
     ]
    }
   ],
   "source": [
    "prompt = hub.pull(\"rlm/rag-prompt\")\n",
    "\n",
    "def format_docs(docs):\n",
    "    return \"\\n\\n\".join(doc.page_content for doc in docs)\n",
    "\n",
    "rag_chain = (\n",
    "    {\"context\": retriever | format_docs, \"question\": RunnablePassthrough()}\n",
    "    | prompt\n",
    "    | model\n",
    "    | StrOutputParser()\n",
    ")"
   ]
  },
  {
   "cell_type": "code",
   "execution_count": 17,
   "id": "d420f5a6",
   "metadata": {},
   "outputs": [
    {
     "data": {
      "text/plain": [
       "'<think>\\nOkay, the user is asking about Task Decomposition. Let me look at the context provided.\\n\\nFrom the context, task decomposition can be done in three ways: using LLM with prompts like \"Steps for XYZ,\" task-specific instructions, or human inputs. Also mentioned is the LLM+P approach where a classical planner is used with PDDL. There\\'s a mention of Chain of Thought (CoT) and Tree of Thoughts (ToT) methods which break tasks into steps and explore multiple reasoning paths.\\n\\nI need to define Task Decomposition concisely. The answer should mention breaking down tasks into subgoals or steps, the methods like prompting or planning, and maybe the purpose like making complex tasks manageable. The user wants three sentences max, so I need to be concise. Let me check the key points again. Avoid mentioning challenges unless necessary, focus on the definition and methods. Make sure to reference the context accurately without adding extra info.\\n</think>\\n\\nTask Decomposition is the process of breaking down a complex task into smaller, manageable subgoals or steps to simplify execution and planning. It can be achieved through LLM prompting, task-specific instructions, human input, or external planners using formal languages like PDDL. Methods like Chain of Thought (CoT) and Tree of Thoughts further enhance this by structuring reasoning into sequential or exploratory steps.'"
      ]
     },
     "execution_count": 17,
     "metadata": {},
     "output_type": "execute_result"
    }
   ],
   "source": [
    "rag_chain.invoke(\"What is Task Decomposition?\")"
   ]
  },
  {
   "cell_type": "code",
   "execution_count": 18,
   "id": "55da642c",
   "metadata": {},
   "outputs": [
    {
     "data": {
      "text/plain": [
       "'<think>\\nOkay, the user is asking what self-reflection is. Let me look at the provided context. The context mentions the Reflexion framework, which uses self-reflection for agents. It says self-reflection is created by showing two-shot examples of failed trajectories and ideal reflections. These reflections are added to the agent\\'s working memory. Also, there\\'s a part about ReAct integrating reasoning and acting, but the key part here is the Reflexion framework.\\n\\nSelf-reflection in this context seems to be a method where agents learn from their mistakes by analyzing failed attempts and using that to adjust future actions. The examples provided include failed trajectories and ideal reflections, which guide the agent. The agent uses these reflections in its memory to improve. The Reflexion framework uses a heuristic function to detect inefficiency or hallucination, leading the agent to reset and start over if needed.\\n\\nI need to make sure I\\'m not confusing self-reflection with reflection mentioned in ReAct. The context differentiates them: self-reflection in Reflexion is about handling failed trajectories, while reflection in ReAct is about synthesizing memories. The answer should focus on the Reflexion part. So, self-reflection is a mechanism where agents use examples of their failures and ideal corrections to adjust their strategies, stored in working memory to guide future decisions. That\\'s the main idea. Now, condense it into three concise sentences without markdown.\\n</think>\\n\\nSelf-Reflection is a mechanism in autonomous agents where they analyze their failed action sequences (trajectories) to identify inefficiencies or errors, using examples of \"failed trajectory\" and \"ideal reflection\" pairs to guide future improvements. It involves storing these reflections in working memory to inform subsequent decisions, helping agents correct mistakes iteratively. This process is central to frameworks like Reflexion, which combines reasoning and action to enhance learning through trial and error.'"
      ]
     },
     "execution_count": 18,
     "metadata": {},
     "output_type": "execute_result"
    }
   ],
   "source": [
    "rag_chain.invoke(\"What is Self-Reflection?\")"
   ]
  }
 ],
 "metadata": {
  "kernelspec": {
   "display_name": "Python 3",
   "language": "python",
   "name": "python3"
  },
  "language_info": {
   "codemirror_mode": {
    "name": "ipython",
    "version": 3
   },
   "file_extension": ".py",
   "mimetype": "text/x-python",
   "name": "python",
   "nbconvert_exporter": "python",
   "pygments_lexer": "ipython3",
   "version": "3.11.9"
  }
 },
 "nbformat": 4,
 "nbformat_minor": 5
}
