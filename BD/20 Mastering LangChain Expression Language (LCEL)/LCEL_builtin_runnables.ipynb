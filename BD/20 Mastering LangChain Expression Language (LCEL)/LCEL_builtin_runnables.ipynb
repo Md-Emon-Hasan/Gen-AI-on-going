{
 "cells": [
  {
   "cell_type": "code",
   "execution_count": 1,
   "id": "f733a855",
   "metadata": {},
   "outputs": [],
   "source": [
    "import os\n",
    "from dotenv import load_dotenv, find_dotenv\n",
    "_ = load_dotenv(find_dotenv())\n",
    "groq_api_key = os.environ[\"GROQ_API_KEY\"]"
   ]
  },
  {
   "cell_type": "code",
   "execution_count": 2,
   "id": "64c8da9f",
   "metadata": {},
   "outputs": [],
   "source": [
    "# Step 3: Import Groq LLM\n",
    "from langchain_groq import ChatGroq\n",
    "\n",
    "chatModel = ChatGroq(api_key=\"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\", model=\"qwen/qwen3-32b\")"
   ]
  },
  {
   "cell_type": "markdown",
   "id": "1d116be2",
   "metadata": {},
   "source": [
    "## ***RunnablePassthrough***"
   ]
  },
  {
   "cell_type": "code",
   "execution_count": 4,
   "id": "631ba803",
   "metadata": {},
   "outputs": [
    {
     "name": "stdout",
     "output_type": "stream",
     "text": [
      "Emon\n"
     ]
    }
   ],
   "source": [
    "from langchain_core.runnables import RunnablePassthrough\n",
    "\n",
    "chain = RunnablePassthrough()\n",
    "out = chain.invoke(\"Emon\")\n",
    "print(out)"
   ]
  },
  {
   "cell_type": "code",
   "execution_count": 5,
   "id": "82a64177",
   "metadata": {},
   "outputs": [
    {
     "name": "stdout",
     "output_type": "stream",
     "text": [
      "<class 'str'>\n",
      "<class 'str'>\n"
     ]
    }
   ],
   "source": [
    "print(type(\"Emon\"))\n",
    "print(type(out))"
   ]
  },
  {
   "cell_type": "markdown",
   "id": "ce8c2557",
   "metadata": {},
   "source": [
    "## ***RunnableLambda***"
   ]
  },
  {
   "cell_type": "code",
   "execution_count": 6,
   "id": "72aaf490",
   "metadata": {},
   "outputs": [
    {
     "name": "stdout",
     "output_type": "stream",
     "text": [
      "Emonovich\n"
     ]
    }
   ],
   "source": [
    "def russian_lastname(name: str) -> str:\n",
    "    return f\"{name}ovich\"\n",
    "\n",
    "from langchain_core.runnables import RunnableLambda\n",
    "\n",
    "chain = RunnablePassthrough() | RunnableLambda(russian_lastname)\n",
    "print(chain.invoke(\"Emon\"))"
   ]
  },
  {
   "cell_type": "markdown",
   "id": "560b4136",
   "metadata": {},
   "source": [
    "## ***RunnableParallel***"
   ]
  },
  {
   "cell_type": "code",
   "execution_count": 7,
   "id": "2cf5ec30",
   "metadata": {},
   "outputs": [
    {
     "name": "stdout",
     "output_type": "stream",
     "text": [
      "{'operation_a': 'Emon', 'operation_b': 'Emonovich'}\n"
     ]
    }
   ],
   "source": [
    "from langchain_core.runnables import RunnableParallel\n",
    "\n",
    "chain = RunnableParallel(\n",
    "    {\n",
    "        \"operation_a\": RunnablePassthrough(),\n",
    "        \"operation_b\": RunnableLambda(russian_lastname)\n",
    "    }\n",
    ")\n",
    "\n",
    "print(chain.invoke(\"Emon\"))"
   ]
  },
  {
   "cell_type": "code",
   "execution_count": 8,
   "id": "56d804c8",
   "metadata": {},
   "outputs": [],
   "source": [
    "from langchain_core.output_parsers import StrOutputParser\n",
    "from langchain_core.prompts import ChatPromptTemplate\n",
    "\n",
    "prompt = ChatPromptTemplate.from_template(\"tell me a curious fact about {soccer_player}\")\n",
    "output_parser = StrOutputParser()"
   ]
  },
  {
   "cell_type": "code",
   "execution_count": 10,
   "id": "dda371b3",
   "metadata": {},
   "outputs": [
    {
     "data": {
      "text/plain": [
       "'<think>\\nOkay, so I need to find a curious fact about Roman Abramovich. Let me start by recalling what I know about him. He\\'s a Russian billionaire, right? I think he\\'s involved in several businesses, like oil, metals, maybe sports teams. Oh, he owns Chelsea FC in the English Premier League. That\\'s pretty well-known.\\n\\nNow, a curious fact. Maybe something about his early life, or some unusual investments, or perhaps a unique property he owns? I remember hearing that he owns a superyacht. Is there something unusual about it? Or maybe a private jet? Also, he\\'s had some controversies, like sanctions in recent years due to his ties with Russia and Putin. But maybe that\\'s too recent or not as curious.\\n\\nWait, there was something about a diamond collection. Or maybe his spending on art? Or perhaps a unique way he\\'s used his wealth. Let me think. Oh, there was a time when he was involved in space tourism. He went to the International Space Station, right? That could be a curious fact. Let me verify that. Yes, in 2003, he became the first person to travel to space as a tourist, paying a reported $30 million for the trip. That\\'s pretty interesting. But is there something even more curious?\\n\\nAnother angle: his business ventures. He co-founded Sibneft, which was a major oil company. He sold it to Gazprom for a huge profit, which made him a billionaire. Then he bought Chelsea FC in 2003, which was a significant investment and turned around the club. But that\\'s more about business acumen than a curious fact.\\n\\nWait, there\\'s a story about his house or his private jet. I think he has a private jet called \"Millennia\" which is one of the most expensive and luxurious. But is there a unique feature about that plane? Maybe it has a swimming pool or a cinema? I\\'m not sure. Alternatively, maybe his house in the UK, like a mansion with something unusual. Or perhaps he owns a piece of land somewhere remote or a unique property.\\n\\nAnother thought: he\\'s been involved in various political activities in Russia, but that might not be considered a curious fact. Maybe something about his philanthropy? Or perhaps a quirky habit or a unique collection. Wait, there\\'s a story about him buying a medieval fortress in France. I\\'m not sure if that\\'s true. Let me check my memory. Yes, he owns the Château de Vizille in France, but I\\'m not sure how curious that is. Maybe it\\'s more about his art collection.\\n\\nWait, I remember that he was involved in a very expensive divorce case. He was married to Alina Kabaeva, a Russian rhythmic gymnast turned politician. Their divorce settlement was one of the most expensive, with her receiving around $500 million. That\\'s a significant amount, but is that a curious fact?\\n\\nAlternatively, there\\'s the story about his superyacht \"Goslar\" which is 150 meters long. It has a helipad, a swimming pool, and maybe a submarine? Or perhaps he owns a private island. Let me think. There\\'s a report that he owns an island in the British Virgin Islands. But is that common for billionaires? Maybe not that unique.\\n\\nWait, there\\'s a curious fact about his connection with a famous person. For example, he\\'s a friend of Vladimir Putin. But that\\'s more about his political ties. Or maybe he has a nickname. I think he\\'s known as \"Abramovich\" in the media, but not sure if that\\'s a nickname.\\n\\nAnother angle: his education. Did he have an unusual educational background? I think he studied economics at the University of Stavropol, but not sure if that\\'s unique. Maybe he started his career in a different field before becoming a billionaire. He was involved in construction in the 90s, which was part of the privatization process in Russia. That might not be as curious.\\n\\nWait, here\\'s something else. He owns a company called Millhouse, which is a holding company for his various ventures. But that\\'s more about business structure. Maybe something more unusual. Oh, he\\'s been involved in the art world, collecting pieces from famous artists. For instance, he owns works by Picasso and others. But again, not sure if that\\'s a curious fact.\\n\\nWait, there\\'s a story about him buying a mansion in the UK and having it extensively renovated. The mansion is called \"Barnbrough Hall\" in Yorkshire. It\\'s a historic property, and he spent a lot on modernizing it. But maybe there\\'s something specific about it? Like a hidden room or a unique feature? Not sure.\\n\\nLet me try to recall if there\\'s a specific event or purchase that\\'s considered unusual. Oh! There was a time when he bought a company called Norilsk Nickel, which is a major mining company. But he sold it later. Not sure if that\\'s curious.\\n\\nWait, perhaps the time he was involved in a bid for a major American company. I think he tried to buy a stake in a US company, but it was blocked by the US government due to national security concerns. That might be a curious fact. For example, his attempt to acquire Marmon Group, a US-based investment company, which was blocked in 2007. The US government blocked the deal under the Committee on Foreign Investment in the United States (CFIUS) on national security grounds. That\\'s an interesting fact because it shows how his foreign investments can face scrutiny and even be blocked by governments, which is unusual for a private buyer.\\n\\nAlternatively, there\\'s the fact that he\\'s one of the few people in the world to have traveled to space as a tourist. That\\'s definitely a curious and unique fact. So maybe that\\'s the one to go with. Let me confirm the details. In 2003, he flew to the International Space Station aboard a Soyuz spacecraft. He was the first space tourist, paying $30 million for the trip. He trained for months with Russian cosmonauts and spent a week in space. That\\'s a notable and curious fact about him. It\\'s not something that most billionaires have done, and it\\'s a unique experience that\\'s both expensive and rare.\\n\\nAnother point: he\\'s known for his love of football (soccer) and has been a significant investor in Chelsea FC. He\\'s been involved in the club for over a decade, transforming it into a top-tier team in Europe. But maybe there\\'s a quirky aspect to his ownership, like a specific project or a unique stadium development. For instance, there were plans to build a new stadium for Chelsea, but those were abandoned. Not sure if that\\'s curious enough.\\n\\nAlternatively, there\\'s the fact that he\\'s been a major donor to various causes, but again, not sure if that\\'s a curious fact. Maybe the way he\\'s used his wealth to influence sports. For example, he\\'s been a leading figure in the Russian Olympic Committee and has contributed to the funding of the Sochi Winter Olympics. But that\\'s more about his business and political ties.\\n\\nWait, another angle: his personal life. He has a daughter, Daria Abramovich, and has been known to be very protective of his family. Maybe something about how he keeps his family private, but that\\'s more about privacy than a curious fact.\\n\\nHmm. Let me recap. The most curious facts I can think of are:\\n\\n1. First paying tourist to travel to space in 2003.\\n2. His attempt to buy Marmon Group in the US, which was blocked.\\n3. His ownership of Chelsea FC and the transformation of the club.\\n4. His significant divorce settlement with Alina Kabaeva.\\n5. His connection with Putin and political influence in Russia.\\n\\nOut of these, the space travel fact is the most unique and curious. It\\'s something that\\'s not common and highlights both his wealth and his willingness to invest in extreme experiences. The other facts are more about business dealings or personal life. So, I think the space tourism fact is the best one to present as a curious fact about Roman Abramovich.\\n</think>\\n\\nA curious and notable fact about Roman Abramovich is that he became the **first person to travel to space as a paying tourist**. In 2003, he spent $30 million to join a Russian Soyuz spacecraft, training for months alongside cosmonauts before spending a week aboard the International Space Station (ISS). During his mission, he conducted scientific experiments and even celebrated his 43rd birthday in orbit. This historic journey not only showcased his immense wealth but also made him a pioneer in the nascent field of space tourism. Abramovich later joked that he would consider returning to space if he could \"earn more money to pay for it.\" 🚀'"
      ]
     },
     "execution_count": 10,
     "metadata": {},
     "output_type": "execute_result"
    }
   ],
   "source": [
    "def russian_lastname_from_dictionary(person):\n",
    "    return person[\"name\"] + \"ovich\"\n",
    "\n",
    "chain = RunnableParallel(\n",
    "    {\n",
    "        \"operation_a\": RunnablePassthrough(),\n",
    "        \"soccer_player\": RunnableLambda(russian_lastname_from_dictionary),\n",
    "        \"operation_c\": RunnablePassthrough(),\n",
    "    }\n",
    ") | prompt | chatModel | output_parser\n",
    "\n",
    "chain.invoke({\n",
    "    \"name1\": \"Jordam\",\n",
    "    \"name\": \"Abram\"\n",
    "})"
   ]
  },
  {
   "cell_type": "markdown",
   "id": "3c7544ef",
   "metadata": {},
   "source": [
    "## ***RunnableParallel + FAISS Retrieval***"
   ]
  },
  {
   "cell_type": "code",
   "execution_count": 13,
   "id": "03bec22e",
   "metadata": {},
   "outputs": [
    {
     "data": {
      "text/plain": [
       "'<think>\\nOkay, the user is asking, \"What is dswithbappy?\" and I need to answer based on the provided context. Let me look at the document they gave.\\n\\nThe document says: \"dswithbappy focuses on providing content on Data Science, AI, ML, DL, CV, NLP, Python programming, etc. in English.\" So the key points here are that dswithbappy is a platform or maybe a blog, YouTube channel, or similar, that provides educational content in several tech fields. The areas mentioned are Data Science, Artificial Intelligence, Machine Learning, Deep Learning, Computer Vision, Natural Language Processing, and Python programming. The content is in English. \\n\\nI need to make sure the answer includes all those technical terms and that it\\'s clear what the focus is. Also, the answer should be concise but cover all the topics listed. Let me check if there\\'s any other info in the document, but it seems straightforward. The metadata is empty, so no other details there. \\n\\nSo the answer should state that dswithbappy provides content on those specific areas and mention the language. Maybe start with \"dswithbappy is a platform that focuses...\" to make it clear. I\\'ll list the topics separated by commas and end with \"etc.\" since the document uses that. Also, specify that the content is in English. That should cover everything without adding any extra information beyond the context.\\n</think>\\n\\ndswithbappy is a platform that focuses on providing educational content related to Data Science, Artificial Intelligence (AI), Machine Learning (ML), Deep Learning (DL), Computer Vision (CV), Natural Language Processing (NLP), Python programming, and other related topics, all delivered in English.'"
      ]
     },
     "execution_count": 13,
     "metadata": {},
     "output_type": "execute_result"
    }
   ],
   "source": [
    "from langchain_community.vectorstores import FAISS\n",
    "from langchain.embeddings import HuggingFaceEmbeddings\n",
    "\n",
    "embedding_model = HuggingFaceEmbeddings(model_name=\"all-MiniLM-L6-v2\")\n",
    "\n",
    "vectorstore = FAISS.from_texts(\n",
    "    [\"dswithbappy focuses on providing content on Data Science, AI, ML, DL, CV, NLP, Python programming, etc. in English.\"],\n",
    "    embedding=embedding_model\n",
    ")\n",
    "\n",
    "retriever = vectorstore.as_retriever()\n",
    "\n",
    "template = \"\"\"Answer the question based only on the following context:\n",
    "{context}\n",
    "\n",
    "Question: {question}\n",
    "\"\"\"\n",
    "\n",
    "prompt = ChatPromptTemplate.from_template(template)\n",
    "\n",
    "retrieval_chain = (\n",
    "    RunnableParallel({\"context\": retriever, \"question\": RunnablePassthrough()})\n",
    "    | prompt\n",
    "    | chatModel\n",
    "    | StrOutputParser()\n",
    ")\n",
    "\n",
    "retrieval_chain.invoke(\"What is dswithbappy?\")\n"
   ]
  },
  {
   "cell_type": "markdown",
   "id": "6f2d0304",
   "metadata": {},
   "source": [
    "## ***RunnableParallel + itemgetter + Multilingual Prompting***"
   ]
  },
  {
   "cell_type": "code",
   "execution_count": 14,
   "id": "c525ad41",
   "metadata": {},
   "outputs": [
    {
     "data": {
      "text/plain": [
       "'<think>\\nOkay, let\\'s tackle this. The user wants to know what dswithbappy is, and the answer needs to be in Pirate English. The context given is a document that says dswithbappy focuses on Data Science, AI, ML, DL, CV, NLP, Python programming, etc., in English.\\n\\nFirst, I need to translate the key terms into Pirate English. Let\\'s see... \"focuses on providing content\" could be \"be \\'bout givin\\' \\'tention to\". \"Content on Data Science, AI, ML, DL, CV, NLP, Python programming\" would be \"datascience, AI, ML, DL, CV, NLP, Python programmin’ stuff\". \"In English\" might be \"in the King’s tongue\" since pirates often refer to English as the King\\'s or Queen\\'s English. \\n\\nPutting it all together, the answer should start with \"Arrr, dswithbappy be a site \\'at be \\'bout givin\\' \\'tention to...\" followed by the list of topics. Need to make sure the pirate terms are consistent. Maybe add an \"Arrr\" at the beginning for authenticity. Also, check if any of the abbreviations like ML (Machine Learning) should be spelled out in pirate speak, but since the context uses the abbreviations, it\\'s probably okay to keep them as is. \\n\\nWait, the answer should be based only on the provided context. The document doesn\\'t mention anything else, so stick strictly to the given info. Don\\'t add extra info. Make sure the pirate phrases are correct. Maybe use \"be \\'bout\" instead of \"is about\" and \"givin\\' \\'tention to\" instead of \"providing content on\". Also, \"etc.\" in the context is represented as \"etc.\" in the answer, but in pirate, maybe use \"an\\' such\" instead. Let me check the original document: the page_content ends with \"etc.\" but in pirate, \"an\\' such\" would be better. So replace \"etc.\" with \"an\\' such\". \\n\\nSo the final answer should be: \"Arrr, dswithbappy be a site \\'at be \\'bout givin\\' \\'tention to datascience, AI, ML, DL, CV, NLP, Python programmin’ stuff in the King’s tongue. Yarrr!\" Maybe add a \"Yarrr!\" at the end for a pirate flair. Let me make sure I didn\\'t miss any parts. The document mentions \"etc.\" which I converted to \"an\\' such\". Also, the document says \"in English\", which in pirate is \"in the King’s tongue\". That\\'s correct. Alright, that should cover it.\\n</think>\\n\\nArrr, dswithbappy be a site \\'at be \\'bout givin\\' \\'tention to datascience, AI, ML, DL, CV, NLP, Python programmin’ stuff in the King’s tongue. Yarrr!'"
      ]
     },
     "execution_count": 14,
     "metadata": {},
     "output_type": "execute_result"
    }
   ],
   "source": [
    "from operator import itemgetter\n",
    "\n",
    "template = \"\"\"Answer the question based only on the following context:\n",
    "{context}\n",
    "\n",
    "Question: {question}\n",
    "\n",
    "Answer in the following language: {language}\n",
    "\"\"\"\n",
    "\n",
    "prompt = ChatPromptTemplate.from_template(template)\n",
    "\n",
    "chain = (\n",
    "    {\n",
    "        \"context\": itemgetter(\"question\") | retriever,\n",
    "        \"question\": itemgetter(\"question\"),\n",
    "        \"language\": itemgetter(\"language\"),\n",
    "    }\n",
    "    | prompt\n",
    "    | chatModel\n",
    "    | StrOutputParser()\n",
    ")\n",
    "\n",
    "chain.invoke({\n",
    "    \"question\": \"What is dswithbappy?\",\n",
    "    \"language\": \"Pirate English\"\n",
    "})"
   ]
  }
 ],
 "metadata": {
  "kernelspec": {
   "display_name": "Python 3",
   "language": "python",
   "name": "python3"
  },
  "language_info": {
   "codemirror_mode": {
    "name": "ipython",
    "version": 3
   },
   "file_extension": ".py",
   "mimetype": "text/x-python",
   "name": "python",
   "nbconvert_exporter": "python",
   "pygments_lexer": "ipython3",
   "version": "3.11.9"
  }
 },
 "nbformat": 4,
 "nbformat_minor": 5
}
