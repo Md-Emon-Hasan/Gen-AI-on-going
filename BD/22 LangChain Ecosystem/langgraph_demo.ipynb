{
 "cells": [
  {
   "cell_type": "code",
   "execution_count": 1,
   "id": "3b2ec7d0",
   "metadata": {},
   "outputs": [],
   "source": [
    "# STEP 1: Load Groq API key from .env\n",
    "import os\n",
    "from dotenv import load_dotenv, find_dotenv\n",
    "_ = load_dotenv(find_dotenv())\n",
    "groq_api_key = os.environ[\"GROQ_API_KEY\"]"
   ]
  },
  {
   "cell_type": "code",
   "execution_count": 4,
   "id": "6a34b846",
   "metadata": {},
   "outputs": [],
   "source": [
    "# Step 2: Import LLM (Groq)\n",
    "from langchain_groq import ChatGroq\n",
    "\n",
    "llm = ChatGroq(api_key=\"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\", model=\"qwen/qwen3-32b\")"
   ]
  },
  {
   "cell_type": "code",
   "execution_count": 5,
   "id": "c8bcbeaf",
   "metadata": {},
   "outputs": [
    {
     "data": {
      "text/plain": [
       "AIMessage(content=\"<think>\\nOkay, the user is asking for the latest news about a war between India and Pakistan in 2025. First, I need to check if that's even possible. Since I only have knowledge up to October 2023, I can't provide real-time updates. But maybe there's been some recent developments that I should consider.\\n\\nI remember that India and Pakistan have a history of conflicts, especially over Kashmir. The 2019 Pulwama attack and the surgical strikes come to mind. But in recent years, there's been a bit of a lull in the tension. Both countries have been more focused on internal issues and other regional dynamics, like Afghanistan or China's influence in the region.\\n\\nI should also think about the current geopolitical climate. Both countries are part of different international alliances. India is part of the Quad with the US, Japan, and Australia, while Pakistan has a strategic relationship with China. So any conflict would have implications beyond just the two nations.\\n\\nThe user might be interested in knowing the current state of relations. As of my last update in October 2023, there hasn't been a declared war. However, there have been occasional border clashes, like the recent ones in the Line of Control. Also, both countries have been conducting military exercises and showing off their capabilities. For example, India's Tejas Mk1A and Pakistan's JF-17 Thunder.\\n\\nI should mention the role of the UN and international mediation. The UN has been pushing for peaceful resolution through dialogue. There have been some backchannel talks, but nothing concrete. The user might also be interested in the economic aspects. The CPEC (China-Pakistan Economic Corridor) is a significant project that India opposes, which could be a point of contention.\\n\\nAdditionally, there's the aspect of terrorism and cross-border attacks. Both countries accuse each other of supporting militants. India has been focusing on counter-terrorism efforts, while Pakistan has been dealing with internal extremism. The situation in Afghanistan might also influence their relations, as the Taliban's stance on cross-border issues could affect Pakistan's stability.\\n\\nI need to make sure to clarify that as of my knowledge cutoff in October 2023, there hasn't been a war in 2025. However, it's possible that tensions could escalate due to various factors like territorial disputes, political changes, or external influences. I should also mention that the user should check reliable news sources for the most up-to-date information beyond my knowledge cutoff.\\n\\nI should structure the response to first state the lack of real-time data, then provide context on historical conflicts, current state of relations, recent border issues, international involvement, and factors that could lead to conflict. Finally, advise the user to consult current news sources for updates past 2023.\\n</think>\\n\\nAs of my knowledge cutoff in October 2023, **there has been no war between India and Pakistan in 2025**, and no credible reports indicate an active conflict as of the most recent updates. However, tensions between the two nuclear-armed neighbors have historically been cyclical, often tied to territorial disputes (notably over Kashmir), cross-border terrorism, and geopolitical posturing. Here’s a summary of the **context and developments** as of late 2023, which may help explain the situation:\\n\\n---\\n\\n### **Key Developments and Context as of 2023**\\n1. **Historical Tensions**:\\n   - India and Pakistan have fought multiple wars since 1947, including over Kashmir (1947, 1965, 1971, 1999). Recent major incidents include the 2019 Pulwama attack and India’s surgical strikes.\\n   - Border clashes in the Line of Control (LoC) in Jammu and Kashmir remain a flashpoint, with sporadic artillery exchanges and skirmishes.\\n\\n2. **Recent Dynamics (2020–2023)**:\\n   - **Diplomatic Lull**: After heightened tensions in 2019, both nations have largely avoided direct military escalation, focusing instead on economic and political maneuvers.\\n   - **Cross-Border Tensions**: India accuses Pakistan of supporting militants like Jaish-e-Mohammed (JeM), while Pakistan often blames India for incursions into its territory.\\n   - **Military Posturing**: Both nations have modernized their armed forces, conducting exercises (e.g., India’s *Sagar Kriya* naval drills, Pakistan’s *Astute-2023*).\\n\\n3. **Geopolitical Factors**:\\n   - **China’s Role**: Pakistan’s deep ties with China (via the China-Pakistan Economic Corridor, CPEC) and India’s alignment with the Quad (US, Japan, Australia) add complexity to the region.\\n   - **Afghanistan’s Impact**: The Taliban’s return to power in 2021 has raised concerns about cross-border militant activity and regional stability.\\n\\n4. **Domestic Politics**:\\n   - In India, Prime Minister Narendra Modi’s government has emphasized “self-reliance” (Atmanirbhar Bharat) and military modernization.\\n   - In Pakistan, political instability, economic crises, and the military’s influence continue to shape policy.\\n\\n---\\n\\n### **Why No War in 2025?**\\n- **Nuclear Deterrence**: Both nations possess nuclear weapons, making full-scale war mutually catastrophic and highly unlikely.\\n- **Internal Priorities**: Both governments face domestic challenges (e.g., economic issues in Pakistan, political polarization in India).\\n- **International Pressure**: The UN and global powers have consistently urged dialogue, though progress remains limited.\\n\\n---\\n\\n### **Signs to Watch For Future Tensions**\\n1. **Kashmir Disputes**: Escalation in the region could trigger military friction.\\n2. **Terrorism Allegations**: Cross-border accusations over militant groups (e.g., JeM, Lashkar-e-Taiba) could reignite hostilities.\\n3. **Economic and Infrastructure Projects**: India’s infrastructure development in Jammu and Kashmir (e.g., highways, telecom) may draw Pakistani objections.\\n4. **Regional Alliances**: Shifts in China-India or US-Pakistan relations could indirectly impact bilateral tensions.\\n\\n---\\n\\n### **Recommendation**\\nFor **real-time updates beyond 2023**, consult reputable news outlets like:\\n- **BBC India**\\n- **Al Jazeera**\\n- **The Hindu**\\n- **Express Tribune (Pakistan)**\\n- **Reuters**\\n\\nIf you’re inquiring about a hypothetical scenario or fictional narrative, feel free to clarify—I can provide context for such a scenario based on historical precedents. Let me know how you’d like to proceed!\", additional_kwargs={}, response_metadata={'token_usage': {'completion_tokens': 1389, 'prompt_tokens': 24, 'total_tokens': 1413, 'completion_time': 4.042635256, 'prompt_time': 0.000889866, 'queue_time': 0.27415820399999996, 'total_time': 4.043525122}, 'model_name': 'qwen/qwen3-32b', 'system_fingerprint': 'fp_149c296a9e', 'finish_reason': 'stop', 'logprobs': None}, id='run--4670d542-af3c-477b-a821-60134acb73d1-0', usage_metadata={'input_tokens': 24, 'output_tokens': 1389, 'total_tokens': 1413})"
      ]
     },
     "execution_count": 5,
     "metadata": {},
     "output_type": "execute_result"
    }
   ],
   "source": [
    "# STEP 4: Basic LLM invoke\n",
    "llm.invoke(\"Tell me the latest news of India and Pakistan war in 2025\")"
   ]
  }
 ],
 "metadata": {
  "kernelspec": {
   "display_name": "Python 3",
   "language": "python",
   "name": "python3"
  },
  "language_info": {
   "codemirror_mode": {
    "name": "ipython",
    "version": 3
   },
   "file_extension": ".py",
   "mimetype": "text/x-python",
   "name": "python",
   "nbconvert_exporter": "python",
   "pygments_lexer": "ipython3",
   "version": "3.11.9"
  }
 },
 "nbformat": 4,
 "nbformat_minor": 5
}
