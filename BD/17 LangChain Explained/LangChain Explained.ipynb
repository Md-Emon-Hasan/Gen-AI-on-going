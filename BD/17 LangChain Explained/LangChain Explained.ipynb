{
 "cells": [
  {
   "cell_type": "code",
   "execution_count": 37,
   "id": "a63dc8c8",
   "metadata": {},
   "outputs": [],
   "source": [
    "import os\n",
    "from dotenv import load_dotenv, find_dotenv"
   ]
  },
  {
   "cell_type": "code",
   "execution_count": 38,
   "id": "5765edda",
   "metadata": {},
   "outputs": [],
   "source": [
    "load_dotenv(find_dotenv())\n",
    "groq_api_key = os.getenv(\"GROQ_API_KEY\")"
   ]
  },
  {
   "cell_type": "code",
   "execution_count": 39,
   "id": "80e4ca00",
   "metadata": {},
   "outputs": [],
   "source": [
    "from langchain_groq import ChatGroq"
   ]
  },
  {
   "cell_type": "code",
   "execution_count": null,
   "id": "0f99399e",
   "metadata": {},
   "outputs": [],
   "source": [
    "llmModel = ChatGroq(api_key=\"\", model=\"qwen-qwq-32b\")"
   ]
  },
  {
   "cell_type": "code",
   "execution_count": 41,
   "id": "e6199f50",
   "metadata": {},
   "outputs": [],
   "source": [
    "response = llmModel.invoke(\"Tell me one fun fact about the Kennedy family.\")"
   ]
  },
  {
   "cell_type": "code",
   "execution_count": 42,
   "id": "15bcd59f",
   "metadata": {},
   "outputs": [
    {
     "name": "stdout",
     "output_type": "stream",
     "text": [
      "\n",
      "<think>\n",
      "Okay, so the user wants a fun fact about the Kennedy family. Let me think about what's interesting and not too commonly known. The Kennedy family is pretty iconic, known for JFK, RFK, their political legacy, but maybe something a bit more quirky or unexpected.\n",
      "\n",
      "Hmm, I remember that JFK had a dog named Pushinka. Wait, Pushinka was a gift from Nikita Khrushchev, right? That's an interesting angle because it involves international relations but in a funny way. Let me recall the details. Pushinka was a puppy from one of Laika's puppies. Laika was the Soviet space dog, so that's a cool connection. So Pushinka was given to the Kennedys after the Cuban Missile Crisis, which was a tense time. Then JFK's children had a puppy that was part of space dog lineage. That's pretty unique and a fun fact because it's unexpected. \n",
      "\n",
      "Wait, is that accurate? Let me confirm. Khrushchev gave Pushinka to JFK in 1961, I think. Pushinka's mother was Strelka, who was one of the space dogs. Strelka flew in space but returned safely. Pushinka's father was another Soviet space dog named Belka. So that's correct. Then the Kennedy kids had her, and they even bred her with their other dog, a German shepherd named Clipper. The offspring were called \"pupniks,\" a play on \"Sputnik.\" That's a good pun and adds to the fun aspect. \n",
      "\n",
      "I should make sure that part about the puppies being called pupniks is accurate. Yes, I've read that before. JFK's daughter Caroline was excited about the puppies. This fact shows a lighter side of the Cold War, which is a cool contrast. It also highlights the personal relationships between world leaders beyond politics. \n",
      "\n",
      "Another angle: Maybe the fact that JFK was a PT boat commander in WWII, but that's more well-known. Or the Kennedy Compound's history, but the dog story is more unique. \n",
      "\n",
      "Alternatively, maybe something about their hobbies? JFK was a author, but again, that's common knowledge. The dog story is a better fit because it's not as widely discussed and has an element of humor and unexpected connections. \n",
      "\n",
      "So the key points are: Pushinka the puppy from Khrushchev, her lineage from space dogs, the name pupniks for the puppies. That's a solid fun fact. I need to present it clearly and concisely. Make sure the names are spelled correctly—Strelka, Pushinka, pupniks. Also mention the context with the Cuban Missile Crisis to highlight the irony. Alright, that should work.\n",
      "</think>\n",
      "\n",
      "Here's a fun and whimsical fact about the Kennedy family:  \n",
      "President John F. Kennedy received a special gift from Soviet Premier Nikita Khrushchev during the height of the Cold War—a dog named **Pushinka**, whose mother, **Strelka**, had orbited Earth on a Soviet space mission in 1960. Pushinka, a Soviet-A American \"mix\" (her father was another Russian space dog, Belka), became a beloved pet of the Kennedy children. Even more amusing, Pushinka had puppies with the family's German shepherd, Clipper. The president’s daughter, Caroline, joked that the puppies should be called \"**Pupniks**,\" a playful nod to Sputnik. The Kennedys' space-dog connection turned Cold War tensions into an unexpected, fluffy diplomacy moment! 🐾\n"
     ]
    }
   ],
   "source": [
    "print(response.content)"
   ]
  },
  {
   "cell_type": "code",
   "execution_count": 43,
   "id": "73ae8b99",
   "metadata": {},
   "outputs": [
    {
     "name": "stdout",
     "output_type": "stream",
     "text": [
      "\n",
      "<think>\n",
      "Okay, so I need to come up with a fun fact about the Kennedy family. Let me think. The Kennedy family is known for their political legacy, especially John F. Kennedy, JFK, being a president, and his siblings like Robert and Ted. But what's a fun fact? Maybe something less known?\n",
      "\n",
      "Hmm, I remember hearing something about JFK's sister, maybe Rosemary? Oh right, there was something about her being part of the family but maybe not as prominent. Wait, there's also something about the Kennedy compound in Hyannis Port. Maybe the family's activities there?\n",
      "\n",
      "Wait, another angle: JFK's brothers, like Robert F. Kennedy, who was also a prominent figure. But maybe a quirky fact? Or perhaps the family's connection to the arts? Or maybe their involvement in sports?\n",
      "\n",
      "Oh! There's a story about JFK's PT-109 incident during WWII, which is legendary, but maybe that's too well-known. I need something more unique.\n",
      "\n",
      "Oh! What about the fact that JFK's sister, Kathleen (Kick), had a tragic marriage and early death? But that's more sad. Maybe the fact that the Kennedy family has a tradition of sailing? Like the annual Kennedy Family Regatta? That sounds like a fun fact. Let me check that.\n",
      "\n",
      "Wait, the Kennedy Family Regatta is a real event. It's a sailing competition that takes place every July 4th at Hyannis Port. The family members participate in it, even after JFK's death. That seems like a good fun fact because it showcases their family tradition and spirit of competition. But I need more details. When did it start? How did it originate?\n",
      "\n",
      "I think it started in 1961, right before JFK was assassinated. It was a way to celebrate Independence Day and bond as a family. The regatta involves different classes of sailboats, and even after JFK's death, his siblings kept it going. Later, his children and grandchildren joined in. It's still going on today, making it one of the oldest continuously running family regattas in the U.S. That's a solid fact. But are there any other details?\n",
      "\n",
      "Alternatively, another angle: JFK's son, John F. Kennedy Jr., was a lawyer and editor, and he was known for being dashing. But his death in a plane crash is more tragic. Maybe not the best.\n",
      "\n",
      "Wait, there's also the Kennedy Curse? Though that's more of a myth. But perhaps the fact that the family has a strong sense of humor? Like JFK's nickname for his sister Pat was \"the Duchess,\" and he had a pet dog named Pushinka, which was a gift from Khrushchev? Pushinka was the daughter of Strelka, one of the Soviet space dogs. That's an interesting tidbit. JFK actually had the dog, and it even had puppies with a U.S. Cocker Spaniel. That could be a fun and quirky fact.\n",
      "\n",
      "Wait, that's a good one. Let me verify that. Yes, in 1961, during the height of the Cold War, Soviet Premier Nikita Khrushchev presented JFK with a dog named Pushinka, which means \"fluffy\" in Russian. Pushinka was a descendant of Strelka, the Soviet space dog that orbited Earth in 1960. JFK was a dog lover, and Pushinka lived at the White House. She even bred with a Cocker Spaniel owned by Senator Majority Leader Mike Mansfield, resulting in four puppies called \"pupniks\" as a pun on \"Sputnik.\" JFK gave the puppies as gifts, including one to Khrushchev. That's a unique and fun fact that shows an unexpected friendly gesture amidst Cold War tensions.\n",
      "\n",
      "Alternatively, there's the story of JFK's PT-109 and the island where he helped his crew. But that's more about his heroism.\n",
      "\n",
      "Hmm, the Pushinka story is more quirky and less known. Let me go with that. The key points are: Pushinka as a gift from Khrushchev, her lineage, the breeding with the Cocker Spaniel, and the naming of the puppies. That's a fun and detailed fact. I should structure it with those elements to make it informative and engaging.\n",
      "</think>\n",
      "\n",
      "**Fun Fact About the Kennedy Family: The Cold War Canine Connection and the \"Pupniks\"**\n",
      "\n",
      "One fascinating and lesser-known aspect of the Kennedy family's history involves a unique diplomatic gift and a playful gesture during the height of the Cold War. In 1961, Soviet Premier Nikita Khrushchev presented President John F. Kennedy with a Soviet-bred dog named **Pushinka** (meaning \"fluffy\" in Russian). This gesture was both a nod to diplomacy and a lighthearted gesture between two world leaders whose nations were locked in political tension.\n",
      "\n",
      "**Pushinka's Background:**  \n",
      "Pushinka was a descendant of **Strelka**, a Soviet space dog who had famously orbited Earth in 1960 as part of the Sputnik program. Strelka became an international celebrity, and her offspring were highly valued. Khrushchev gifted Pushinka to JFK as a symbol of goodwill, even though the two leaders were often at odds, such as during the Cuban Missile Crisis.\n",
      "\n",
      "**The Pupniks:**  \n",
      "JFK, an avid dog lover, welcomed Pushinka into the White House, where she lived with the family. In 1961, Pushinka mated with a Cocker Spaniel named **Blondie** (owned by Senator Mike Mansfield). The resulting four puppies were humorously dubbed **\"pupniks\"**—a pun on *Sputnik*, the Soviet satellite that had ignited the Space Race. The playful name highlighted the mix of Cold War rivalry and unexpected camaraderie.\n",
      "\n",
      "**Legacy of the Pupniks:**  \n",
      "The Kennedy family kept one pupnik, and JFK gifted the others as tokens of friendship. One puppy was even sent back to Khrushchev as a reciprocal gesture. The puppies became a quirky footnote in U.S.-Soviet relations, showcasing a moment of levity amid tense geopolitical struggles. JFK’s press secretary, Pierre Salinger, later recounted that the president joked about the dogs, saying they were \"the only members of the Soviet Union who could sleep in the White House.\"\n",
      "\n",
      "**Why It’s Notable:**  \n",
      "This story illustrates the Kennedys' flair for blending public service with personal charm. It also underscores JFK’s reputation as a charismatic figure who could forge connections even with adversaries. The \"pupniks\" remain a whimsical reminder of how even in the bleakest periods of the Cold War, small acts of humanity and humor could bridge divides—a hallmark of the Kennedy family’s legacy. The story also highlights their love of animals, with JFK’s daughter, Caroline, later recalling that her father would sneak food to Pushinka under the dinner table during meetings!\n",
      "\n",
      "This anecdote not only entertains but also reveals the Kennedys' ability to balance high-stakes politics with lighthearted moments, cementing their place in history as a family of both power and personality."
     ]
    }
   ],
   "source": [
    "for chunk in llmModel.stream(\n",
    "    \"Tell me one fun fact about the Kennedy family. I need detailed response\"\n",
    "):\n",
    "    print(chunk.content, end=\"\", flush=True)"
   ]
  },
  {
   "cell_type": "markdown",
   "id": "fb8542c8",
   "metadata": {},
   "source": [
    "### ***Temperature: more or less creativity***"
   ]
  },
  {
   "cell_type": "code",
   "execution_count": null,
   "id": "7a9448c4",
   "metadata": {},
   "outputs": [],
   "source": [
    "creativeLlmModel = ChatGroq(api_key=\"\", model=\"qwen-qwq-32b\", temperature=0.9)"
   ]
  },
  {
   "cell_type": "code",
   "execution_count": 47,
   "id": "4cbdfd4a",
   "metadata": {},
   "outputs": [],
   "source": [
    "response = creativeLlmModel.invoke(\"Tell me one fun fact about the Kennedy family.\")"
   ]
  },
  {
   "cell_type": "code",
   "execution_count": 48,
   "id": "b9e9c51c",
   "metadata": {},
   "outputs": [
    {
     "name": "stdout",
     "output_type": "stream",
     "text": [
      "\n",
      "<think>\n",
      "Okay, the user wants a fun fact about the Kennedy family. Let me think... I should start by recalling what I know about the Kennedys. They're a prominent political family, right? John F. Kennedy was the president, and his brothers Robert and Ted were also in politics. But the user is asking for something \"fun,\" so maybe something not too serious or well-known.\n",
      "\n",
      "Hmm, maybe their involvement in sports? I remember that JFK was a war hero and had some health issues, but maybe his brother Ted was into sports? Wait, I think Ted Kennedy was on the Harvard football team. Or was it John? I need to get that right.\n",
      "\n",
      "Alternatively, there's something about their family gatherings or quirky traditions. I recall reading that the Kennedy family had a competitive streak, maybe even in games or sports? Oh, right! There's an annual touch football game that has been a tradition since the 1930s. That sounds fun. Let me confirm the details. I think it started when Joe Kennedy Sr. started it to keep the family active. It involves the whole family, even when they were in politics or had other commitments.\n",
      "\n",
      "Wait, was it started by JFK's father? Joe Kennedy Sr. was definitely involved in starting it. The game continues to this day, even after his death. The rules are kind of informal, and they play every Thanksgiving. That's a good fun fact because it shows a lighter side of the family, their tradition, and their competitive nature beyond politics. I should also mention that Ted Kennedy was a linebacker, which adds color. Make sure to mention that it's been going on since the 1930s and that it's still ongoing. That should be a solid fun fact. Let me structure that into a concise answer without errors.\n",
      "</think>\n",
      "\n",
      "Certainly! Here's a fun fact about the Kennedy family: The Kennedy men have an annual tradition of playing an intense touch football game every Thanksgiving since the 1930s. Started by patriarch Joseph P. Kennedy Sr., the game continues to this day, drawing family members from across the country. Former U.S. Senator Ted Kennedy was known to play as a linebacker, and even when his brothers John F. Kennedy and Robert F. Kennedy were in politics, they never missed the game. The rules are famously flexible, with participants sometimes tackling each other in the Hyannis Port sand or splashing into the ocean if the ball goes too far—a lighthearted way to keep competition (and sand in their hair) alive!\n"
     ]
    }
   ],
   "source": [
    "print(response.content)"
   ]
  },
  {
   "cell_type": "code",
   "execution_count": 49,
   "id": "8ca87884",
   "metadata": {},
   "outputs": [],
   "source": [
    "response = llmModel.invoke(\n",
    "    \"Write a short 5 line poem about JFK\"\n",
    ")"
   ]
  },
  {
   "cell_type": "code",
   "execution_count": 50,
   "id": "bf5ec4cb",
   "metadata": {},
   "outputs": [
    {
     "name": "stdout",
     "output_type": "stream",
     "text": [
      "\n",
      "<think>\n",
      "Okay, the user wants a five-line poem about JFK. Let me start by recalling key aspects of his life. JFK was the 35th president, known for his inspiring speeches, the Kennedy assassination in 1963, and events like the Cuban Missile Crisis. Maybe use imagery related to hope and tragedy. The poem should be concise, so each line needs to pack a punch.\n",
      "\n",
      "First line: Establish his legacy. \"Hope's flame lit in Camelot's glow\" references his administration's nickname. Second line: His assassination, maybe something like \" cut short by Dallas' November woe.\" November is when he died. Third line: His impact despite the short time. \"A president's promise, brief yet bright,\" highlighting his brief term. Fourth line: His lasting legacy. \"Echoes in freedom's endless light.\" Final line: Tie his memory to the nation's soul. \"A star still guides where his dream still soars.\" Let me check the syllable count and flow. Maybe adjust for rhythm and rhyme. \"Camelot's glow\" and \"November woe\" rhyme, and \"bright\" and \"light\" as well. The last line ends strongly. Yeah, this should work.\n",
      "</think>\n",
      "\n",
      "**Ode to a Beacon**  \n",
      "\n",
      "Hope’s flame lit in Camelot’s glow,  \n",
      "cut short by Dallas’ November woe.  \n",
      "A president’s promise, brief yet bright,  \n",
      "echoes in freedom’s endless light.  \n",
      "A star still guides where his dream still soars.\n"
     ]
    }
   ],
   "source": [
    "print(response.content)"
   ]
  },
  {
   "cell_type": "markdown",
   "id": "5c0ef17e",
   "metadata": {},
   "source": [
    "### ***Chat Model***"
   ]
  },
  {
   "cell_type": "code",
   "execution_count": null,
   "id": "5d226592",
   "metadata": {},
   "outputs": [],
   "source": [
    "chatModel = ChatGroq(api_key=\"\", model=\"qwen-qwq-32b\")"
   ]
  },
  {
   "cell_type": "code",
   "execution_count": 54,
   "id": "2d08ff51",
   "metadata": {},
   "outputs": [],
   "source": [
    "messages = [\n",
    "    (\"system\", \"You are an historian expert in the Kennedy family.\"),\n",
    "    (\"human\", \"Tell me one curious thing about JFK.\"),\n",
    "]\n",
    "response = chatModel.invoke(messages)"
   ]
  },
  {
   "cell_type": "code",
   "execution_count": 55,
   "id": "87be766d",
   "metadata": {},
   "outputs": [
    {
     "name": "stdout",
     "output_type": "stream",
     "text": [
      "\n",
      "<think>\n",
      "Okay, the user wants a curious fact about JFK. Let me think. I need something not too common but still accurate. Maybe his Pulitzer Prize? Wait, he won for Profiles in Courage, right? But I should check the details. Oh, actually, he didn't write it all alone. His research assistant, Ted Sorensen, helped a lot. That's interesting because people might not know about Sorensen's role. Also, JFK was the first president to have won a Pulitzer. That's a good point.\n",
      "\n",
      "Wait, another angle: his health issues. He had Addison's disease, which was kept secret. That's pretty significant. But maybe the Pulitzer thing is more straightforward. Let me make sure the collaboration part is correct. Yes, Sorensen co-wrote it, but officially JFK is the author. The Pulitzer was awarded to him. So the curious fact could be that he won a Pulitzer, and the book was co-written with Sorensen, but the public wasn't aware. That shows the secrecy and his multifaceted life. Alternatively, the fact that he used a medication patch during the debates, which helped with his health. Hmm.\n",
      "\n",
      "Alternatively, his brother Ted's involvement in politics. Wait, the user asked for JFK specifically. Let's go with the Pulitzer. It's a good hook. People might not know a president wrote a book and won a Pulitzer. Plus, the collaboration detail adds depth. Yeah, that's a solid point. Let me structure it clearly, mentioning the book title, the Pulitzer, and the Sorensen collaboration but noting that JFK is credited. Also, the secrecy aspect might tie in. Make sure to present it in an engaging way without getting too bogged down in controversy. Okay, that should work.\n",
      "</think>\n",
      "\n",
      "One curious fact about John F. Kennedy is that he was the first U.S. president to have won a **Pulitzer Prize**. In 1957, he received the award for his book *Profiles in Courage*, which highlighted the moral integrity of eight U.S. senators who defied popular opinion to uphold their beliefs. What’s intriguing is that while Kennedy was officially credited as the sole author, much of the research and drafting was done by his longtime aide, **Ted Sorensen**, a collaboration that remained secret during Kennedy’s lifetime due to political sensitivities. The book’s success also overshadowed his poor health; Kennedy wrote it while recovering from a painful back surgery, relying on morphine and determination. This blend of resilience, intellectual ambition, and behind-the-scenes collaboration makes the Pulitzer win a uniquely layered footnote in his legacy.\n"
     ]
    }
   ],
   "source": [
    "print(response.content)"
   ]
  },
  {
   "cell_type": "code",
   "execution_count": 56,
   "id": "60e755e4",
   "metadata": {},
   "outputs": [
    {
     "data": {
      "text/plain": [
       "AIMessage(content=\"\\n<think>\\nOkay, the user wants a curious fact about JFK. Let me think. I need something not too common but still accurate. Maybe his Pulitzer Prize? Wait, he won for Profiles in Courage, right? But I should check the details. Oh, actually, he didn't write it all alone. His research assistant, Ted Sorensen, helped a lot. That's interesting because people might not know about Sorensen's role. Also, JFK was the first president to have won a Pulitzer. That's a good point.\\n\\nWait, another angle: his health issues. He had Addison's disease, which was kept secret. That's pretty significant. But maybe the Pulitzer thing is more straightforward. Let me make sure the collaboration part is correct. Yes, Sorensen co-wrote it, but officially JFK is the author. The Pulitzer was awarded to him. So the curious fact could be that he won a Pulitzer, and the book was co-written with Sorensen, but the public wasn't aware. That shows the secrecy and his multifaceted life. Alternatively, the fact that he used a medication patch during the debates, which helped with his health. Hmm.\\n\\nAlternatively, his brother Ted's involvement in politics. Wait, the user asked for JFK specifically. Let's go with the Pulitzer. It's a good hook. People might not know a president wrote a book and won a Pulitzer. Plus, the collaboration detail adds depth. Yeah, that's a solid point. Let me structure it clearly, mentioning the book title, the Pulitzer, and the Sorensen collaboration but noting that JFK is credited. Also, the secrecy aspect might tie in. Make sure to present it in an engaging way without getting too bogged down in controversy. Okay, that should work.\\n</think>\\n\\nOne curious fact about John F. Kennedy is that he was the first U.S. president to have won a **Pulitzer Prize**. In 1957, he received the award for his book *Profiles in Courage*, which highlighted the moral integrity of eight U.S. senators who defied popular opinion to uphold their beliefs. What’s intriguing is that while Kennedy was officially credited as the sole author, much of the research and drafting was done by his longtime aide, **Ted Sorensen**, a collaboration that remained secret during Kennedy’s lifetime due to political sensitivities. The book’s success also overshadowed his poor health; Kennedy wrote it while recovering from a painful back surgery, relying on morphine and determination. This blend of resilience, intellectual ambition, and behind-the-scenes collaboration makes the Pulitzer win a uniquely layered footnote in his legacy.\", additional_kwargs={}, response_metadata={'token_usage': {'completion_tokens': 541, 'prompt_tokens': 33, 'total_tokens': 574, 'completion_time': 1.320367452, 'prompt_time': 0.003786672, 'queue_time': 0.253347227, 'total_time': 1.324154124}, 'model_name': 'qwen-qwq-32b', 'system_fingerprint': 'fp_512a3da6bb', 'finish_reason': 'stop', 'logprobs': None}, id='run--13fdb5fa-ae94-4a4c-8755-a0338a0f0ec3-0', usage_metadata={'input_tokens': 33, 'output_tokens': 541, 'total_tokens': 574})"
      ]
     },
     "execution_count": 56,
     "metadata": {},
     "output_type": "execute_result"
    }
   ],
   "source": [
    "response"
   ]
  },
  {
   "cell_type": "code",
   "execution_count": 57,
   "id": "29333587",
   "metadata": {},
   "outputs": [
    {
     "data": {
      "text/plain": [
       "\"\\n<think>\\nOkay, the user wants a curious fact about JFK. Let me think. I need something not too common but still accurate. Maybe his Pulitzer Prize? Wait, he won for Profiles in Courage, right? But I should check the details. Oh, actually, he didn't write it all alone. His research assistant, Ted Sorensen, helped a lot. That's interesting because people might not know about Sorensen's role. Also, JFK was the first president to have won a Pulitzer. That's a good point.\\n\\nWait, another angle: his health issues. He had Addison's disease, which was kept secret. That's pretty significant. But maybe the Pulitzer thing is more straightforward. Let me make sure the collaboration part is correct. Yes, Sorensen co-wrote it, but officially JFK is the author. The Pulitzer was awarded to him. So the curious fact could be that he won a Pulitzer, and the book was co-written with Sorensen, but the public wasn't aware. That shows the secrecy and his multifaceted life. Alternatively, the fact that he used a medication patch during the debates, which helped with his health. Hmm.\\n\\nAlternatively, his brother Ted's involvement in politics. Wait, the user asked for JFK specifically. Let's go with the Pulitzer. It's a good hook. People might not know a president wrote a book and won a Pulitzer. Plus, the collaboration detail adds depth. Yeah, that's a solid point. Let me structure it clearly, mentioning the book title, the Pulitzer, and the Sorensen collaboration but noting that JFK is credited. Also, the secrecy aspect might tie in. Make sure to present it in an engaging way without getting too bogged down in controversy. Okay, that should work.\\n</think>\\n\\nOne curious fact about John F. Kennedy is that he was the first U.S. president to have won a **Pulitzer Prize**. In 1957, he received the award for his book *Profiles in Courage*, which highlighted the moral integrity of eight U.S. senators who defied popular opinion to uphold their beliefs. What’s intriguing is that while Kennedy was officially credited as the sole author, much of the research and drafting was done by his longtime aide, **Ted Sorensen**, a collaboration that remained secret during Kennedy’s lifetime due to political sensitivities. The book’s success also overshadowed his poor health; Kennedy wrote it while recovering from a painful back surgery, relying on morphine and determination. This blend of resilience, intellectual ambition, and behind-the-scenes collaboration makes the Pulitzer win a uniquely layered footnote in his legacy.\""
      ]
     },
     "execution_count": 57,
     "metadata": {},
     "output_type": "execute_result"
    }
   ],
   "source": [
    "response.content"
   ]
  },
  {
   "cell_type": "code",
   "execution_count": 58,
   "id": "d3850662",
   "metadata": {},
   "outputs": [
    {
     "data": {
      "text/plain": [
       "{'token_usage': {'completion_tokens': 541,\n",
       "  'prompt_tokens': 33,\n",
       "  'total_tokens': 574,\n",
       "  'completion_time': 1.320367452,\n",
       "  'prompt_time': 0.003786672,\n",
       "  'queue_time': 0.253347227,\n",
       "  'total_time': 1.324154124},\n",
       " 'model_name': 'qwen-qwq-32b',\n",
       " 'system_fingerprint': 'fp_512a3da6bb',\n",
       " 'finish_reason': 'stop',\n",
       " 'logprobs': None}"
      ]
     },
     "execution_count": 58,
     "metadata": {},
     "output_type": "execute_result"
    }
   ],
   "source": [
    "response.response_metadata if hasattr(response, \"response_metadata\") else {}"
   ]
  },
  {
   "cell_type": "code",
   "execution_count": 59,
   "id": "b19f2e32",
   "metadata": {},
   "outputs": [
    {
     "name": "stderr",
     "output_type": "stream",
     "text": [
      "C:\\Users\\emon1\\AppData\\Local\\Temp\\ipykernel_2852\\3699796924.py:1: PydanticDeprecatedSince20: The `schema` method is deprecated; use `model_json_schema` instead. Deprecated in Pydantic V2.0 to be removed in V3.0. See Pydantic V2 Migration Guide at https://errors.pydantic.dev/2.10/migration/\n",
      "  response.schema() if hasattr(response, \"schema\") else \"Schema not available\"\n"
     ]
    },
    {
     "data": {
      "text/plain": [
       "{'$defs': {'InputTokenDetails': {'description': 'Breakdown of input token counts.\\n\\nDoes *not* need to sum to full input token count. Does *not* need to have all keys.\\n\\nExample:\\n\\n    .. code-block:: python\\n\\n        {\\n            \"audio\": 10,\\n            \"cache_creation\": 200,\\n            \"cache_read\": 100,\\n        }\\n\\n.. versionadded:: 0.3.9',\n",
       "   'properties': {'audio': {'title': 'Audio', 'type': 'integer'},\n",
       "    'cache_creation': {'title': 'Cache Creation', 'type': 'integer'},\n",
       "    'cache_read': {'title': 'Cache Read', 'type': 'integer'}},\n",
       "   'title': 'InputTokenDetails',\n",
       "   'type': 'object'},\n",
       "  'InvalidToolCall': {'description': 'Allowance for errors made by LLM.\\n\\nHere we add an `error` key to surface errors made during generation\\n(e.g., invalid JSON arguments.)',\n",
       "   'properties': {'name': {'anyOf': [{'type': 'string'}, {'type': 'null'}],\n",
       "     'title': 'Name'},\n",
       "    'args': {'anyOf': [{'type': 'string'}, {'type': 'null'}], 'title': 'Args'},\n",
       "    'id': {'anyOf': [{'type': 'string'}, {'type': 'null'}], 'title': 'Id'},\n",
       "    'error': {'anyOf': [{'type': 'string'}, {'type': 'null'}],\n",
       "     'title': 'Error'},\n",
       "    'type': {'const': 'invalid_tool_call', 'title': 'Type', 'type': 'string'}},\n",
       "   'required': ['name', 'args', 'id', 'error'],\n",
       "   'title': 'InvalidToolCall',\n",
       "   'type': 'object'},\n",
       "  'OutputTokenDetails': {'description': 'Breakdown of output token counts.\\n\\nDoes *not* need to sum to full output token count. Does *not* need to have all keys.\\n\\nExample:\\n\\n    .. code-block:: python\\n\\n        {\\n            \"audio\": 10,\\n            \"reasoning\": 200,\\n        }\\n\\n.. versionadded:: 0.3.9',\n",
       "   'properties': {'audio': {'title': 'Audio', 'type': 'integer'},\n",
       "    'reasoning': {'title': 'Reasoning', 'type': 'integer'}},\n",
       "   'title': 'OutputTokenDetails',\n",
       "   'type': 'object'},\n",
       "  'ToolCall': {'description': 'Represents a request to call a tool.\\n\\nExample:\\n\\n    .. code-block:: python\\n\\n        {\\n            \"name\": \"foo\",\\n            \"args\": {\"a\": 1},\\n            \"id\": \"123\"\\n        }\\n\\n    This represents a request to call the tool named \"foo\" with arguments {\"a\": 1}\\n    and an identifier of \"123\".',\n",
       "   'properties': {'name': {'title': 'Name', 'type': 'string'},\n",
       "    'args': {'title': 'Args', 'type': 'object'},\n",
       "    'id': {'anyOf': [{'type': 'string'}, {'type': 'null'}], 'title': 'Id'},\n",
       "    'type': {'const': 'tool_call', 'title': 'Type', 'type': 'string'}},\n",
       "   'required': ['name', 'args', 'id'],\n",
       "   'title': 'ToolCall',\n",
       "   'type': 'object'},\n",
       "  'UsageMetadata': {'description': 'Usage metadata for a message, such as token counts.\\n\\nThis is a standard representation of token usage that is consistent across models.\\n\\nExample:\\n\\n    .. code-block:: python\\n\\n        {\\n            \"input_tokens\": 350,\\n            \"output_tokens\": 240,\\n            \"total_tokens\": 590,\\n            \"input_token_details\": {\\n                \"audio\": 10,\\n                \"cache_creation\": 200,\\n                \"cache_read\": 100,\\n            },\\n            \"output_token_details\": {\\n                \"audio\": 10,\\n                \"reasoning\": 200,\\n            }\\n        }\\n\\n.. versionchanged:: 0.3.9\\n\\n    Added ``input_token_details`` and ``output_token_details``.',\n",
       "   'properties': {'input_tokens': {'title': 'Input Tokens', 'type': 'integer'},\n",
       "    'output_tokens': {'title': 'Output Tokens', 'type': 'integer'},\n",
       "    'total_tokens': {'title': 'Total Tokens', 'type': 'integer'},\n",
       "    'input_token_details': {'$ref': '#/$defs/InputTokenDetails'},\n",
       "    'output_token_details': {'$ref': '#/$defs/OutputTokenDetails'}},\n",
       "   'required': ['input_tokens', 'output_tokens', 'total_tokens'],\n",
       "   'title': 'UsageMetadata',\n",
       "   'type': 'object'}},\n",
       " 'additionalProperties': True,\n",
       " 'description': 'Message from an AI.\\n\\nAIMessage is returned from a chat model as a response to a prompt.\\n\\nThis message represents the output of the model and consists of both\\nthe raw output as returned by the model together standardized fields\\n(e.g., tool calls, usage metadata) added by the LangChain framework.',\n",
       " 'properties': {'content': {'anyOf': [{'type': 'string'},\n",
       "    {'items': {'anyOf': [{'type': 'string'}, {'type': 'object'}]},\n",
       "     'type': 'array'}],\n",
       "   'title': 'Content'},\n",
       "  'additional_kwargs': {'title': 'Additional Kwargs', 'type': 'object'},\n",
       "  'response_metadata': {'title': 'Response Metadata', 'type': 'object'},\n",
       "  'type': {'const': 'ai', 'default': 'ai', 'title': 'Type', 'type': 'string'},\n",
       "  'name': {'anyOf': [{'type': 'string'}, {'type': 'null'}],\n",
       "   'default': None,\n",
       "   'title': 'Name'},\n",
       "  'id': {'anyOf': [{'type': 'string'}, {'type': 'null'}],\n",
       "   'default': None,\n",
       "   'title': 'Id'},\n",
       "  'example': {'default': False, 'title': 'Example', 'type': 'boolean'},\n",
       "  'tool_calls': {'default': [],\n",
       "   'items': {'$ref': '#/$defs/ToolCall'},\n",
       "   'title': 'Tool Calls',\n",
       "   'type': 'array'},\n",
       "  'invalid_tool_calls': {'default': [],\n",
       "   'items': {'$ref': '#/$defs/InvalidToolCall'},\n",
       "   'title': 'Invalid Tool Calls',\n",
       "   'type': 'array'},\n",
       "  'usage_metadata': {'anyOf': [{'$ref': '#/$defs/UsageMetadata'},\n",
       "    {'type': 'null'}],\n",
       "   'default': None}},\n",
       " 'required': ['content'],\n",
       " 'title': 'AIMessage',\n",
       " 'type': 'object'}"
      ]
     },
     "execution_count": 59,
     "metadata": {},
     "output_type": "execute_result"
    }
   ],
   "source": [
    "response.schema() if hasattr(response, \"schema\") else \"Schema not available\""
   ]
  },
  {
   "cell_type": "code",
   "execution_count": null,
   "id": "6495a604",
   "metadata": {},
   "outputs": [],
   "source": [
    "llm = ChatGroq(api_key=\"\", model=\"qwen-qwq-32b\")"
   ]
  },
  {
   "cell_type": "code",
   "execution_count": 61,
   "id": "ef75981f",
   "metadata": {},
   "outputs": [],
   "source": [
    "from langchain_core.messages import HumanMessage, SystemMessage"
   ]
  },
  {
   "cell_type": "code",
   "execution_count": 62,
   "id": "29030a90",
   "metadata": {},
   "outputs": [],
   "source": [
    "messages = [\n",
    "    SystemMessage(content=\"You are an historian expert on the Kennedy Family.\"),\n",
    "    HumanMessage(content=\"How many children had Joseph P. Kennedy?\"),\n",
    "]"
   ]
  },
  {
   "cell_type": "code",
   "execution_count": 63,
   "id": "94ccaf66",
   "metadata": {},
   "outputs": [],
   "source": [
    "response = chatModel.invoke(messages)"
   ]
  },
  {
   "cell_type": "code",
   "execution_count": 64,
   "id": "ad44c36a",
   "metadata": {},
   "outputs": [
    {
     "data": {
      "text/plain": [
       "AIMessage(content='\\n<think>\\nOkay, so the user is asking how many children Joseph P. Kennedy had. I need to recall the information about Joseph P. Kennedy\\'s family. I know he was a prominent figure, the father of JFK. Let me start by thinking about his children. John F. Kennedy, the president, is one. Then there\\'s Robert F. Kennedy, who was a senator and attorney general. Ted Kennedy, also known as the \"Lion of the Senate,\" is another. \\n\\nWait, but there were more siblings, right? Let me count. I remember there were nine children in total. Let me list them out to be sure. The children are: Joseph P. Kennedy Jr., John F. Kennedy, Rosemary, Kathleen, Eunice, Patricia, Robert F. Kennedy, Jean, and Edward \"Ted\" Kennedy. That\\'s nine names. Let me check each one.\\n\\nJoseph P. Kennedy Jr. was the oldest, but he died in World War II. Then John, then Rosemary. Kathleen, who died in a plane crash. Eunice, Patricia, Robert, Jean, and Ted. Yes, that\\'s nine. So the answer is nine children. But I should make sure there\\'s no one else. Sometimes people might forget if there were any others or if any were step-siblings or adopted. But from what I know, all nine were his biological children with Rose Fitzgerald Kennedy. \\n\\nWait, I think the order might be different. Let me recount: 1. Joe Jr., 2. John, 3. Rosemary, 4. Kathleen, 5. Eunice, 6. Patricia, 7. Robert, 8. Jean, 9. Ted. Yes, that\\'s nine. The user just wants the number, so the answer is nine. But maybe I should mention some of the notable ones like JFK and Ted, as context. Also, note that two of the sons died before their father. But the question is just the number, so the answer is nine. I should present that clearly.\\n</think>\\n\\nJoseph P. Kennedy and his wife Rose Fitzgerald Kennedy had **nine children** in total. Their children were:  \\n\\n1. **Joseph P. Kennedy Jr.** (1915–1944) — died during a World War II mission.  \\n2. **John F. Kennedy** (1917–1963) — the 35th U.S. President.  \\n3. **Rosemary Kennedy** (1918–2005) — had developmental disabilities and was institutionalized.  \\n4. **Kathleen Agnes Kennedy** (1920–1948) — known as \"Kick,\" she died in a plane crash.  \\n5. **Eunice Kennedy** (1922–2009) — founder of the Special Olympics.  \\n6. **Patricia Kennedy** (1924–2006) — a painter and philanthropist.  \\n7. **Robert F. Kennedy** (1925–1968) — U.S. Attorney General and Senator.  \\n8. **Jean Kennedy-Smith** (1928–2019) — a diplomat and philanthropist.  \\n9. **Edward \"Ted\" Kennedy** (1932–2009) — longtime U.S. Senator.  \\n\\nNotably, two of their sons (Joseph Jr. and John) died in office or in office\\'s line, while Ted became one of the most influential senators in U.S. history. The family\\'s political and public legacy remains iconic in American history.', additional_kwargs={}, response_metadata={'token_usage': {'completion_tokens': 761, 'prompt_tokens': 34, 'total_tokens': 795, 'completion_time': 1.873356026, 'prompt_time': 0.003778598, 'queue_time': 0.24937282200000002, 'total_time': 1.877134624}, 'model_name': 'qwen-qwq-32b', 'system_fingerprint': 'fp_1e88ca32eb', 'finish_reason': 'stop', 'logprobs': None}, id='run--ec7e7147-be28-47fd-8c43-e03e315a5d45-0', usage_metadata={'input_tokens': 34, 'output_tokens': 761, 'total_tokens': 795})"
      ]
     },
     "execution_count": 64,
     "metadata": {},
     "output_type": "execute_result"
    }
   ],
   "source": [
    "response"
   ]
  }
 ],
 "metadata": {
  "kernelspec": {
   "display_name": "Python 3",
   "language": "python",
   "name": "python3"
  },
  "language_info": {
   "codemirror_mode": {
    "name": "ipython",
    "version": 3
   },
   "file_extension": ".py",
   "mimetype": "text/x-python",
   "name": "python",
   "nbconvert_exporter": "python",
   "pygments_lexer": "ipython3",
   "version": "3.11.9"
  }
 },
 "nbformat": 4,
 "nbformat_minor": 5
}
