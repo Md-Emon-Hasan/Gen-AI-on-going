{
 "cells": [
  {
   "cell_type": "code",
   "execution_count": 1,
   "id": "518e89b1",
   "metadata": {},
   "outputs": [
    {
     "name": "stderr",
     "output_type": "stream",
     "text": [
      "c:\\Users\\emon1\\AppData\\Local\\Programs\\Python\\Python311\\Lib\\site-packages\\tqdm\\auto.py:21: TqdmWarning: IProgress not found. Please update jupyter and ipywidgets. See https://ipywidgets.readthedocs.io/en/stable/user_install.html\n",
      "  from .autonotebook import tqdm as notebook_tqdm\n"
     ]
    }
   ],
   "source": [
    "from langgraph.graph import StateGraph\n",
    "from langgraph.graph import START\n",
    "from langgraph.graph import END\n",
    "from typing import TypedDict\n",
    "from langchain_google_genai import ChatGoogleGenerativeAI\n",
    "from dotenv import load_dotenv\n",
    "from langgraph.checkpoint.memory import InMemorySaver"
   ]
  },
  {
   "cell_type": "code",
   "execution_count": null,
   "id": "d3da0d1f",
   "metadata": {},
   "outputs": [
    {
     "data": {
      "text/plain": [
       "True"
      ]
     },
     "execution_count": 2,
     "metadata": {},
     "output_type": "execute_result"
    }
   ],
   "source": [
    "# Load environment variables\n",
    "load_dotenv()"
   ]
  },
  {
   "cell_type": "code",
   "execution_count": 8,
   "id": "1e6430bd",
   "metadata": {},
   "outputs": [],
   "source": [
    "# Initialize Gemini LLM (replace `model` if needed)\n",
    "llm = ChatGoogleGenerativeAI(\n",
    "    model=\"gemini-2.5-pro\",\n",
    "    temperature=0.3\n",
    ")"
   ]
  },
  {
   "cell_type": "code",
   "execution_count": 9,
   "id": "e0ad071e",
   "metadata": {},
   "outputs": [],
   "source": [
    "class JokeState(TypedDict):\n",
    "    topic: str\n",
    "    joke: str\n",
    "    explanation: str"
   ]
  },
  {
   "cell_type": "code",
   "execution_count": 10,
   "id": "ab8b7f3a",
   "metadata": {},
   "outputs": [],
   "source": [
    "def generate_joke(state: JokeState):\n",
    "\n",
    "    prompt = f'generate a joke on the topic {state[\"topic\"]}'\n",
    "    response = llm.invoke(prompt).content\n",
    "\n",
    "    return {'joke': response}"
   ]
  },
  {
   "cell_type": "code",
   "execution_count": 11,
   "id": "6e1339c6",
   "metadata": {},
   "outputs": [],
   "source": [
    "def generate_explanation(state: JokeState):\n",
    "\n",
    "    prompt = f'write an explanation for the joke - {state[\"joke\"]}'\n",
    "    response = llm.invoke(prompt).content\n",
    "\n",
    "    return {'explanation': response}"
   ]
  },
  {
   "cell_type": "code",
   "execution_count": 12,
   "id": "06cfeb35",
   "metadata": {},
   "outputs": [],
   "source": [
    "graph = StateGraph(JokeState)\n",
    "\n",
    "graph.add_node('generate_joke', generate_joke)\n",
    "graph.add_node('generate_explanation', generate_explanation)\n",
    "\n",
    "graph.add_edge(START, 'generate_joke')\n",
    "graph.add_edge('generate_joke', 'generate_explanation')\n",
    "graph.add_edge('generate_explanation', END)\n",
    "\n",
    "checkpointer = InMemorySaver()\n",
    "\n",
    "workflow = graph.compile(checkpointer=checkpointer)"
   ]
  },
  {
   "cell_type": "code",
   "execution_count": 13,
   "id": "041d948f",
   "metadata": {},
   "outputs": [
    {
     "data": {
      "text/plain": [
       "{'topic': 'pizza',\n",
       " 'joke': \"I was going to tell you a joke about pizza, but it's a little too cheesy.\",\n",
       " 'explanation': 'Of course! Here is an explanation for the joke.\\n\\nThe humor in this joke comes from a play on words, specifically the double meaning of the word **\"cheesy.\"**\\n\\nHere are the two meanings at play:\\n\\n1.  **Literal Meaning:** Something is \"cheesy\" if it is made of or covered in cheese. Pizza is famously topped with a lot of cheese.\\n\\n2.  **Figurative Meaning:** A joke, movie, or story is \"cheesy\" if it is corny, silly, unoriginal, or trying too hard to be funny or sentimental. It\\'s often a joke that makes you groan.\\n\\n**How the Joke Works:**\\n\\nThe speaker sets you up to hear a joke *about* pizza. But then, they use the excuse that the joke is \"too cheesy.\"\\n\\n*   On one level, they are saying the joke is **corny and silly** (the figurative meaning).\\n*   On another level, the excuse itself is a perfect pun because the subject, pizza, is literally **covered in cheese** (the literal meaning).\\n\\nIn essence, the punchline *is* the joke. The excuse for not telling the joke is the cheesy pizza joke itself.'}"
      ]
     },
     "execution_count": 13,
     "metadata": {},
     "output_type": "execute_result"
    }
   ],
   "source": [
    "config1 = {\"configurable\": {\"thread_id\": \"1\"}}\n",
    "workflow.invoke({'topic':'pizza'}, config=config1)"
   ]
  },
  {
   "cell_type": "code",
   "execution_count": 14,
   "id": "4fb78882",
   "metadata": {},
   "outputs": [
    {
     "data": {
      "text/plain": [
       "StateSnapshot(values={'topic': 'pizza', 'joke': \"I was going to tell you a joke about pizza, but it's a little too cheesy.\", 'explanation': 'Of course! Here is an explanation for the joke.\\n\\nThe humor in this joke comes from a play on words, specifically the double meaning of the word **\"cheesy.\"**\\n\\nHere are the two meanings at play:\\n\\n1.  **Literal Meaning:** Something is \"cheesy\" if it is made of or covered in cheese. Pizza is famously topped with a lot of cheese.\\n\\n2.  **Figurative Meaning:** A joke, movie, or story is \"cheesy\" if it is corny, silly, unoriginal, or trying too hard to be funny or sentimental. It\\'s often a joke that makes you groan.\\n\\n**How the Joke Works:**\\n\\nThe speaker sets you up to hear a joke *about* pizza. But then, they use the excuse that the joke is \"too cheesy.\"\\n\\n*   On one level, they are saying the joke is **corny and silly** (the figurative meaning).\\n*   On another level, the excuse itself is a perfect pun because the subject, pizza, is literally **covered in cheese** (the literal meaning).\\n\\nIn essence, the punchline *is* the joke. The excuse for not telling the joke is the cheesy pizza joke itself.'}, next=(), config={'configurable': {'thread_id': '1', 'checkpoint_ns': '', 'checkpoint_id': '1f06e2fe-b1e6-6853-8002-e136f1de1bc1'}}, metadata={'source': 'loop', 'writes': {'generate_explanation': {'explanation': 'Of course! Here is an explanation for the joke.\\n\\nThe humor in this joke comes from a play on words, specifically the double meaning of the word **\"cheesy.\"**\\n\\nHere are the two meanings at play:\\n\\n1.  **Literal Meaning:** Something is \"cheesy\" if it is made of or covered in cheese. Pizza is famously topped with a lot of cheese.\\n\\n2.  **Figurative Meaning:** A joke, movie, or story is \"cheesy\" if it is corny, silly, unoriginal, or trying too hard to be funny or sentimental. It\\'s often a joke that makes you groan.\\n\\n**How the Joke Works:**\\n\\nThe speaker sets you up to hear a joke *about* pizza. But then, they use the excuse that the joke is \"too cheesy.\"\\n\\n*   On one level, they are saying the joke is **corny and silly** (the figurative meaning).\\n*   On another level, the excuse itself is a perfect pun because the subject, pizza, is literally **covered in cheese** (the literal meaning).\\n\\nIn essence, the punchline *is* the joke. The excuse for not telling the joke is the cheesy pizza joke itself.'}}, 'thread_id': '1', 'step': 2, 'parents': {}}, created_at='2025-07-31T17:00:53.564219+00:00', parent_config={'configurable': {'thread_id': '1', 'checkpoint_ns': '', 'checkpoint_id': '1f06e2fe-1447-6117-8001-436414e66aaa'}}, tasks=())"
      ]
     },
     "execution_count": 14,
     "metadata": {},
     "output_type": "execute_result"
    }
   ],
   "source": [
    "workflow.get_state(config1)"
   ]
  },
  {
   "cell_type": "code",
   "execution_count": 15,
   "id": "281c6d42",
   "metadata": {},
   "outputs": [
    {
     "data": {
      "text/plain": [
       "[StateSnapshot(values={'topic': 'pizza', 'joke': \"I was going to tell you a joke about pizza, but it's a little too cheesy.\", 'explanation': 'Of course! Here is an explanation for the joke.\\n\\nThe humor in this joke comes from a play on words, specifically the double meaning of the word **\"cheesy.\"**\\n\\nHere are the two meanings at play:\\n\\n1.  **Literal Meaning:** Something is \"cheesy\" if it is made of or covered in cheese. Pizza is famously topped with a lot of cheese.\\n\\n2.  **Figurative Meaning:** A joke, movie, or story is \"cheesy\" if it is corny, silly, unoriginal, or trying too hard to be funny or sentimental. It\\'s often a joke that makes you groan.\\n\\n**How the Joke Works:**\\n\\nThe speaker sets you up to hear a joke *about* pizza. But then, they use the excuse that the joke is \"too cheesy.\"\\n\\n*   On one level, they are saying the joke is **corny and silly** (the figurative meaning).\\n*   On another level, the excuse itself is a perfect pun because the subject, pizza, is literally **covered in cheese** (the literal meaning).\\n\\nIn essence, the punchline *is* the joke. The excuse for not telling the joke is the cheesy pizza joke itself.'}, next=(), config={'configurable': {'thread_id': '1', 'checkpoint_ns': '', 'checkpoint_id': '1f06e2fe-b1e6-6853-8002-e136f1de1bc1'}}, metadata={'source': 'loop', 'writes': {'generate_explanation': {'explanation': 'Of course! Here is an explanation for the joke.\\n\\nThe humor in this joke comes from a play on words, specifically the double meaning of the word **\"cheesy.\"**\\n\\nHere are the two meanings at play:\\n\\n1.  **Literal Meaning:** Something is \"cheesy\" if it is made of or covered in cheese. Pizza is famously topped with a lot of cheese.\\n\\n2.  **Figurative Meaning:** A joke, movie, or story is \"cheesy\" if it is corny, silly, unoriginal, or trying too hard to be funny or sentimental. It\\'s often a joke that makes you groan.\\n\\n**How the Joke Works:**\\n\\nThe speaker sets you up to hear a joke *about* pizza. But then, they use the excuse that the joke is \"too cheesy.\"\\n\\n*   On one level, they are saying the joke is **corny and silly** (the figurative meaning).\\n*   On another level, the excuse itself is a perfect pun because the subject, pizza, is literally **covered in cheese** (the literal meaning).\\n\\nIn essence, the punchline *is* the joke. The excuse for not telling the joke is the cheesy pizza joke itself.'}}, 'thread_id': '1', 'step': 2, 'parents': {}}, created_at='2025-07-31T17:00:53.564219+00:00', parent_config={'configurable': {'thread_id': '1', 'checkpoint_ns': '', 'checkpoint_id': '1f06e2fe-1447-6117-8001-436414e66aaa'}}, tasks=()),\n",
       " StateSnapshot(values={'topic': 'pizza', 'joke': \"I was going to tell you a joke about pizza, but it's a little too cheesy.\"}, next=('generate_explanation',), config={'configurable': {'thread_id': '1', 'checkpoint_ns': '', 'checkpoint_id': '1f06e2fe-1447-6117-8001-436414e66aaa'}}, metadata={'source': 'loop', 'writes': {'generate_joke': {'joke': \"I was going to tell you a joke about pizza, but it's a little too cheesy.\"}}, 'thread_id': '1', 'step': 1, 'parents': {}}, created_at='2025-07-31T17:00:37.036264+00:00', parent_config={'configurable': {'thread_id': '1', 'checkpoint_ns': '', 'checkpoint_id': '1f06e2fd-4aad-6d45-8000-de8e845f7398'}}, tasks=(PregelTask(id='1c35a21b-27ef-c779-ade1-80a737067ce6', name='generate_explanation', path=('__pregel_pull', 'generate_explanation'), error=None, interrupts=(), state=None, result={'explanation': 'Of course! Here is an explanation for the joke.\\n\\nThe humor in this joke comes from a play on words, specifically the double meaning of the word **\"cheesy.\"**\\n\\nHere are the two meanings at play:\\n\\n1.  **Literal Meaning:** Something is \"cheesy\" if it is made of or covered in cheese. Pizza is famously topped with a lot of cheese.\\n\\n2.  **Figurative Meaning:** A joke, movie, or story is \"cheesy\" if it is corny, silly, unoriginal, or trying too hard to be funny or sentimental. It\\'s often a joke that makes you groan.\\n\\n**How the Joke Works:**\\n\\nThe speaker sets you up to hear a joke *about* pizza. But then, they use the excuse that the joke is \"too cheesy.\"\\n\\n*   On one level, they are saying the joke is **corny and silly** (the figurative meaning).\\n*   On another level, the excuse itself is a perfect pun because the subject, pizza, is literally **covered in cheese** (the literal meaning).\\n\\nIn essence, the punchline *is* the joke. The excuse for not telling the joke is the cheesy pizza joke itself.'}),)),\n",
       " StateSnapshot(values={'topic': 'pizza'}, next=('generate_joke',), config={'configurable': {'thread_id': '1', 'checkpoint_ns': '', 'checkpoint_id': '1f06e2fd-4aad-6d45-8000-de8e845f7398'}}, metadata={'source': 'loop', 'writes': None, 'thread_id': '1', 'step': 0, 'parents': {}}, created_at='2025-07-31T17:00:15.897120+00:00', parent_config={'configurable': {'thread_id': '1', 'checkpoint_ns': '', 'checkpoint_id': '1f06e2fd-4a8e-66b9-bfff-3c88a246b0fe'}}, tasks=(PregelTask(id='f46effeb-0887-6d95-3432-02b24d15d3c3', name='generate_joke', path=('__pregel_pull', 'generate_joke'), error=None, interrupts=(), state=None, result={'joke': \"I was going to tell you a joke about pizza, but it's a little too cheesy.\"}),)),\n",
       " StateSnapshot(values={}, next=('__start__',), config={'configurable': {'thread_id': '1', 'checkpoint_ns': '', 'checkpoint_id': '1f06e2fd-4a8e-66b9-bfff-3c88a246b0fe'}}, metadata={'source': 'input', 'writes': {'__start__': {'topic': 'pizza'}}, 'thread_id': '1', 'step': -1, 'parents': {}}, created_at='2025-07-31T17:00:15.884255+00:00', parent_config=None, tasks=(PregelTask(id='bf7a64a3-1cea-e080-1a27-f48ceb4af88f', name='__start__', path=('__pregel_pull', '__start__'), error=None, interrupts=(), state=None, result={'topic': 'pizza'}),))]"
      ]
     },
     "execution_count": 15,
     "metadata": {},
     "output_type": "execute_result"
    }
   ],
   "source": [
    "list(workflow.get_state_history(config1))"
   ]
  },
  {
   "cell_type": "code",
   "execution_count": 16,
   "id": "c3252504",
   "metadata": {},
   "outputs": [
    {
     "data": {
      "text/plain": [
       "{'topic': 'pasta',\n",
       " 'joke': 'What do you call a fake noodle?\\n\\nAn impasta.',\n",
       " 'explanation': 'Of course! Here is a breakdown of the joke:\\n\\nThis joke is a classic **pun**, which is a play on words. The humor comes from the punchline, \"An impasta,\" sounding like two different words at the same time.\\n\\nHere\\'s how it breaks down:\\n\\n1.  **Impostor:** The word \"impasta\" sounds almost exactly like **\"impostor.\"** An impostor is someone or something that is fake or pretends to be something it isn\\'t. This directly relates to the \"fake\" part of the setup question.\\n\\n2.  **Pasta:** The word \"impasta\" also contains the word **\"pasta.\"** Pasta is the food category that noodles belong to (like spaghetti, fettuccine, etc.).\\n\\nSo, the joke combines these two ideas: a \"fake noodle\" is an **impostor** that is also a type of **pasta**, creating the perfect, silly word: **an impasta**.'}"
      ]
     },
     "execution_count": 16,
     "metadata": {},
     "output_type": "execute_result"
    }
   ],
   "source": [
    "config2 = {\"configurable\": {\"thread_id\": \"2\"}}\n",
    "workflow.invoke({'topic':'pasta'}, config=config2)"
   ]
  },
  {
   "cell_type": "code",
   "execution_count": 17,
   "id": "f9604140",
   "metadata": {},
   "outputs": [
    {
     "data": {
      "text/plain": [
       "StateSnapshot(values={'topic': 'pizza', 'joke': \"I was going to tell you a joke about pizza, but it's a little too cheesy.\", 'explanation': 'Of course! Here is an explanation for the joke.\\n\\nThe humor in this joke comes from a play on words, specifically the double meaning of the word **\"cheesy.\"**\\n\\nHere are the two meanings at play:\\n\\n1.  **Literal Meaning:** Something is \"cheesy\" if it is made of or covered in cheese. Pizza is famously topped with a lot of cheese.\\n\\n2.  **Figurative Meaning:** A joke, movie, or story is \"cheesy\" if it is corny, silly, unoriginal, or trying too hard to be funny or sentimental. It\\'s often a joke that makes you groan.\\n\\n**How the Joke Works:**\\n\\nThe speaker sets you up to hear a joke *about* pizza. But then, they use the excuse that the joke is \"too cheesy.\"\\n\\n*   On one level, they are saying the joke is **corny and silly** (the figurative meaning).\\n*   On another level, the excuse itself is a perfect pun because the subject, pizza, is literally **covered in cheese** (the literal meaning).\\n\\nIn essence, the punchline *is* the joke. The excuse for not telling the joke is the cheesy pizza joke itself.'}, next=(), config={'configurable': {'thread_id': '1', 'checkpoint_ns': '', 'checkpoint_id': '1f06e2fe-b1e6-6853-8002-e136f1de1bc1'}}, metadata={'source': 'loop', 'writes': {'generate_explanation': {'explanation': 'Of course! Here is an explanation for the joke.\\n\\nThe humor in this joke comes from a play on words, specifically the double meaning of the word **\"cheesy.\"**\\n\\nHere are the two meanings at play:\\n\\n1.  **Literal Meaning:** Something is \"cheesy\" if it is made of or covered in cheese. Pizza is famously topped with a lot of cheese.\\n\\n2.  **Figurative Meaning:** A joke, movie, or story is \"cheesy\" if it is corny, silly, unoriginal, or trying too hard to be funny or sentimental. It\\'s often a joke that makes you groan.\\n\\n**How the Joke Works:**\\n\\nThe speaker sets you up to hear a joke *about* pizza. But then, they use the excuse that the joke is \"too cheesy.\"\\n\\n*   On one level, they are saying the joke is **corny and silly** (the figurative meaning).\\n*   On another level, the excuse itself is a perfect pun because the subject, pizza, is literally **covered in cheese** (the literal meaning).\\n\\nIn essence, the punchline *is* the joke. The excuse for not telling the joke is the cheesy pizza joke itself.'}}, 'thread_id': '1', 'step': 2, 'parents': {}}, created_at='2025-07-31T17:00:53.564219+00:00', parent_config={'configurable': {'thread_id': '1', 'checkpoint_ns': '', 'checkpoint_id': '1f06e2fe-1447-6117-8001-436414e66aaa'}}, tasks=())"
      ]
     },
     "execution_count": 17,
     "metadata": {},
     "output_type": "execute_result"
    }
   ],
   "source": [
    "workflow.get_state(config1)"
   ]
  },
  {
   "cell_type": "code",
   "execution_count": 18,
   "id": "73c92877",
   "metadata": {},
   "outputs": [
    {
     "data": {
      "text/plain": [
       "[StateSnapshot(values={'topic': 'pizza', 'joke': \"I was going to tell you a joke about pizza, but it's a little too cheesy.\", 'explanation': 'Of course! Here is an explanation for the joke.\\n\\nThe humor in this joke comes from a play on words, specifically the double meaning of the word **\"cheesy.\"**\\n\\nHere are the two meanings at play:\\n\\n1.  **Literal Meaning:** Something is \"cheesy\" if it is made of or covered in cheese. Pizza is famously topped with a lot of cheese.\\n\\n2.  **Figurative Meaning:** A joke, movie, or story is \"cheesy\" if it is corny, silly, unoriginal, or trying too hard to be funny or sentimental. It\\'s often a joke that makes you groan.\\n\\n**How the Joke Works:**\\n\\nThe speaker sets you up to hear a joke *about* pizza. But then, they use the excuse that the joke is \"too cheesy.\"\\n\\n*   On one level, they are saying the joke is **corny and silly** (the figurative meaning).\\n*   On another level, the excuse itself is a perfect pun because the subject, pizza, is literally **covered in cheese** (the literal meaning).\\n\\nIn essence, the punchline *is* the joke. The excuse for not telling the joke is the cheesy pizza joke itself.'}, next=(), config={'configurable': {'thread_id': '1', 'checkpoint_ns': '', 'checkpoint_id': '1f06e2fe-b1e6-6853-8002-e136f1de1bc1'}}, metadata={'source': 'loop', 'writes': {'generate_explanation': {'explanation': 'Of course! Here is an explanation for the joke.\\n\\nThe humor in this joke comes from a play on words, specifically the double meaning of the word **\"cheesy.\"**\\n\\nHere are the two meanings at play:\\n\\n1.  **Literal Meaning:** Something is \"cheesy\" if it is made of or covered in cheese. Pizza is famously topped with a lot of cheese.\\n\\n2.  **Figurative Meaning:** A joke, movie, or story is \"cheesy\" if it is corny, silly, unoriginal, or trying too hard to be funny or sentimental. It\\'s often a joke that makes you groan.\\n\\n**How the Joke Works:**\\n\\nThe speaker sets you up to hear a joke *about* pizza. But then, they use the excuse that the joke is \"too cheesy.\"\\n\\n*   On one level, they are saying the joke is **corny and silly** (the figurative meaning).\\n*   On another level, the excuse itself is a perfect pun because the subject, pizza, is literally **covered in cheese** (the literal meaning).\\n\\nIn essence, the punchline *is* the joke. The excuse for not telling the joke is the cheesy pizza joke itself.'}}, 'thread_id': '1', 'step': 2, 'parents': {}}, created_at='2025-07-31T17:00:53.564219+00:00', parent_config={'configurable': {'thread_id': '1', 'checkpoint_ns': '', 'checkpoint_id': '1f06e2fe-1447-6117-8001-436414e66aaa'}}, tasks=()),\n",
       " StateSnapshot(values={'topic': 'pizza', 'joke': \"I was going to tell you a joke about pizza, but it's a little too cheesy.\"}, next=('generate_explanation',), config={'configurable': {'thread_id': '1', 'checkpoint_ns': '', 'checkpoint_id': '1f06e2fe-1447-6117-8001-436414e66aaa'}}, metadata={'source': 'loop', 'writes': {'generate_joke': {'joke': \"I was going to tell you a joke about pizza, but it's a little too cheesy.\"}}, 'thread_id': '1', 'step': 1, 'parents': {}}, created_at='2025-07-31T17:00:37.036264+00:00', parent_config={'configurable': {'thread_id': '1', 'checkpoint_ns': '', 'checkpoint_id': '1f06e2fd-4aad-6d45-8000-de8e845f7398'}}, tasks=(PregelTask(id='1c35a21b-27ef-c779-ade1-80a737067ce6', name='generate_explanation', path=('__pregel_pull', 'generate_explanation'), error=None, interrupts=(), state=None, result={'explanation': 'Of course! Here is an explanation for the joke.\\n\\nThe humor in this joke comes from a play on words, specifically the double meaning of the word **\"cheesy.\"**\\n\\nHere are the two meanings at play:\\n\\n1.  **Literal Meaning:** Something is \"cheesy\" if it is made of or covered in cheese. Pizza is famously topped with a lot of cheese.\\n\\n2.  **Figurative Meaning:** A joke, movie, or story is \"cheesy\" if it is corny, silly, unoriginal, or trying too hard to be funny or sentimental. It\\'s often a joke that makes you groan.\\n\\n**How the Joke Works:**\\n\\nThe speaker sets you up to hear a joke *about* pizza. But then, they use the excuse that the joke is \"too cheesy.\"\\n\\n*   On one level, they are saying the joke is **corny and silly** (the figurative meaning).\\n*   On another level, the excuse itself is a perfect pun because the subject, pizza, is literally **covered in cheese** (the literal meaning).\\n\\nIn essence, the punchline *is* the joke. The excuse for not telling the joke is the cheesy pizza joke itself.'}),)),\n",
       " StateSnapshot(values={'topic': 'pizza'}, next=('generate_joke',), config={'configurable': {'thread_id': '1', 'checkpoint_ns': '', 'checkpoint_id': '1f06e2fd-4aad-6d45-8000-de8e845f7398'}}, metadata={'source': 'loop', 'writes': None, 'thread_id': '1', 'step': 0, 'parents': {}}, created_at='2025-07-31T17:00:15.897120+00:00', parent_config={'configurable': {'thread_id': '1', 'checkpoint_ns': '', 'checkpoint_id': '1f06e2fd-4a8e-66b9-bfff-3c88a246b0fe'}}, tasks=(PregelTask(id='f46effeb-0887-6d95-3432-02b24d15d3c3', name='generate_joke', path=('__pregel_pull', 'generate_joke'), error=None, interrupts=(), state=None, result={'joke': \"I was going to tell you a joke about pizza, but it's a little too cheesy.\"}),)),\n",
       " StateSnapshot(values={}, next=('__start__',), config={'configurable': {'thread_id': '1', 'checkpoint_ns': '', 'checkpoint_id': '1f06e2fd-4a8e-66b9-bfff-3c88a246b0fe'}}, metadata={'source': 'input', 'writes': {'__start__': {'topic': 'pizza'}}, 'thread_id': '1', 'step': -1, 'parents': {}}, created_at='2025-07-31T17:00:15.884255+00:00', parent_config=None, tasks=(PregelTask(id='bf7a64a3-1cea-e080-1a27-f48ceb4af88f', name='__start__', path=('__pregel_pull', '__start__'), error=None, interrupts=(), state=None, result={'topic': 'pizza'}),))]"
      ]
     },
     "execution_count": 18,
     "metadata": {},
     "output_type": "execute_result"
    }
   ],
   "source": [
    "list(workflow.get_state_history(config1))"
   ]
  },
  {
   "cell_type": "markdown",
   "id": "636d414f",
   "metadata": {},
   "source": [
    "### **Time Travel**"
   ]
  },
  {
   "cell_type": "code",
   "execution_count": 21,
   "id": "31e88321",
   "metadata": {},
   "outputs": [
    {
     "data": {
      "text/plain": [
       "StateSnapshot(values={'topic': 'pizza', 'joke': \"I was going to tell you a joke about pizza, but it's a little too cheesy.\"}, next=('generate_explanation',), config={'configurable': {'thread_id': '1', 'checkpoint_id': '1f06e2fe-1447-6117-8001-436414e66aaa'}}, metadata={'source': 'loop', 'writes': {'generate_joke': {'joke': \"I was going to tell you a joke about pizza, but it's a little too cheesy.\"}}, 'thread_id': '1', 'step': 1, 'parents': {}}, created_at='2025-07-31T17:00:37.036264+00:00', parent_config={'configurable': {'thread_id': '1', 'checkpoint_ns': '', 'checkpoint_id': '1f06e2fd-4aad-6d45-8000-de8e845f7398'}}, tasks=(PregelTask(id='1c35a21b-27ef-c779-ade1-80a737067ce6', name='generate_explanation', path=('__pregel_pull', 'generate_explanation'), error=None, interrupts=(), state=None, result={'explanation': 'Of course! Here is an explanation for the joke.\\n\\nThe humor in this joke comes from a play on words, specifically the double meaning of the word **\"cheesy.\"**\\n\\nHere are the two meanings at play:\\n\\n1.  **Literal Meaning:** Something is \"cheesy\" if it is made of or covered in cheese. Pizza is famously topped with a lot of cheese.\\n\\n2.  **Figurative Meaning:** A joke, movie, or story is \"cheesy\" if it is corny, silly, unoriginal, or trying too hard to be funny or sentimental. It\\'s often a joke that makes you groan.\\n\\n**How the Joke Works:**\\n\\nThe speaker sets you up to hear a joke *about* pizza. But then, they use the excuse that the joke is \"too cheesy.\"\\n\\n*   On one level, they are saying the joke is **corny and silly** (the figurative meaning).\\n*   On another level, the excuse itself is a perfect pun because the subject, pizza, is literally **covered in cheese** (the literal meaning).\\n\\nIn essence, the punchline *is* the joke. The excuse for not telling the joke is the cheesy pizza joke itself.'}),))"
      ]
     },
     "execution_count": 21,
     "metadata": {},
     "output_type": "execute_result"
    }
   ],
   "source": [
    "workflow.get_state({\"configurable\": {\"thread_id\": \"1\", \"checkpoint_id\": \"1f06e2fe-1447-6117-8001-436414e66aaa\"}})"
   ]
  },
  {
   "cell_type": "code",
   "execution_count": 22,
   "id": "71e5dfa4",
   "metadata": {},
   "outputs": [
    {
     "data": {
      "text/plain": [
       "{'topic': 'pizza',\n",
       " 'joke': \"I was going to tell you a joke about pizza, but it's a little too cheesy.\",\n",
       " 'explanation': 'Of course! Here is a breakdown of the joke.\\n\\nThe humor in this joke comes from a **pun**, which is a play on words. The key word here is **\"cheesy.\"** It has two different meanings that are being used at the same time.\\n\\nHere are the two meanings:\\n\\n1.  **Literal Meaning:** Something is literally covered in or made of cheese. Pizza is famously topped with a lot of melted cheese, so it is a very \"cheesy\" food.\\n\\n2.  **Figurative/Idiomatic Meaning:** When you describe a joke, a movie, or a song as \"cheesy,\" you mean it\\'s silly, corny, unoriginal, or trying too hard to be funny or sentimental. It\\'s often used to describe a bad or groan-worthy joke.\\n\\n### How the Joke Works:\\n\\nThe joke sets you up to expect a story or a riddle about pizza. But instead of telling one, the speaker uses the excuse that the joke is \"too cheesy.\"\\n\\n*   You first think of the **literal meaning**: \"Of course, a joke about pizza would be cheesy, because pizza has cheese.\"\\n*   Then you realize the speaker is also using the **figurative meaning**: They are calling the joke they decided not to tell \"corny\" or \"lame.\"\\n\\nThe punchline is that the statement itself **is** the cheesy joke. By refusing to tell a cheesy pizza joke, the speaker has, in fact, just told one. It\\'s a simple, self-aware pun that plays on the listener\\'s expectations.'}"
      ]
     },
     "execution_count": 22,
     "metadata": {},
     "output_type": "execute_result"
    }
   ],
   "source": [
    "workflow.invoke(None, {\"configurable\": {\"thread_id\": \"1\", \"checkpoint_id\": \"1f06e2fe-1447-6117-8001-436414e66aaa\"}})"
   ]
  },
  {
   "cell_type": "markdown",
   "id": "bb63915b",
   "metadata": {},
   "source": [
    "### **Updating State** "
   ]
  },
  {
   "cell_type": "code",
   "execution_count": 23,
   "id": "2b2b841c",
   "metadata": {},
   "outputs": [
    {
     "data": {
      "text/plain": [
       "{'configurable': {'thread_id': '1',\n",
       "  'checkpoint_ns': '',\n",
       "  'checkpoint_id': '1f06e318-74ad-68dc-8002-30622f95d833'}}"
      ]
     },
     "execution_count": 23,
     "metadata": {},
     "output_type": "execute_result"
    }
   ],
   "source": [
    "workflow.update_state({\"configurable\": {\"thread_id\": \"1\", \"checkpoint_id\": \"1f06e2fe-1447-6117-8001-436414e66aaa\", \"checkpoint_ns\": \"\"}}, {'topic':'samosa'})"
   ]
  },
  {
   "cell_type": "code",
   "execution_count": 24,
   "id": "20a83dc3",
   "metadata": {},
   "outputs": [
    {
     "data": {
      "text/plain": [
       "[StateSnapshot(values={'topic': 'samosa', 'joke': \"I was going to tell you a joke about pizza, but it's a little too cheesy.\"}, next=('generate_explanation',), config={'configurable': {'thread_id': '1', 'checkpoint_ns': '', 'checkpoint_id': '1f06e318-74ad-68dc-8002-30622f95d833'}}, metadata={'source': 'update', 'writes': {'generate_joke': {'topic': 'samosa'}}, 'thread_id': '1', 'step': 2, 'parents': {}, 'checkpoint_id': '1f06e2fe-1447-6117-8001-436414e66aaa', 'checkpoint_ns': ''}, created_at='2025-07-31T17:12:25.076758+00:00', parent_config={'configurable': {'thread_id': '1', 'checkpoint_ns': '', 'checkpoint_id': '1f06e2fe-1447-6117-8001-436414e66aaa'}}, tasks=(PregelTask(id='ce5b936a-f340-987b-c4e1-4df6362fbb66', name='generate_explanation', path=('__pregel_pull', 'generate_explanation'), error=None, interrupts=(), state=None, result=None),)),\n",
       " StateSnapshot(values={'topic': 'pizza', 'joke': \"I was going to tell you a joke about pizza, but it's a little too cheesy.\", 'explanation': 'Of course! Here is a breakdown of the joke.\\n\\nThe humor in this joke comes from a **pun**, which is a play on words. The key word here is **\"cheesy.\"** It has two different meanings that are being used at the same time.\\n\\nHere are the two meanings:\\n\\n1.  **Literal Meaning:** Something is literally covered in or made of cheese. Pizza is famously topped with a lot of melted cheese, so it is a very \"cheesy\" food.\\n\\n2.  **Figurative/Idiomatic Meaning:** When you describe a joke, a movie, or a song as \"cheesy,\" you mean it\\'s silly, corny, unoriginal, or trying too hard to be funny or sentimental. It\\'s often used to describe a bad or groan-worthy joke.\\n\\n### How the Joke Works:\\n\\nThe joke sets you up to expect a story or a riddle about pizza. But instead of telling one, the speaker uses the excuse that the joke is \"too cheesy.\"\\n\\n*   You first think of the **literal meaning**: \"Of course, a joke about pizza would be cheesy, because pizza has cheese.\"\\n*   Then you realize the speaker is also using the **figurative meaning**: They are calling the joke they decided not to tell \"corny\" or \"lame.\"\\n\\nThe punchline is that the statement itself **is** the cheesy joke. By refusing to tell a cheesy pizza joke, the speaker has, in fact, just told one. It\\'s a simple, self-aware pun that plays on the listener\\'s expectations.'}, next=(), config={'configurable': {'thread_id': '1', 'checkpoint_ns': '', 'checkpoint_id': '1f06e311-fa66-6ea7-8002-367da51f1e55'}}, metadata={'source': 'loop', 'writes': {'generate_explanation': {'explanation': 'Of course! Here is a breakdown of the joke.\\n\\nThe humor in this joke comes from a **pun**, which is a play on words. The key word here is **\"cheesy.\"** It has two different meanings that are being used at the same time.\\n\\nHere are the two meanings:\\n\\n1.  **Literal Meaning:** Something is literally covered in or made of cheese. Pizza is famously topped with a lot of melted cheese, so it is a very \"cheesy\" food.\\n\\n2.  **Figurative/Idiomatic Meaning:** When you describe a joke, a movie, or a song as \"cheesy,\" you mean it\\'s silly, corny, unoriginal, or trying too hard to be funny or sentimental. It\\'s often used to describe a bad or groan-worthy joke.\\n\\n### How the Joke Works:\\n\\nThe joke sets you up to expect a story or a riddle about pizza. But instead of telling one, the speaker uses the excuse that the joke is \"too cheesy.\"\\n\\n*   You first think of the **literal meaning**: \"Of course, a joke about pizza would be cheesy, because pizza has cheese.\"\\n*   Then you realize the speaker is also using the **figurative meaning**: They are calling the joke they decided not to tell \"corny\" or \"lame.\"\\n\\nThe punchline is that the statement itself **is** the cheesy joke. By refusing to tell a cheesy pizza joke, the speaker has, in fact, just told one. It\\'s a simple, self-aware pun that plays on the listener\\'s expectations.'}}, 'thread_id': '1', 'checkpoint_id': '1f06e2fe-1447-6117-8001-436414e66aaa', 'step': 2, 'parents': {}}, created_at='2025-07-31T17:09:31.193923+00:00', parent_config={'configurable': {'thread_id': '1', 'checkpoint_ns': '', 'checkpoint_id': '1f06e2fe-1447-6117-8001-436414e66aaa'}}, tasks=()),\n",
       " StateSnapshot(values={'topic': 'pizza', 'joke': \"I was going to tell you a joke about pizza, but it's a little too cheesy.\", 'explanation': 'Of course! Here is an explanation for the joke.\\n\\nThe humor in this joke comes from a play on words, specifically the double meaning of the word **\"cheesy.\"**\\n\\nHere are the two meanings at play:\\n\\n1.  **Literal Meaning:** Something is \"cheesy\" if it is made of or covered in cheese. Pizza is famously topped with a lot of cheese.\\n\\n2.  **Figurative Meaning:** A joke, movie, or story is \"cheesy\" if it is corny, silly, unoriginal, or trying too hard to be funny or sentimental. It\\'s often a joke that makes you groan.\\n\\n**How the Joke Works:**\\n\\nThe speaker sets you up to hear a joke *about* pizza. But then, they use the excuse that the joke is \"too cheesy.\"\\n\\n*   On one level, they are saying the joke is **corny and silly** (the figurative meaning).\\n*   On another level, the excuse itself is a perfect pun because the subject, pizza, is literally **covered in cheese** (the literal meaning).\\n\\nIn essence, the punchline *is* the joke. The excuse for not telling the joke is the cheesy pizza joke itself.'}, next=(), config={'configurable': {'thread_id': '1', 'checkpoint_ns': '', 'checkpoint_id': '1f06e2fe-b1e6-6853-8002-e136f1de1bc1'}}, metadata={'source': 'loop', 'writes': {'generate_explanation': {'explanation': 'Of course! Here is an explanation for the joke.\\n\\nThe humor in this joke comes from a play on words, specifically the double meaning of the word **\"cheesy.\"**\\n\\nHere are the two meanings at play:\\n\\n1.  **Literal Meaning:** Something is \"cheesy\" if it is made of or covered in cheese. Pizza is famously topped with a lot of cheese.\\n\\n2.  **Figurative Meaning:** A joke, movie, or story is \"cheesy\" if it is corny, silly, unoriginal, or trying too hard to be funny or sentimental. It\\'s often a joke that makes you groan.\\n\\n**How the Joke Works:**\\n\\nThe speaker sets you up to hear a joke *about* pizza. But then, they use the excuse that the joke is \"too cheesy.\"\\n\\n*   On one level, they are saying the joke is **corny and silly** (the figurative meaning).\\n*   On another level, the excuse itself is a perfect pun because the subject, pizza, is literally **covered in cheese** (the literal meaning).\\n\\nIn essence, the punchline *is* the joke. The excuse for not telling the joke is the cheesy pizza joke itself.'}}, 'thread_id': '1', 'step': 2, 'parents': {}}, created_at='2025-07-31T17:00:53.564219+00:00', parent_config={'configurable': {'thread_id': '1', 'checkpoint_ns': '', 'checkpoint_id': '1f06e2fe-1447-6117-8001-436414e66aaa'}}, tasks=()),\n",
       " StateSnapshot(values={'topic': 'pizza', 'joke': \"I was going to tell you a joke about pizza, but it's a little too cheesy.\"}, next=('generate_explanation',), config={'configurable': {'thread_id': '1', 'checkpoint_ns': '', 'checkpoint_id': '1f06e2fe-1447-6117-8001-436414e66aaa'}}, metadata={'source': 'loop', 'writes': {'generate_joke': {'joke': \"I was going to tell you a joke about pizza, but it's a little too cheesy.\"}}, 'thread_id': '1', 'step': 1, 'parents': {}}, created_at='2025-07-31T17:00:37.036264+00:00', parent_config={'configurable': {'thread_id': '1', 'checkpoint_ns': '', 'checkpoint_id': '1f06e2fd-4aad-6d45-8000-de8e845f7398'}}, tasks=(PregelTask(id='1c35a21b-27ef-c779-ade1-80a737067ce6', name='generate_explanation', path=('__pregel_pull', 'generate_explanation'), error=None, interrupts=(), state=None, result={'explanation': 'Of course! Here is an explanation for the joke.\\n\\nThe humor in this joke comes from a play on words, specifically the double meaning of the word **\"cheesy.\"**\\n\\nHere are the two meanings at play:\\n\\n1.  **Literal Meaning:** Something is \"cheesy\" if it is made of or covered in cheese. Pizza is famously topped with a lot of cheese.\\n\\n2.  **Figurative Meaning:** A joke, movie, or story is \"cheesy\" if it is corny, silly, unoriginal, or trying too hard to be funny or sentimental. It\\'s often a joke that makes you groan.\\n\\n**How the Joke Works:**\\n\\nThe speaker sets you up to hear a joke *about* pizza. But then, they use the excuse that the joke is \"too cheesy.\"\\n\\n*   On one level, they are saying the joke is **corny and silly** (the figurative meaning).\\n*   On another level, the excuse itself is a perfect pun because the subject, pizza, is literally **covered in cheese** (the literal meaning).\\n\\nIn essence, the punchline *is* the joke. The excuse for not telling the joke is the cheesy pizza joke itself.'}),)),\n",
       " StateSnapshot(values={'topic': 'pizza'}, next=('generate_joke',), config={'configurable': {'thread_id': '1', 'checkpoint_ns': '', 'checkpoint_id': '1f06e2fd-4aad-6d45-8000-de8e845f7398'}}, metadata={'source': 'loop', 'writes': None, 'thread_id': '1', 'step': 0, 'parents': {}}, created_at='2025-07-31T17:00:15.897120+00:00', parent_config={'configurable': {'thread_id': '1', 'checkpoint_ns': '', 'checkpoint_id': '1f06e2fd-4a8e-66b9-bfff-3c88a246b0fe'}}, tasks=(PregelTask(id='f46effeb-0887-6d95-3432-02b24d15d3c3', name='generate_joke', path=('__pregel_pull', 'generate_joke'), error=None, interrupts=(), state=None, result={'joke': \"I was going to tell you a joke about pizza, but it's a little too cheesy.\"}),)),\n",
       " StateSnapshot(values={}, next=('__start__',), config={'configurable': {'thread_id': '1', 'checkpoint_ns': '', 'checkpoint_id': '1f06e2fd-4a8e-66b9-bfff-3c88a246b0fe'}}, metadata={'source': 'input', 'writes': {'__start__': {'topic': 'pizza'}}, 'thread_id': '1', 'step': -1, 'parents': {}}, created_at='2025-07-31T17:00:15.884255+00:00', parent_config=None, tasks=(PregelTask(id='bf7a64a3-1cea-e080-1a27-f48ceb4af88f', name='__start__', path=('__pregel_pull', '__start__'), error=None, interrupts=(), state=None, result={'topic': 'pizza'}),))]"
      ]
     },
     "execution_count": 24,
     "metadata": {},
     "output_type": "execute_result"
    }
   ],
   "source": [
    "list(workflow.get_state_history(config1))"
   ]
  },
  {
   "cell_type": "code",
   "execution_count": 26,
   "id": "1e7a7d29",
   "metadata": {},
   "outputs": [
    {
     "data": {
      "text/plain": [
       "{'topic': 'samosa',\n",
       " 'joke': \"I was going to tell you a joke about pizza, but it's a little too cheesy.\",\n",
       " 'explanation': 'Of course! Here is an explanation of the joke.\\n\\nThe humor in this joke comes from a **pun**, which is a play on a word that has two different meanings. The key word here is **\"cheesy.\"**\\n\\nLet\\'s break down the two meanings of \"cheesy\" used in the joke:\\n\\n1.  **Literal Meaning:** Covered in or relating to cheese. Pizza is famously topped with a lot of melted cheese, so a joke about pizza could literally be described as \"cheesy.\"\\n\\n2.  **Figurative/Idiomatic Meaning:** \"Cheesy\" is also a common slang term used to describe something that is silly, unoriginal, lame, or trying too hard to be funny or sentimental. A \"cheesy joke\" is another term for a dad joke or a groan-worthy pun.\\n\\n### How the Joke Works:\\n\\nThe speaker sets you up to expect a standard joke about pizza. But instead of telling one, they use the excuse that the joke is \"too cheesy.\"\\n\\n*   You initially interpret \"cheesy\" in its figurative sense, thinking the speaker means the joke is **lame or silly**.\\n*   Almost immediately, your brain makes the connection to the literal meaning: the joke is about pizza, and pizza is **covered in cheese**.\\n\\nThe punchline is that the statement itself *is* the cheesy pizza joke. It cleverly uses both meanings of the word at the same time.\\n\\n**In short: The speaker pretends they won\\'t tell you a lame joke about pizza, but in doing so, they tell you a very clever (and cheesy) one.**'}"
      ]
     },
     "execution_count": 26,
     "metadata": {},
     "output_type": "execute_result"
    }
   ],
   "source": [
    "workflow.invoke(None, {\"configurable\": {\"thread_id\": \"1\", \"checkpoint_id\": \"1f06e318-74ad-68dc-8002-30622f95d833\"}})"
   ]
  },
  {
   "cell_type": "code",
   "execution_count": 27,
   "id": "b3bfd957",
   "metadata": {},
   "outputs": [
    {
     "data": {
      "text/plain": [
       "[StateSnapshot(values={'topic': 'samosa', 'joke': \"I was going to tell you a joke about pizza, but it's a little too cheesy.\", 'explanation': 'Of course! Here is an explanation of the joke.\\n\\nThe humor in this joke comes from a **pun**, which is a play on a word that has two different meanings. The key word here is **\"cheesy.\"**\\n\\nLet\\'s break down the two meanings of \"cheesy\" used in the joke:\\n\\n1.  **Literal Meaning:** Covered in or relating to cheese. Pizza is famously topped with a lot of melted cheese, so a joke about pizza could literally be described as \"cheesy.\"\\n\\n2.  **Figurative/Idiomatic Meaning:** \"Cheesy\" is also a common slang term used to describe something that is silly, unoriginal, lame, or trying too hard to be funny or sentimental. A \"cheesy joke\" is another term for a dad joke or a groan-worthy pun.\\n\\n### How the Joke Works:\\n\\nThe speaker sets you up to expect a standard joke about pizza. But instead of telling one, they use the excuse that the joke is \"too cheesy.\"\\n\\n*   You initially interpret \"cheesy\" in its figurative sense, thinking the speaker means the joke is **lame or silly**.\\n*   Almost immediately, your brain makes the connection to the literal meaning: the joke is about pizza, and pizza is **covered in cheese**.\\n\\nThe punchline is that the statement itself *is* the cheesy pizza joke. It cleverly uses both meanings of the word at the same time.\\n\\n**In short: The speaker pretends they won\\'t tell you a lame joke about pizza, but in doing so, they tell you a very clever (and cheesy) one.**'}, next=(), config={'configurable': {'thread_id': '1', 'checkpoint_ns': '', 'checkpoint_id': '1f06e31d-2d88-615e-8003-90bbae036b76'}}, metadata={'source': 'loop', 'writes': {'generate_explanation': {'explanation': 'Of course! Here is an explanation of the joke.\\n\\nThe humor in this joke comes from a **pun**, which is a play on a word that has two different meanings. The key word here is **\"cheesy.\"**\\n\\nLet\\'s break down the two meanings of \"cheesy\" used in the joke:\\n\\n1.  **Literal Meaning:** Covered in or relating to cheese. Pizza is famously topped with a lot of melted cheese, so a joke about pizza could literally be described as \"cheesy.\"\\n\\n2.  **Figurative/Idiomatic Meaning:** \"Cheesy\" is also a common slang term used to describe something that is silly, unoriginal, lame, or trying too hard to be funny or sentimental. A \"cheesy joke\" is another term for a dad joke or a groan-worthy pun.\\n\\n### How the Joke Works:\\n\\nThe speaker sets you up to expect a standard joke about pizza. But instead of telling one, they use the excuse that the joke is \"too cheesy.\"\\n\\n*   You initially interpret \"cheesy\" in its figurative sense, thinking the speaker means the joke is **lame or silly**.\\n*   Almost immediately, your brain makes the connection to the literal meaning: the joke is about pizza, and pizza is **covered in cheese**.\\n\\nThe punchline is that the statement itself *is* the cheesy pizza joke. It cleverly uses both meanings of the word at the same time.\\n\\n**In short: The speaker pretends they won\\'t tell you a lame joke about pizza, but in doing so, they tell you a very clever (and cheesy) one.**'}}, 'thread_id': '1', 'checkpoint_id': '1f06e318-74ad-68dc-8002-30622f95d833', 'step': 3, 'parents': {}}, created_at='2025-07-31T17:14:31.834249+00:00', parent_config={'configurable': {'thread_id': '1', 'checkpoint_ns': '', 'checkpoint_id': '1f06e318-74ad-68dc-8002-30622f95d833'}}, tasks=()),\n",
       " StateSnapshot(values={'topic': 'samosa', 'joke': \"I was going to tell you a joke about pizza, but it's a little too cheesy.\"}, next=('generate_explanation',), config={'configurable': {'thread_id': '1', 'checkpoint_ns': '', 'checkpoint_id': '1f06e318-74ad-68dc-8002-30622f95d833'}}, metadata={'source': 'update', 'writes': {'generate_joke': {'topic': 'samosa'}}, 'thread_id': '1', 'step': 2, 'parents': {}, 'checkpoint_id': '1f06e2fe-1447-6117-8001-436414e66aaa', 'checkpoint_ns': ''}, created_at='2025-07-31T17:12:25.076758+00:00', parent_config={'configurable': {'thread_id': '1', 'checkpoint_ns': '', 'checkpoint_id': '1f06e2fe-1447-6117-8001-436414e66aaa'}}, tasks=(PregelTask(id='ce5b936a-f340-987b-c4e1-4df6362fbb66', name='generate_explanation', path=('__pregel_pull', 'generate_explanation'), error=None, interrupts=(), state=None, result={'explanation': 'Of course! Here is an explanation of the joke.\\n\\nThe humor in this joke comes from a **pun**, which is a play on a word that has two different meanings. The key word here is **\"cheesy.\"**\\n\\nLet\\'s break down the two meanings of \"cheesy\" used in the joke:\\n\\n1.  **Literal Meaning:** Covered in or relating to cheese. Pizza is famously topped with a lot of melted cheese, so a joke about pizza could literally be described as \"cheesy.\"\\n\\n2.  **Figurative/Idiomatic Meaning:** \"Cheesy\" is also a common slang term used to describe something that is silly, unoriginal, lame, or trying too hard to be funny or sentimental. A \"cheesy joke\" is another term for a dad joke or a groan-worthy pun.\\n\\n### How the Joke Works:\\n\\nThe speaker sets you up to expect a standard joke about pizza. But instead of telling one, they use the excuse that the joke is \"too cheesy.\"\\n\\n*   You initially interpret \"cheesy\" in its figurative sense, thinking the speaker means the joke is **lame or silly**.\\n*   Almost immediately, your brain makes the connection to the literal meaning: the joke is about pizza, and pizza is **covered in cheese**.\\n\\nThe punchline is that the statement itself *is* the cheesy pizza joke. It cleverly uses both meanings of the word at the same time.\\n\\n**In short: The speaker pretends they won\\'t tell you a lame joke about pizza, but in doing so, they tell you a very clever (and cheesy) one.**'}),)),\n",
       " StateSnapshot(values={'topic': 'pizza', 'joke': \"I was going to tell you a joke about pizza, but it's a little too cheesy.\", 'explanation': 'Of course! Here is a breakdown of the joke.\\n\\nThe humor in this joke comes from a **pun**, which is a play on words. The key word here is **\"cheesy.\"** It has two different meanings that are being used at the same time.\\n\\nHere are the two meanings:\\n\\n1.  **Literal Meaning:** Something is literally covered in or made of cheese. Pizza is famously topped with a lot of melted cheese, so it is a very \"cheesy\" food.\\n\\n2.  **Figurative/Idiomatic Meaning:** When you describe a joke, a movie, or a song as \"cheesy,\" you mean it\\'s silly, corny, unoriginal, or trying too hard to be funny or sentimental. It\\'s often used to describe a bad or groan-worthy joke.\\n\\n### How the Joke Works:\\n\\nThe joke sets you up to expect a story or a riddle about pizza. But instead of telling one, the speaker uses the excuse that the joke is \"too cheesy.\"\\n\\n*   You first think of the **literal meaning**: \"Of course, a joke about pizza would be cheesy, because pizza has cheese.\"\\n*   Then you realize the speaker is also using the **figurative meaning**: They are calling the joke they decided not to tell \"corny\" or \"lame.\"\\n\\nThe punchline is that the statement itself **is** the cheesy joke. By refusing to tell a cheesy pizza joke, the speaker has, in fact, just told one. It\\'s a simple, self-aware pun that plays on the listener\\'s expectations.'}, next=(), config={'configurable': {'thread_id': '1', 'checkpoint_ns': '', 'checkpoint_id': '1f06e311-fa66-6ea7-8002-367da51f1e55'}}, metadata={'source': 'loop', 'writes': {'generate_explanation': {'explanation': 'Of course! Here is a breakdown of the joke.\\n\\nThe humor in this joke comes from a **pun**, which is a play on words. The key word here is **\"cheesy.\"** It has two different meanings that are being used at the same time.\\n\\nHere are the two meanings:\\n\\n1.  **Literal Meaning:** Something is literally covered in or made of cheese. Pizza is famously topped with a lot of melted cheese, so it is a very \"cheesy\" food.\\n\\n2.  **Figurative/Idiomatic Meaning:** When you describe a joke, a movie, or a song as \"cheesy,\" you mean it\\'s silly, corny, unoriginal, or trying too hard to be funny or sentimental. It\\'s often used to describe a bad or groan-worthy joke.\\n\\n### How the Joke Works:\\n\\nThe joke sets you up to expect a story or a riddle about pizza. But instead of telling one, the speaker uses the excuse that the joke is \"too cheesy.\"\\n\\n*   You first think of the **literal meaning**: \"Of course, a joke about pizza would be cheesy, because pizza has cheese.\"\\n*   Then you realize the speaker is also using the **figurative meaning**: They are calling the joke they decided not to tell \"corny\" or \"lame.\"\\n\\nThe punchline is that the statement itself **is** the cheesy joke. By refusing to tell a cheesy pizza joke, the speaker has, in fact, just told one. It\\'s a simple, self-aware pun that plays on the listener\\'s expectations.'}}, 'thread_id': '1', 'checkpoint_id': '1f06e2fe-1447-6117-8001-436414e66aaa', 'step': 2, 'parents': {}}, created_at='2025-07-31T17:09:31.193923+00:00', parent_config={'configurable': {'thread_id': '1', 'checkpoint_ns': '', 'checkpoint_id': '1f06e2fe-1447-6117-8001-436414e66aaa'}}, tasks=()),\n",
       " StateSnapshot(values={'topic': 'pizza', 'joke': \"I was going to tell you a joke about pizza, but it's a little too cheesy.\", 'explanation': 'Of course! Here is an explanation for the joke.\\n\\nThe humor in this joke comes from a play on words, specifically the double meaning of the word **\"cheesy.\"**\\n\\nHere are the two meanings at play:\\n\\n1.  **Literal Meaning:** Something is \"cheesy\" if it is made of or covered in cheese. Pizza is famously topped with a lot of cheese.\\n\\n2.  **Figurative Meaning:** A joke, movie, or story is \"cheesy\" if it is corny, silly, unoriginal, or trying too hard to be funny or sentimental. It\\'s often a joke that makes you groan.\\n\\n**How the Joke Works:**\\n\\nThe speaker sets you up to hear a joke *about* pizza. But then, they use the excuse that the joke is \"too cheesy.\"\\n\\n*   On one level, they are saying the joke is **corny and silly** (the figurative meaning).\\n*   On another level, the excuse itself is a perfect pun because the subject, pizza, is literally **covered in cheese** (the literal meaning).\\n\\nIn essence, the punchline *is* the joke. The excuse for not telling the joke is the cheesy pizza joke itself.'}, next=(), config={'configurable': {'thread_id': '1', 'checkpoint_ns': '', 'checkpoint_id': '1f06e2fe-b1e6-6853-8002-e136f1de1bc1'}}, metadata={'source': 'loop', 'writes': {'generate_explanation': {'explanation': 'Of course! Here is an explanation for the joke.\\n\\nThe humor in this joke comes from a play on words, specifically the double meaning of the word **\"cheesy.\"**\\n\\nHere are the two meanings at play:\\n\\n1.  **Literal Meaning:** Something is \"cheesy\" if it is made of or covered in cheese. Pizza is famously topped with a lot of cheese.\\n\\n2.  **Figurative Meaning:** A joke, movie, or story is \"cheesy\" if it is corny, silly, unoriginal, or trying too hard to be funny or sentimental. It\\'s often a joke that makes you groan.\\n\\n**How the Joke Works:**\\n\\nThe speaker sets you up to hear a joke *about* pizza. But then, they use the excuse that the joke is \"too cheesy.\"\\n\\n*   On one level, they are saying the joke is **corny and silly** (the figurative meaning).\\n*   On another level, the excuse itself is a perfect pun because the subject, pizza, is literally **covered in cheese** (the literal meaning).\\n\\nIn essence, the punchline *is* the joke. The excuse for not telling the joke is the cheesy pizza joke itself.'}}, 'thread_id': '1', 'step': 2, 'parents': {}}, created_at='2025-07-31T17:00:53.564219+00:00', parent_config={'configurable': {'thread_id': '1', 'checkpoint_ns': '', 'checkpoint_id': '1f06e2fe-1447-6117-8001-436414e66aaa'}}, tasks=()),\n",
       " StateSnapshot(values={'topic': 'pizza', 'joke': \"I was going to tell you a joke about pizza, but it's a little too cheesy.\"}, next=('generate_explanation',), config={'configurable': {'thread_id': '1', 'checkpoint_ns': '', 'checkpoint_id': '1f06e2fe-1447-6117-8001-436414e66aaa'}}, metadata={'source': 'loop', 'writes': {'generate_joke': {'joke': \"I was going to tell you a joke about pizza, but it's a little too cheesy.\"}}, 'thread_id': '1', 'step': 1, 'parents': {}}, created_at='2025-07-31T17:00:37.036264+00:00', parent_config={'configurable': {'thread_id': '1', 'checkpoint_ns': '', 'checkpoint_id': '1f06e2fd-4aad-6d45-8000-de8e845f7398'}}, tasks=(PregelTask(id='1c35a21b-27ef-c779-ade1-80a737067ce6', name='generate_explanation', path=('__pregel_pull', 'generate_explanation'), error=None, interrupts=(), state=None, result={'explanation': 'Of course! Here is an explanation for the joke.\\n\\nThe humor in this joke comes from a play on words, specifically the double meaning of the word **\"cheesy.\"**\\n\\nHere are the two meanings at play:\\n\\n1.  **Literal Meaning:** Something is \"cheesy\" if it is made of or covered in cheese. Pizza is famously topped with a lot of cheese.\\n\\n2.  **Figurative Meaning:** A joke, movie, or story is \"cheesy\" if it is corny, silly, unoriginal, or trying too hard to be funny or sentimental. It\\'s often a joke that makes you groan.\\n\\n**How the Joke Works:**\\n\\nThe speaker sets you up to hear a joke *about* pizza. But then, they use the excuse that the joke is \"too cheesy.\"\\n\\n*   On one level, they are saying the joke is **corny and silly** (the figurative meaning).\\n*   On another level, the excuse itself is a perfect pun because the subject, pizza, is literally **covered in cheese** (the literal meaning).\\n\\nIn essence, the punchline *is* the joke. The excuse for not telling the joke is the cheesy pizza joke itself.'}),)),\n",
       " StateSnapshot(values={'topic': 'pizza'}, next=('generate_joke',), config={'configurable': {'thread_id': '1', 'checkpoint_ns': '', 'checkpoint_id': '1f06e2fd-4aad-6d45-8000-de8e845f7398'}}, metadata={'source': 'loop', 'writes': None, 'thread_id': '1', 'step': 0, 'parents': {}}, created_at='2025-07-31T17:00:15.897120+00:00', parent_config={'configurable': {'thread_id': '1', 'checkpoint_ns': '', 'checkpoint_id': '1f06e2fd-4a8e-66b9-bfff-3c88a246b0fe'}}, tasks=(PregelTask(id='f46effeb-0887-6d95-3432-02b24d15d3c3', name='generate_joke', path=('__pregel_pull', 'generate_joke'), error=None, interrupts=(), state=None, result={'joke': \"I was going to tell you a joke about pizza, but it's a little too cheesy.\"}),)),\n",
       " StateSnapshot(values={}, next=('__start__',), config={'configurable': {'thread_id': '1', 'checkpoint_ns': '', 'checkpoint_id': '1f06e2fd-4a8e-66b9-bfff-3c88a246b0fe'}}, metadata={'source': 'input', 'writes': {'__start__': {'topic': 'pizza'}}, 'thread_id': '1', 'step': -1, 'parents': {}}, created_at='2025-07-31T17:00:15.884255+00:00', parent_config=None, tasks=(PregelTask(id='bf7a64a3-1cea-e080-1a27-f48ceb4af88f', name='__start__', path=('__pregel_pull', '__start__'), error=None, interrupts=(), state=None, result={'topic': 'pizza'}),))]"
      ]
     },
     "execution_count": 27,
     "metadata": {},
     "output_type": "execute_result"
    }
   ],
   "source": [
    "list(workflow.get_state_history(config1))"
   ]
  },
  {
   "cell_type": "markdown",
   "id": "46f30752",
   "metadata": {},
   "source": [
    "### **Fault Tolerance**"
   ]
  },
  {
   "cell_type": "code",
   "execution_count": 28,
   "id": "2bb15882",
   "metadata": {},
   "outputs": [],
   "source": [
    "from langgraph.graph import StateGraph, END\n",
    "from langgraph.checkpoint.memory import InMemorySaver\n",
    "from typing import TypedDict\n",
    "import time"
   ]
  },
  {
   "cell_type": "code",
   "execution_count": 29,
   "id": "0ddfa9dc",
   "metadata": {},
   "outputs": [],
   "source": [
    "# 1. Define the state\n",
    "class CrashState(TypedDict):\n",
    "    input: str\n",
    "    step1: str\n",
    "    step2: str"
   ]
  },
  {
   "cell_type": "code",
   "execution_count": null,
   "id": "7022d815",
   "metadata": {},
   "outputs": [],
   "source": [
    "# 2. Define steps\n",
    "def step_1(state: CrashState) -> CrashState:\n",
    "    print(\"✅ Step 1 executed\")\n",
    "    return {\"step1\": \"done\", \"input\": state[\"input\"]}\n",
    "\n",
    "def step_2(state: CrashState) -> CrashState:\n",
    "    print(\"⏳ Step 2 hanging... now manually interrupt from the notebook toolbar (STOP button)\")\n",
    "    time.sleep(1000)  # Simulate long-running hang\n",
    "    return {\"step2\": \"done\"}\n",
    "\n",
    "def step_3(state: CrashState) -> CrashState:\n",
    "    print(\"✅ Step 3 executed\")\n",
    "    return {\"done\": True}"
   ]
  },
  {
   "cell_type": "code",
   "execution_count": null,
   "id": "60fd530f",
   "metadata": {},
   "outputs": [],
   "source": [
    "# 3. Build the graph\n",
    "builder = StateGraph(CrashState)\n",
    "builder.add_node(\"step_1\", step_1)\n",
    "builder.add_node(\"step_2\", step_2)\n",
    "builder.add_node(\"step_3\", step_3)\n",
    "\n",
    "builder.set_entry_point(\"step_1\")\n",
    "builder.add_edge(\"step_1\", \"step_2\")\n",
    "builder.add_edge(\"step_2\", \"step_3\")\n",
    "builder.add_edge(\"step_3\", END)\n",
    "\n",
    "checkpointer = InMemorySaver()\n",
    "graph = builder.compile(checkpointer=checkpointer)"
   ]
  },
  {
   "cell_type": "code",
   "execution_count": 32,
   "id": "e87a05ca",
   "metadata": {},
   "outputs": [
    {
     "name": "stdout",
     "output_type": "stream",
     "text": [
      "▶️ Running graph: Please manually interrupt during Step 2...\n",
      "✅ Step 1 executed\n",
      "⏳ Step 2 hanging... now manually interrupt from the notebook toolbar (STOP button)\n",
      "✅ Step 3 executed\n"
     ]
    }
   ],
   "source": [
    "try:\n",
    "    print(\"▶️ Running graph: Please manually interrupt during Step 2...\")\n",
    "    graph.invoke({\"input\": \"start\"}, config={\"configurable\": {\"thread_id\": 'thread-1'}})\n",
    "except KeyboardInterrupt:\n",
    "    print(\"❌ Kernel manually interrupted (crash simulated).\")"
   ]
  },
  {
   "cell_type": "code",
   "execution_count": 33,
   "id": "c8f3b551",
   "metadata": {},
   "outputs": [
    {
     "name": "stdout",
     "output_type": "stream",
     "text": [
      "\n",
      "🔁 Re-running the graph to demonstrate fault tolerance...\n",
      "\n",
      "✅ Final State: {'input': 'start', 'step1': 'done', 'step2': 'done'}\n"
     ]
    }
   ],
   "source": [
    "# 6. Re-run to show fault-tolerant resume\n",
    "print(\"\\n🔁 Re-running the graph to demonstrate fault tolerance...\")\n",
    "final_state = graph.invoke(None, config={\"configurable\": {\"thread_id\": 'thread-1'}})\n",
    "print(\"\\n✅ Final State:\", final_state)"
   ]
  },
  {
   "cell_type": "code",
   "execution_count": 34,
   "id": "c8e7e383",
   "metadata": {},
   "outputs": [
    {
     "data": {
      "text/plain": [
       "[StateSnapshot(values={'input': 'start', 'step1': 'done', 'step2': 'done'}, next=(), config={'configurable': {'thread_id': 'thread-1', 'checkpoint_ns': '', 'checkpoint_id': '1f06e346-5935-6104-8003-f6b084ecd2f1'}}, metadata={'source': 'loop', 'writes': {'step_3': None}, 'thread_id': 'thread-1', 'step': 3, 'parents': {}}, created_at='2025-07-31T17:32:56.998060+00:00', parent_config={'configurable': {'thread_id': 'thread-1', 'checkpoint_ns': '', 'checkpoint_id': '1f06e346-58cd-6d66-8002-e323d85a0a4c'}}, tasks=()),\n",
       " StateSnapshot(values={'input': 'start', 'step1': 'done', 'step2': 'done'}, next=('step_3',), config={'configurable': {'thread_id': 'thread-1', 'checkpoint_ns': '', 'checkpoint_id': '1f06e346-58cd-6d66-8002-e323d85a0a4c'}}, metadata={'source': 'loop', 'writes': {'step_2': {'step2': 'done'}}, 'thread_id': 'thread-1', 'step': 2, 'parents': {}}, created_at='2025-07-31T17:32:56.955038+00:00', parent_config={'configurable': {'thread_id': 'thread-1', 'checkpoint_ns': '', 'checkpoint_id': '1f06e321-173d-6f96-8001-3b6a363cd404'}}, tasks=(PregelTask(id='e10ce937-c40b-099f-d661-f00d9305c5f1', name='step_3', path=('__pregel_pull', 'step_3'), error=None, interrupts=(), state=None, result={}),)),\n",
       " StateSnapshot(values={'input': 'start', 'step1': 'done'}, next=('step_2',), config={'configurable': {'thread_id': 'thread-1', 'checkpoint_ns': '', 'checkpoint_id': '1f06e321-173d-6f96-8001-3b6a363cd404'}}, metadata={'source': 'loop', 'writes': {'step_1': {'step1': 'done', 'input': 'start'}}, 'thread_id': 'thread-1', 'step': 1, 'parents': {}}, created_at='2025-07-31T17:16:16.871208+00:00', parent_config={'configurable': {'thread_id': 'thread-1', 'checkpoint_ns': '', 'checkpoint_id': '1f06e321-173b-6898-8000-676c536afb53'}}, tasks=(PregelTask(id='35210ebb-bcc3-58b8-69d0-ad5b1172e6a8', name='step_2', path=('__pregel_pull', 'step_2'), error=None, interrupts=(), state=None, result={'step2': 'done'}),)),\n",
       " StateSnapshot(values={'input': 'start'}, next=('step_1',), config={'configurable': {'thread_id': 'thread-1', 'checkpoint_ns': '', 'checkpoint_id': '1f06e321-173b-6898-8000-676c536afb53'}}, metadata={'source': 'loop', 'writes': None, 'thread_id': 'thread-1', 'step': 0, 'parents': {}}, created_at='2025-07-31T17:16:16.869213+00:00', parent_config={'configurable': {'thread_id': 'thread-1', 'checkpoint_ns': '', 'checkpoint_id': '1f06e321-172a-65a3-bfff-02398d55703f'}}, tasks=(PregelTask(id='fafcbc59-4236-bfcb-47ca-df583c94aae5', name='step_1', path=('__pregel_pull', 'step_1'), error=None, interrupts=(), state=None, result={'step1': 'done', 'input': 'start'}),)),\n",
       " StateSnapshot(values={}, next=('__start__',), config={'configurable': {'thread_id': 'thread-1', 'checkpoint_ns': '', 'checkpoint_id': '1f06e321-172a-65a3-bfff-02398d55703f'}}, metadata={'source': 'input', 'writes': {'__start__': {'input': 'start'}}, 'thread_id': 'thread-1', 'step': -1, 'parents': {}}, created_at='2025-07-31T17:16:16.863171+00:00', parent_config=None, tasks=(PregelTask(id='db2dd23b-851b-1c47-d745-1f26c5c6870f', name='__start__', path=('__pregel_pull', '__start__'), error=None, interrupts=(), state=None, result={'input': 'start'}),))]"
      ]
     },
     "execution_count": 34,
     "metadata": {},
     "output_type": "execute_result"
    }
   ],
   "source": [
    "list(graph.get_state_history({\"configurable\": {\"thread_id\": 'thread-1'}}))"
   ]
  }
 ],
 "metadata": {
  "kernelspec": {
   "display_name": "Python 3",
   "language": "python",
   "name": "python3"
  },
  "language_info": {
   "codemirror_mode": {
    "name": "ipython",
    "version": 3
   },
   "file_extension": ".py",
   "mimetype": "text/x-python",
   "name": "python",
   "nbconvert_exporter": "python",
   "pygments_lexer": "ipython3",
   "version": "3.11.9"
  }
 },
 "nbformat": 4,
 "nbformat_minor": 5
}
