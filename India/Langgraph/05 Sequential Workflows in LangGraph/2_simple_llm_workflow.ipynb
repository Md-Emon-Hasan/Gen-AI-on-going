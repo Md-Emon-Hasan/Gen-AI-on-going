{
 "cells": [
  {
   "cell_type": "code",
   "execution_count": 5,
   "id": "15ddb75d",
   "metadata": {},
   "outputs": [],
   "source": [
    "from langgraph.graph import StateGraph, START, END\n",
    "from typing import TypedDict\n",
    "from dotenv import load_dotenv\n",
    "import os"
   ]
  },
  {
   "cell_type": "code",
   "execution_count": 6,
   "id": "25cb4f53",
   "metadata": {},
   "outputs": [],
   "source": [
    "from langchain_google_genai import ChatGoogleGenerativeAI"
   ]
  },
  {
   "cell_type": "code",
   "execution_count": 7,
   "id": "b22cd95e",
   "metadata": {},
   "outputs": [
    {
     "data": {
      "text/plain": [
       "True"
      ]
     },
     "execution_count": 7,
     "metadata": {},
     "output_type": "execute_result"
    }
   ],
   "source": [
    "# Load your Gemini API key\n",
    "load_dotenv()"
   ]
  },
  {
   "cell_type": "code",
   "execution_count": 8,
   "id": "cb552997",
   "metadata": {},
   "outputs": [],
   "source": [
    "# Gemini Model Init\n",
    "model = ChatGoogleGenerativeAI(model=\"gemini-2.5-pro\")"
   ]
  },
  {
   "cell_type": "code",
   "execution_count": 9,
   "id": "ef2f4a6e",
   "metadata": {},
   "outputs": [],
   "source": [
    "# Define state\n",
    "class LLMState(TypedDict):\n",
    "    question: str\n",
    "    answer: str"
   ]
  },
  {
   "cell_type": "code",
   "execution_count": 10,
   "id": "79e3e1bb",
   "metadata": {},
   "outputs": [],
   "source": [
    "# Define QA logic\n",
    "def llm_qa(state: LLMState) -> LLMState:\n",
    "    question = state[\"question\"]\n",
    "    prompt = f\"Answer the following question: {question}\"\n",
    "    answer = model.invoke(prompt).content\n",
    "    state[\"answer\"] = answer\n",
    "    return state"
   ]
  },
  {
   "cell_type": "code",
   "execution_count": 11,
   "id": "68674430",
   "metadata": {},
   "outputs": [],
   "source": [
    "# Create LangGraph\n",
    "graph = StateGraph(LLMState)\n",
    "graph.add_node(\"llm_qa\", llm_qa)\n",
    "graph.add_edge(START, \"llm_qa\")\n",
    "graph.add_edge(\"llm_qa\", END)\n",
    "workflow = graph.compile()"
   ]
  },
  {
   "cell_type": "code",
   "execution_count": 12,
   "id": "acd0acbb",
   "metadata": {},
   "outputs": [],
   "source": [
    "# Input\n",
    "initial_state = {\"question\": \"How far is the moon from the Earth?\"}\n",
    "final_state = workflow.invoke(initial_state)"
   ]
  },
  {
   "cell_type": "code",
   "execution_count": 13,
   "id": "87da4fe2",
   "metadata": {},
   "outputs": [
    {
     "name": "stdout",
     "output_type": "stream",
     "text": [
      "['Excellent question! The answer is a bit more interesting than a single number, because the distance is constantly changing.\\n\\nHere’s the breakdown, from the simple answer to the more detailed explanation.\\n\\n### The Quick Answer\\n\\nThe average distance from the center of the Earth to the center of the Moon is **about 384,400 kilometers (238,900 miles)**.\\n\\nThis is the number most people use and is a great general-knowledge fact.\\n\\n---\\n\\n### The More Detailed Answer: An Elliptical Orbit\\n\\nThe Moon doesn\\'t orbit the Earth in a perfect circle; it travels in an ellipse (a slight oval). This means its distance from Earth varies throughout its orbit.\\n\\n*   **Perigee (Closest Point):** When the Moon is at its closest point to Earth, it is about **363,300 km (225,700 miles)** away. A full moon at perigee is often called a **\"Supermoon\"** because it can appear about 14% larger and 30% brighter than at its farthest point.\\n\\n*   **Apogee (Farthest Point):** When the Moon is at its farthest point from Earth, it is about **405,500 km (252,000 miles)** away. A full moon at apogee is sometimes called a **\"Micromoon.\"**', '\\n\\n---\\n\\n### Fun Facts and Perspective\\n\\n#### Is the Moon Moving?\\nYes! The Moon is slowly moving away from the Earth at a rate of about **3.8 centimeters (1.5 inches) per year**. This is roughly the same speed at which your fingernails grow. Scientists can measure this with incredible precision by firing lasers at retroreflectors left on the lunar surface by the Apollo astronauts.\\n\\n#### How Long Would It Take to Get There?\\n*   **By Car:** If you could drive a car at a constant 100 km/h (62 mph), it would take you about 160 days to reach the Moon.\\n*   **By Apollo Spacecraft:** The Apollo astronauts made the journey in about **3 days**.\\n\\n#### A Cosmic Perspective\\nTo give you a sense of the scale, at its average distance, you could **fit all the other planets in our solar system, side-by-side, in the space between the Earth and the Moon.**', '\\n\\n### Summary\\n\\n| Measurement              | Distance in Kilometers | Distance in Miles   |\\n| ------------------------ | ---------------------- | ------------------- |\\n| **Average Distance**     | **384,400 km**         | **238,900 mi**      |\\n| **Perigee (Closest)**    | ~363,300 km            | ~225,700 mi         |\\n| **Apogee (Farthest)**    | ~405,500 km            | ~252,000 mi         |']\n"
     ]
    }
   ],
   "source": [
    "print(final_state[\"answer\"])"
   ]
  },
  {
   "cell_type": "code",
   "execution_count": 14,
   "id": "be998f05",
   "metadata": {},
   "outputs": [
    {
     "data": {
      "text/plain": [
       "['Excellent question! The answer is a bit more interesting than a single number, because the distance is constantly changing.\\n\\nHere’s the breakdown, from the simple answer to the more detailed explanation.\\n\\n### The Quick Answer\\n\\nThe average distance from the center of the Earth to the center of the Moon is **about 384,400 kilometers (238,900 miles)**.\\n\\nThis is the number most people use and is a great general-knowledge fact.\\n\\n---\\n\\n### The More Detailed Answer: An Elliptical Orbit\\n\\nThe Moon doesn\\'t orbit the Earth in a perfect circle; it travels in an ellipse (a slight oval). This means its distance from Earth varies throughout its orbit.\\n\\n*   **Perigee (Closest Point):** When the Moon is at its closest point to Earth, it is about **363,300 km (225,700 miles)** away. A full moon at perigee is often called a **\"Supermoon\"** because it can appear about 14% larger and 30% brighter than at its farthest point.\\n\\n*   **Apogee (Farthest Point):** When the Moon is at its farthest point from Earth, it is about **405,500 km (252,000 miles)** away. A full moon at apogee is sometimes called a **\"Micromoon.\"**',\n",
       " '\\n\\n---\\n\\n### Fun Facts and Perspective\\n\\n#### Is the Moon Moving?\\nYes! The Moon is slowly moving away from the Earth at a rate of about **3.8 centimeters (1.5 inches) per year**. This is roughly the same speed at which your fingernails grow. Scientists can measure this with incredible precision by firing lasers at retroreflectors left on the lunar surface by the Apollo astronauts.\\n\\n#### How Long Would It Take to Get There?\\n*   **By Car:** If you could drive a car at a constant 100 km/h (62 mph), it would take you about 160 days to reach the Moon.\\n*   **By Apollo Spacecraft:** The Apollo astronauts made the journey in about **3 days**.\\n\\n#### A Cosmic Perspective\\nTo give you a sense of the scale, at its average distance, you could **fit all the other planets in our solar system, side-by-side, in the space between the Earth and the Moon.**',\n",
       " '\\n\\n### Summary\\n\\n| Measurement              | Distance in Kilometers | Distance in Miles   |\\n| ------------------------ | ---------------------- | ------------------- |\\n| **Average Distance**     | **384,400 km**         | **238,900 mi**      |\\n| **Perigee (Closest)**    | ~363,300 km            | ~225,700 mi         |\\n| **Apogee (Farthest)**    | ~405,500 km            | ~252,000 mi         |']"
      ]
     },
     "execution_count": 14,
     "metadata": {},
     "output_type": "execute_result"
    }
   ],
   "source": [
    "final_state[\"answer\"]"
   ]
  }
 ],
 "metadata": {
  "kernelspec": {
   "display_name": "Python 3",
   "language": "python",
   "name": "python3"
  },
  "language_info": {
   "codemirror_mode": {
    "name": "ipython",
    "version": 3
   },
   "file_extension": ".py",
   "mimetype": "text/x-python",
   "name": "python",
   "nbconvert_exporter": "python",
   "pygments_lexer": "ipython3",
   "version": "3.11.9"
  }
 },
 "nbformat": 4,
 "nbformat_minor": 5
}
