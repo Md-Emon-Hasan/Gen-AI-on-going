{
 "cells": [
  {
   "cell_type": "code",
   "execution_count": 1,
   "id": "b132dab3",
   "metadata": {},
   "outputs": [],
   "source": [
    "from langgraph.graph import StateGraph, START, END\n",
    "from typing import TypedDict\n",
    "from dotenv import load_dotenv"
   ]
  },
  {
   "cell_type": "code",
   "execution_count": 2,
   "id": "c3ba12f5",
   "metadata": {},
   "outputs": [
    {
     "name": "stderr",
     "output_type": "stream",
     "text": [
      "c:\\Users\\emon1\\AppData\\Local\\Programs\\Python\\Python311\\Lib\\site-packages\\tqdm\\auto.py:21: TqdmWarning: IProgress not found. Please update jupyter and ipywidgets. See https://ipywidgets.readthedocs.io/en/stable/user_install.html\n",
      "  from .autonotebook import tqdm as notebook_tqdm\n"
     ]
    }
   ],
   "source": [
    "from langchain_google_genai import ChatGoogleGenerativeAI"
   ]
  },
  {
   "cell_type": "code",
   "execution_count": 3,
   "id": "a3ef0a03",
   "metadata": {},
   "outputs": [
    {
     "data": {
      "text/plain": [
       "True"
      ]
     },
     "execution_count": 3,
     "metadata": {},
     "output_type": "execute_result"
    }
   ],
   "source": [
    "# Load your Gemini API key\n",
    "load_dotenv()"
   ]
  },
  {
   "cell_type": "code",
   "execution_count": 10,
   "id": "3d1d98a8",
   "metadata": {},
   "outputs": [],
   "source": [
    "# Gemini Model Init\n",
    "model = ChatGoogleGenerativeAI(model=\"gemini-2.5-pro\")"
   ]
  },
  {
   "cell_type": "code",
   "execution_count": 11,
   "id": "ecc1cb21",
   "metadata": {},
   "outputs": [],
   "source": [
    "class BlogState(TypedDict):\n",
    "\n",
    "    title: str\n",
    "    outline: str\n",
    "    content: str"
   ]
  },
  {
   "cell_type": "code",
   "execution_count": 12,
   "id": "88f260b1",
   "metadata": {},
   "outputs": [],
   "source": [
    "def create_outline(state: BlogState) -> BlogState:\n",
    "\n",
    "    # fetch title\n",
    "    title = state['title']\n",
    "\n",
    "    # call llm gen outline\n",
    "    prompt = f'Generate a detailed outline for a blog on the topic - {title}'\n",
    "    outline = model.invoke(prompt).content\n",
    "\n",
    "    # update state\n",
    "    state['outline'] = outline\n",
    "\n",
    "    return state"
   ]
  },
  {
   "cell_type": "code",
   "execution_count": 13,
   "id": "dfb01ae4",
   "metadata": {},
   "outputs": [],
   "source": [
    "def create_blog(state: BlogState) -> BlogState:\n",
    "\n",
    "    title = state['title']\n",
    "    outline = state['outline']\n",
    "\n",
    "    prompt = f'Write a detailed blog on the title - {title} using the follwing outline \\n {outline}'\n",
    "\n",
    "    content = model.invoke(prompt).content\n",
    "\n",
    "    state['content'] = content\n",
    "\n",
    "    return state"
   ]
  },
  {
   "cell_type": "code",
   "execution_count": 14,
   "id": "e2f72237",
   "metadata": {},
   "outputs": [],
   "source": [
    "graph = StateGraph(BlogState)\n",
    "\n",
    "# nodes\n",
    "graph.add_node('create_outline', create_outline)\n",
    "graph.add_node('create_blog', create_blog)\n",
    "\n",
    "# edges\n",
    "graph.add_edge(START, 'create_outline')\n",
    "graph.add_edge('create_outline', 'create_blog')\n",
    "graph.add_edge('create_blog', END)\n",
    "\n",
    "workflow = graph.compile()"
   ]
  },
  {
   "cell_type": "code",
   "execution_count": 15,
   "id": "0cf2b18e",
   "metadata": {},
   "outputs": [
    {
     "name": "stdout",
     "output_type": "stream",
     "text": [
      "{'title': 'Rise of AI in India', 'outline': 'Of course! Here is a detailed outline for a comprehensive blog post on the topic \"The Rise of AI in India.\" This structure is designed to be logical, engaging, and informative for a wide audience, from tech enthusiasts to business leaders.\\n\\n---\\n\\n### **Blog Post Outline: India\\'s AI Ascent: From Potential to Global Powerhouse**\\n\\n**Title Options (Choose one or create a variation):**\\n*   India\\'s AI Ascent: From Potential to Global Powerhouse\\n*   Decoding the AI Revolution in India: Drivers, Impact, and the Road Ahead\\n*   The Rise of AI in India: How a Nation is Building its Tech Future\\n*   AI in India: The Perfect Storm of Data, Talent, and Ambition\\n\\n---\\n\\n### **1. Introduction: The Dawn of an AI Superpower**\\n\\n*   **Hook:** Start with a powerful statistic or a compelling anecdote.\\n    *   *Example:* \"In a country that generates more data daily than many nations do in a year, a new revolution is brewing. It\\'s not driven by industry or agriculture, but by algorithms. This is the story of India\\'s artificial intelligence boom.\"\\n*   **Thesis Statement:** State the blog\\'s core message. India is no longer just a back-office for the world\\'s tech needs but is rapidly emerging as a hub for AI innovation, development, and implementation.\\n*   **Roadmap:** Briefly outline what the article will cover: the key drivers behind this rise, the sectors being transformed, the major players, the challenges ahead, and a look into the future.\\n\\n---\\n\\n### **2. The Tipping Point: Why AI is Booming in India *Now***\\n\\n*(This section explains the foundational pillars enabling the AI surge.)*\\n\\n*   **2.1 The Data Deluge: The \"Jio Effect\" and Beyond**\\n    *   Explain how the proliferation of cheap mobile data (led by Reliance Jio) created a massive, digitally-active population.\\n    *   Mention the India Stack: Aadhaar (biometric ID), UPI (payments), and other digital public goods that generate vast, structured datasets.\\n*   **2.2 A Thriving Talent Pool**\\n    *   India\\'s demographic dividend: A young population with a strong focus on STEM education.\\n    *   Home to world-class engineering institutions (IITs, NITs, IIITs) that are now integrating AI/ML into their curriculum.\\n    *   The shift of the IT workforce from traditional services to high-value AI and data science roles.\\n*   **2.3 Government & Policy Push**\\n    *   Mention key government initiatives: \"Digital India,\" \"Make in India.\"\\n    *   Specifically discuss the **National Strategy for Artificial Intelligence (NITI Aayog)** and its \"AI for All\" vision.\\n    *   Reference the **IndiaAI Mission** with its focus on building domestic compute infrastructure, datasets, and AI applications.\\n*   **2.4 A Vibrant Startup Ecosystem & VC Funding**\\n    *   Highlight cities like Bengaluru, Hyderabad, and Gurugram as AI startup hubs.\\n    *   Mention the increasing flow of venture capital into Indian AI startups.\\n    *   Briefly touch upon the supportive role of incubators and accelerators.\\n\\n---\\n\\n### **3. AI in Action: Transforming Key Indian Sectors**\\n\\n*(This section provides concrete, real-world examples of AI\\'s impact.)*\\n\\n*   **3.1 Healthcare: Reaching the Unreachable**\\n    *   **Use Case:** AI-powered diagnostics for detecting diseases like diabetic retinopathy or tuberculosis from medical images, especially in rural areas.\\n    *   **Example Company:** Niramai (using thermal imaging and AI for early-stage breast cancer detection).\\n*   **3.2 Finance (FinTech): Securing and Democratizing Finance**\\n    *   **Use Case:** AI algorithms for fraud detection in the UPI ecosystem, credit scoring for the \"new to credit\" population, and personalized financial advice.\\n    *   **Example:** FinTechs like Razorpay or Zerodha using AI for risk management and user experience.\\n*   **3.3 Agriculture (AgriTech): The Smart Farming Revolution**\\n    *   **Use Case:** Drones and satellite imagery with AI for crop monitoring, soil health analysis, and yield prediction.\\n    *   **Example:** Startups like CropIn providing farm management solutions to increase efficiency.\\n*   **3.4 E-commerce & Retail: The Hyper-Personalization Engine**\\n    *   **Use Case:** Recommendation engines, supply chain optimization, and chatbot-driven customer service.\\n    *   **Example:** Flipkart and Myntra\\'s use of AI to personalize the shopping experience.\\n*   **3.5 Language & Communication: Breaking the Barrier**\\n    *   **Use Case:** The development of AI models for India\\'s diverse languages (Natural Language Processing - NLP).\\n    *   **Example:** Projects like **Bhashini** aim to provide language translation and voice-based internet access in local Indian languages.\\n\\n---\\n\\n### **4. The Architects of India\\'s AI Future: The Key Players**\\n\\n*(This section identifies who is driving the change.)*\\n\\n*   **4.1 Homegrown Startups:** The agile innovators (e.g., Haptik for conversational AI, Locus for logistics AI, GreyOrange for robotics).\\n*   **4.2 Global Tech Giants (MNCs):** Google, Microsoft, Amazon, IBM setting up massive R&D and AI centers in India (e.g., Google Research India in Bengaluru).\\n*   **4.3 IT Services Behemoths:** TCS, Infosys, Wipro, and HCL Tech pivoting from traditional IT to offering large-scale AI solutions and consulting for global clients.\\n*   **4.4 Academia & Research Institutions:** IITs, IISc Bengaluru, and IIIT Hyderabad leading fundamental research and producing top-tier talent.\\n*   **4.5 Government & Policy Bodies:** NITI Aayog, MeitY (Ministry of Electronics and IT), and NASSCOM shaping the strategic direction.\\n\\n---\\n\\n### **5. Navigating the Hurdles: Challenges on the Road Ahead**\\n\\n*(A balanced perspective is crucial. This section discusses the obstacles.)*\\n\\n*   **5.1 Data Privacy and Governance:** The challenge of using data responsibly, with reference to the Digital Personal Data Protection Act.\\n*   **5.2 The Skill Gap:** The difference between having a large engineering pool and having enough specialized AI/ML experts. The need for continuous upskilling.\\n*   **5.3 Infrastructure Disparity:** The urban-rural divide in high-speed internet and access to compute resources.\\n*   **5.4 Ethical Concerns & Algorithmic Bias:** Ensuring AI models are fair and unbiased in a country with immense diversity (linguistic, cultural, socio-economic).\\n*   **5.5 Lack of High-Quality Datasets:** The need for more curated, labeled, and high-quality datasets, especially for Indic languages and contexts.\\n\\n---\\n\\n### **6. The Vision: What\\'s Next for AI in India?**\\n\\n*(This section looks to the future and offers a forward-looking perspective.)*\\n\\n*   **6.1 Building Sovereign AI Capability:** The push for \"Make AI in India\" – developing indigenous Large Language Models (LLMs) and foundational models.\\n*   **6.2 AI for Social Good (AI4SG):** Leveraging AI to solve uniquely Indian challenges like public health, water management, and improving agricultural productivity.\\n*   **6.3 The Generative AI Wave:** How Indian businesses and developers will adopt and innovate on top of generative AI for content creation, software development, and more.\\n*   **6.4 Becoming a Global AI Talent Hub:** Moving beyond being an implementation hub to becoming a source of global AI leadership and innovation.\\n\\n---\\n\\n### **7. Conclusion: A New Chapter in India\\'s Tech Story**\\n\\n*   **Summary of Key Points:** Briefly reiterate the main arguments – the confluence of data, talent, and policy has put India on a fast track to becoming an AI leader.\\n*   **Final Thought-Provoking Statement:** End on a powerful note. \"The rise of AI in India is not just a technological shift; it\\'s a socio-economic transformation with the potential to empower over a billion people. The journey has just begun, and the world is watching.\"\\n*   **Call to Action (CTA):** Encourage reader engagement.\\n    *   *Example:* \"What do you think is the biggest opportunity or challenge for AI in India? Share your thoughts in the comments below!\"', 'content': 'Of course! Here is a detailed blog post crafted from the provided outline.\\n\\n---\\n\\n## India\\'s AI Ascent: From Potential to Global Powerhouse\\n\\nIn a country that generates more data daily than many nations do in a year, a new revolution is brewing. It\\'s not driven by industry or agriculture in the traditional sense, but by algorithms, data, and computational power. This is the story of India\\'s artificial intelligence boom—a transformation that is quietly reshaping every facet of its economy and society.\\n\\nFor years, India has been the world\\'s back-office, the engine room for global IT services. But the narrative is shifting. India is no longer just a hub for implementation but is rapidly emerging as a crucible for AI innovation, development, and groundbreaking application.\\n\\nThis article dives deep into the rise of AI in India. We will explore the key drivers fueling this surge, the sectors being radically transformed, the architects building this new future, the challenges that lie on the road ahead, and what the future holds for this emerging AI superpower.\\n\\n### The Tipping Point: Why AI is Booming in India *Now*\\n\\nThe current AI explosion isn\\'t a sudden event; it\\'s the result of a perfect storm of converging factors that have created an unprecedented tipping point.\\n\\n#### 1. The Data Deluge: The \"Jio Effect\" and Beyond\\n\\nAt the heart of any AI revolution is data, and India has it in abundance. The catalyst was the **\"Jio Effect\"**—the launch of Reliance Jio in 2016, which crashed mobile data prices and brought hundreds of millions of Indians online for the first time. This created a colossal, digitally-active population.\\n\\nThis raw data is given structure by the **India Stack**, a set of revolutionary digital public goods. This includes:\\n*   **Aadhaar:** A biometric identity system for over 1.3 billion people.\\n*   **UPI (Unified Payments Interface):** A real-time payment system that processes billions of transactions monthly.\\n*   **DigiLocker, eSign, and others:** Platforms that digitize documents and consent.\\n\\nTogether, these systems generate vast, structured datasets that are the lifeblood of modern AI models.\\n\\n#### 2. A Thriving Talent Pool\\n\\nIndia\\'s greatest asset is its human capital. The nation\\'s demographic dividend provides a young, ambitious population with a strong inclination towards STEM (Science, Technology, Engineering, and Mathematics) education. World-class institutions like the **IITs (Indian Institutes of Technology), NITs (National Institutes of Technology), and IIITs (Indian Institutes of Information Technology)** are now aggressively integrating AI and Machine Learning into their curricula, producing a steady stream of skilled graduates.\\n\\nFurthermore, India’s massive IT workforce, seasoned by decades of serving global clients, is rapidly upskilling, pivoting from traditional IT services to high-value roles in data science, AI engineering, and ML operations.\\n\\n#### 3. Government & Policy Push\\n\\nThe Indian government has recognized AI as a strategic priority. Initiatives like **\"Digital India\"** and **\"Make in India\"** laid the groundwork. More specifically, the **National Strategy for Artificial Intelligence**, published by NITI Aayog, outlined a vision of **\"AI for All,\"** focusing on inclusive growth and social empowerment.\\n\\nBuilding on this, the government has launched the ambitious **IndiaAI Mission**. This mission is focused on creating a robust ecosystem by building domestic compute infrastructure (supercomputers and data centers), curating large-scale datasets, and fostering the development of foundational AI models tailored for India.\\n\\n#### 4. A Vibrant Startup Ecosystem & VC Funding\\n\\nCities like **Bengaluru, Hyderabad, and Gurugram** have become bustling hubs for AI startups. A dynamic ecosystem of incubators, accelerators, and a growing influx of venture capital is fueling innovation. VCs are increasingly confident in backing Indian AI startups that are solving both local and global problems, turning bold ideas into viable businesses.\\n\\n### AI in Action: Transforming Key Indian Sectors\\n\\nThe impact of AI is no longer theoretical. It is delivering tangible results across India\\'s most critical sectors.\\n\\n*   **Healthcare: Reaching the Unreachable**\\n    In a country with a low doctor-to-patient ratio, AI is a force multiplier. AI-powered diagnostic tools are helping detect diseases like diabetic retinopathy and tuberculosis from medical images, often with higher accuracy and speed than human specialists. A standout example is **Niramai**, a startup using thermal imaging and AI for early-stage, non-invasive breast cancer detection, taking healthcare to remote corners of the country.\\n\\n*   **Finance (FinTech): Securing and Democratizing Finance**\\n    The UPI ecosystem is a marvel of modern finance, and AI is its silent guardian. AI algorithms work in real-time to detect fraudulent transactions, securing billions of dollars. FinTechs are also using AI to create sophisticated credit scoring models for the \"new to credit\" population, bringing millions into the formal financial fold. Companies like **Razorpay** and **Zerodha** leverage AI extensively for risk management, customer support, and creating a seamless user experience.\\n\\n*   **Agriculture (AgriTech): The Smart Farming Revolution**\\n    AI is bringing precision to Indian agriculture. Startups like **CropIn** use satellite imagery, drones, and AI-powered analytics to provide farmers with insights on crop health, soil conditions, and pest infestations. This \"smart farming\" approach helps increase yields, reduce waste, and improve the livelihoods of millions of farmers.\\n\\n*   **E-commerce & Retail: The Hyper-Personalization Engine**\\n    Giants like **Flipkart** and **Myntra** use sophisticated AI models to power their recommendation engines, creating a hyper-personalized shopping experience for millions of users. Beyond recommendations, AI optimizes every step of the process, from supply chain management and inventory forecasting to chatbot-driven customer service.\\n\\n*   **Language & Communication: Breaking the Barrier**\\n    In a nation with 22 official languages and hundreds of dialects, language is a significant barrier. AI, specifically Natural Language Processing (NLP), is breaking it down. The government\\'s flagship **Bhashini** project aims to build a national public digital platform for languages, enabling real-time translation and voice-based access to the internet for every Indian in their native tongue.\\n\\n### The Architects of India\\'s AI Future: The Key Players\\n\\nThis transformation is being led by a diverse set of players, each contributing a crucial piece to the puzzle.\\n\\n1.  **Homegrown Startups:** Agile and innovative, companies like **Haptik** (conversational AI), **Locus** (logistics optimization AI), and **GreyOrange** (warehouse robotics) are creating world-class products from India.\\n2.  **Global Tech Giants (MNCs):** Google, Microsoft, Amazon, and IBM have established massive R&D and AI centers in India, such as **Google Research India** in Bengaluru, tapping into the local talent to build global solutions.\\n3.  **IT Services Behemoths:** Legacy giants like **TCS, Infosys, Wipro, and HCL Tech** are undergoing a massive pivot. They are retraining their vast workforces and building dedicated AI practices to offer large-scale AI consulting and implementation services to their global clientele.\\n4.  **Academia & Research Institutions:** Premier institutions like the **IITs, IISc Bengaluru, and IIIT Hyderabad** are the bedrock of this revolution, conducting fundamental research and, most importantly, producing the next generation of AI leaders.\\n5.  **Government & Policy Bodies:** **NITI Aayog, MeitY (Ministry of Electronics and IT), and NASSCOM** are shaping the strategic direction, creating policies, and fostering a collaborative ecosystem.\\n\\n### Navigating the Hurdles: Challenges on the Road Ahead\\n\\nThe path to becoming an AI powerhouse is not without its obstacles. India must navigate several critical challenges:\\n\\n*   **Data Privacy and Governance:** Using vast amounts of personal data responsibly is paramount. The effective implementation and evolution of the **Digital Personal Data Protection Act** will be crucial in building trust.\\n*   **The Skill Gap:** While India has a large pool of engineers, there is a shortage of *specialized* AI/ML experts. A massive, continuous effort in upskilling and reskilling is needed to bridge this gap.\\n*   **Infrastructure Disparity:** The urban-rural divide in access to high-speed internet and high-performance computing resources remains a significant hurdle to ensuring that the benefits of AI are distributed equitably.\\n*   **Ethical Concerns & Algorithmic Bias:** In a country of immense linguistic, cultural, and socio-economic diversity, ensuring that AI models are fair, transparent, and unbiased is a monumental challenge that requires careful design and regulation.\\n*   **Lack of High-Quality Datasets:** While data is plentiful, high-quality, labeled, and curated datasets—especially for diverse Indian languages and contexts—are still scarce, which can be a bottleneck for developing sophisticated models.\\n\\n### The Vision: What\\'s Next for AI in India?\\n\\nLooking ahead, India\\'s AI ambition is clear and multi-faceted.\\n\\n1.  **Building Sovereign AI Capability:** The focus is shifting towards **\"Make AI in India.\"** This involves developing indigenous Large Language Models (LLMs) and foundational models trained on Indian data and tailored to Indian contexts.\\n2.  **AI for Social Good (AI4SG):** There is a strong push to leverage AI to solve uniquely Indian challenges at scale, such as improving public health outcomes, managing water resources, and boosting agricultural productivity.\\n3.  **The Generative AI Wave:** Indian businesses and developers are poised to adopt and innovate on top of generative AI, using it to revolutionize content creation, accelerate software development, and create new forms of customer interaction.\\n4.  **Becoming a Global AI Talent Hub:** The ultimate vision is for India to transition from being an implementation hub to a global source of AI leadership, research, and innovation.\\n\\n### Conclusion: A New Chapter in India\\'s Tech Story\\n\\nThe rise of AI in India is not just another tech trend; it\\'s the beginning of a new chapter in the nation\\'s history. The powerful confluence of massive data, a deep talent pool, government ambition, and a thriving startup culture has placed India on a fast track to becoming a formidable force in the global AI landscape.\\n\\nThis is more than a technological shift; it\\'s a socio-economic transformation with the potential to empower over a billion people, solve long-standing challenges, and redefine India\\'s place in the world. The journey has just begun, and the world is watching.\\n\\n***\\n\\n*What do you think is the biggest opportunity or challenge for AI in India? Share your thoughts in the comments below!*'}\n"
     ]
    }
   ],
   "source": [
    "intial_state = {'title': 'Rise of AI in India'}\n",
    "\n",
    "final_state = workflow.invoke(intial_state)\n",
    "\n",
    "print(final_state)"
   ]
  },
  {
   "cell_type": "code",
   "execution_count": null,
   "id": "870ee962",
   "metadata": {},
   "outputs": [],
   "source": [
    "print(final_state['outline'])"
   ]
  },
  {
   "cell_type": "code",
   "execution_count": null,
   "id": "78fc54f4",
   "metadata": {},
   "outputs": [],
   "source": [
    "print(final_state['content'])"
   ]
  }
 ],
 "metadata": {
  "kernelspec": {
   "display_name": "Python 3",
   "language": "python",
   "name": "python3"
  },
  "language_info": {
   "codemirror_mode": {
    "name": "ipython",
    "version": 3
   },
   "file_extension": ".py",
   "mimetype": "text/x-python",
   "name": "python",
   "nbconvert_exporter": "python",
   "pygments_lexer": "ipython3",
   "version": "3.11.9"
  }
 },
 "nbformat": 4,
 "nbformat_minor": 5
}
