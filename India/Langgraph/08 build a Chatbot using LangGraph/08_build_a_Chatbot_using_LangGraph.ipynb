{
 "cells": [
  {
   "cell_type": "code",
   "execution_count": 49,
   "id": "21116549",
   "metadata": {},
   "outputs": [],
   "source": [
    "from langgraph.graph import StateGraph\n",
    "from langgraph.graph import START\n",
    "from langgraph.graph import END\n",
    "from typing import TypedDict\n",
    "from typing import Annotated\n",
    "from langchain_core.messages import BaseMessage\n",
    "from langchain_core.messages import HumanMessage"
   ]
  },
  {
   "cell_type": "code",
   "execution_count": 50,
   "id": "b7fae270",
   "metadata": {},
   "outputs": [],
   "source": [
    "from langchain_groq import ChatGroq\n",
    "from langgraph.graph.message import add_messages"
   ]
  },
  {
   "cell_type": "code",
   "execution_count": 51,
   "id": "d15a5307",
   "metadata": {},
   "outputs": [],
   "source": [
    "from dotenv import load_dotenv"
   ]
  },
  {
   "cell_type": "code",
   "execution_count": 52,
   "id": "76eaa9e8",
   "metadata": {},
   "outputs": [
    {
     "data": {
      "text/plain": [
       "True"
      ]
     },
     "execution_count": 52,
     "metadata": {},
     "output_type": "execute_result"
    }
   ],
   "source": [
    "load_dotenv()"
   ]
  },
  {
   "cell_type": "code",
   "execution_count": null,
   "id": "83d170b2",
   "metadata": {},
   "outputs": [],
   "source": [
    "class ChatState(TypedDict):\n",
    "    messages: Annotated[list[BaseMessage], add_messages]\n",
    "\n",
    "# ✅ Initialize Groq Chat Model\n",
    "llm = ChatGroq(\n",
    "    api_key=\"\",  # replace with your actual key or use dotenv\n",
    "    model_name=\"llama-3.1-8b-instant\"  # or \"mixtral-8x7b-32768\"\n",
    ")"
   ]
  },
  {
   "cell_type": "code",
   "execution_count": 54,
   "id": "32049f38",
   "metadata": {},
   "outputs": [],
   "source": [
    "def chat_node(state: ChatState):\n",
    "    messages = state['messages']\n",
    "    response = llm.invoke(messages)\n",
    "    return {'messages': [response]}"
   ]
  },
  {
   "cell_type": "code",
   "execution_count": 55,
   "id": "33f8c1c6",
   "metadata": {},
   "outputs": [],
   "source": [
    "graph = StateGraph(ChatState)"
   ]
  },
  {
   "cell_type": "code",
   "execution_count": 56,
   "id": "d90b080a",
   "metadata": {},
   "outputs": [
    {
     "data": {
      "text/plain": [
       "<langgraph.graph.state.StateGraph at 0x229e91e5310>"
      ]
     },
     "execution_count": 56,
     "metadata": {},
     "output_type": "execute_result"
    }
   ],
   "source": [
    "graph.add_node('chat_node', chat_node)\n",
    "graph.add_edge(START, 'chat_node')\n",
    "graph.add_edge('chat_node', END)"
   ]
  },
  {
   "cell_type": "code",
   "execution_count": 57,
   "id": "af1220f1",
   "metadata": {},
   "outputs": [],
   "source": [
    "chatbot = graph.compile()"
   ]
  },
  {
   "cell_type": "code",
   "execution_count": 58,
   "id": "182f5987",
   "metadata": {},
   "outputs": [],
   "source": [
    "initial_state = {\n",
    "    'messages': [HumanMessage(content='What is the capital of India?')]\n",
    "}"
   ]
  },
  {
   "cell_type": "code",
   "execution_count": 59,
   "id": "34ae7f5d",
   "metadata": {},
   "outputs": [
    {
     "name": "stdout",
     "output_type": "stream",
     "text": [
      "The capital of India is New Delhi.\n"
     ]
    }
   ],
   "source": [
    "# Final Output\n",
    "print(chatbot.invoke(initial_state)['messages'][-1].content)"
   ]
  }
 ],
 "metadata": {
  "kernelspec": {
   "display_name": "Python 3",
   "language": "python",
   "name": "python3"
  },
  "language_info": {
   "codemirror_mode": {
    "name": "ipython",
    "version": 3
   },
   "file_extension": ".py",
   "mimetype": "text/x-python",
   "name": "python",
   "nbconvert_exporter": "python",
   "pygments_lexer": "ipython3",
   "version": "3.11.9"
  }
 },
 "nbformat": 4,
 "nbformat_minor": 5
}
