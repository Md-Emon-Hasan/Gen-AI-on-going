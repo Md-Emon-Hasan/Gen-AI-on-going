{
 "cells": [
  {
   "cell_type": "code",
   "execution_count": 1,
   "id": "cb03e7e4",
   "metadata": {},
   "outputs": [],
   "source": [
    "import os\n",
    "from dotenv import load_dotenv"
   ]
  },
  {
   "cell_type": "code",
   "execution_count": 2,
   "id": "77d406ae",
   "metadata": {},
   "outputs": [
    {
     "name": "stderr",
     "output_type": "stream",
     "text": [
      "c:\\Users\\emon1\\AppData\\Local\\Programs\\Python\\Python311\\Lib\\site-packages\\tqdm\\auto.py:21: TqdmWarning: IProgress not found. Please update jupyter and ipywidgets. See https://ipywidgets.readthedocs.io/en/stable/user_install.html\n",
      "  from .autonotebook import tqdm as notebook_tqdm\n"
     ]
    }
   ],
   "source": [
    "from langchain_google_genai import GoogleGenerativeAIEmbeddings\n",
    "from langchain.vectorstores import Chroma\n",
    "from langchain.schema import Document"
   ]
  },
  {
   "cell_type": "code",
   "execution_count": 3,
   "id": "0bc0a769",
   "metadata": {},
   "outputs": [],
   "source": [
    "# Load environment variables\n",
    "load_dotenv()\n",
    "os.environ[\"GOOGLE_API_KEY\"] = os.getenv(\"GOOGLE_API_KEY\")"
   ]
  },
  {
   "cell_type": "code",
   "execution_count": 5,
   "id": "692215a7",
   "metadata": {},
   "outputs": [],
   "source": [
    "# Sample Football player documents\n",
    "docs = [\n",
    "    Document(\n",
    "        page_content=\"Lionel Messi is considered one of the greatest footballers of all time. Known for his incredible dribbling, vision, and goal-scoring ability, he has won multiple Ballon d'Or awards. He currently plays for Inter Miami after a legendary career at Barcelona.\",\n",
    "        metadata={\"club\": \"Inter Miami\"}\n",
    "    ),\n",
    "    Document(\n",
    "        page_content=\"Cristiano Ronaldo is one of the most iconic forwards in football history. Famous for his athleticism, powerful shots, and leadership, he has won major trophies across England, Spain, and Italy. He now plays for Al Nassr in the Saudi Pro League.\",\n",
    "        metadata={\"club\": \"Al Nassr\"}\n",
    "    ),\n",
    "    Document(\n",
    "        page_content=\"Kylian Mbappé is a French forward known for his explosive pace and clinical finishing. A World Cup winner at just 19, he has become the face of Paris Saint-Germain and is regarded as one of the brightest talents in modern football.\",\n",
    "        metadata={\"club\": \"Paris Saint-Germain\"}\n",
    "    ),\n",
    "    Document(\n",
    "        page_content=\"Kevin De Bruyne is a world-class midfielder playing for Manchester City. Renowned for his passing accuracy, vision, and ability to control the tempo of a game, he has been a key figure in City's domestic and European success.\",\n",
    "        metadata={\"club\": \"Manchester City\"}\n",
    "    ),\n",
    "    Document(\n",
    "        page_content=\"Virgil van Dijk is one of the top defenders in the world, commanding Liverpool’s backline with authority. His strength, aerial ability, and calmness under pressure have transformed Liverpool's defense in recent years.\",\n",
    "        metadata={\"club\": \"Liverpool\"}\n",
    "    ),\n",
    "]"
   ]
  },
  {
   "cell_type": "code",
   "execution_count": 6,
   "id": "b5e1dddb",
   "metadata": {},
   "outputs": [],
   "source": [
    "# Initialize Google Gemini Embeddings\n",
    "embedding_model = GoogleGenerativeAIEmbeddings(\n",
    "    model=\"models/embedding-001\",  # default Gemini embedding model\n",
    "    task_type=\"retrieval_document\" # can also use 'retrieval_query' for query vectors\n",
    ")"
   ]
  },
  {
   "cell_type": "code",
   "execution_count": 7,
   "id": "e197679b",
   "metadata": {},
   "outputs": [
    {
     "name": "stderr",
     "output_type": "stream",
     "text": [
      "C:\\Users\\emon1\\AppData\\Local\\Temp\\ipykernel_7420\\1129830283.py:2: LangChainDeprecationWarning: The class `Chroma` was deprecated in LangChain 0.2.9 and will be removed in 1.0. An updated version of the class exists in the :class:`~langchain-chroma package and should be used instead. To use it run `pip install -U :class:`~langchain-chroma` and import as `from :class:`~langchain_chroma import Chroma``.\n",
      "  vector_store = Chroma(\n"
     ]
    }
   ],
   "source": [
    "# Create or load Chroma vector store\n",
    "vector_store = Chroma(\n",
    "    embedding_function=embedding_model,\n",
    "    persist_directory='my_chroma_db_gemini',\n",
    "    collection_name='sample_gemini'\n",
    ")"
   ]
  },
  {
   "cell_type": "code",
   "execution_count": 8,
   "id": "3ee1502b",
   "metadata": {},
   "outputs": [
    {
     "data": {
      "text/plain": [
       "['6c5d3258-d3cd-4fa4-ab77-8ad6bbd4501c',\n",
       " 'b62a6916-f1da-47cd-b76c-ad0f94728d6c',\n",
       " 'a7e8361a-4ba3-48e5-a1d4-43c763fc44a9',\n",
       " 'ae206513-1c08-4fef-990b-4d786bd1a45f',\n",
       " '4aaf37bf-e0ab-4214-a94e-23ab8c173a9f']"
      ]
     },
     "execution_count": 8,
     "metadata": {},
     "output_type": "execute_result"
    }
   ],
   "source": [
    "# Add documents\n",
    "vector_store.add_documents(docs)"
   ]
  },
  {
   "cell_type": "code",
   "execution_count": 9,
   "id": "f30805ce",
   "metadata": {},
   "outputs": [
    {
     "name": "stdout",
     "output_type": "stream",
     "text": [
      "\n",
      "--- All Documents ---\n",
      "{'ids': ['6c5d3258-d3cd-4fa4-ab77-8ad6bbd4501c', 'b62a6916-f1da-47cd-b76c-ad0f94728d6c', 'a7e8361a-4ba3-48e5-a1d4-43c763fc44a9', 'ae206513-1c08-4fef-990b-4d786bd1a45f', '4aaf37bf-e0ab-4214-a94e-23ab8c173a9f'], 'embeddings': None, 'documents': [\"Lionel Messi is considered one of the greatest footballers of all time. Known for his incredible dribbling, vision, and goal-scoring ability, he has won multiple Ballon d'Or awards. He currently plays for Inter Miami after a legendary career at Barcelona.\", 'Cristiano Ronaldo is one of the most iconic forwards in football history. Famous for his athleticism, powerful shots, and leadership, he has won major trophies across England, Spain, and Italy. He now plays for Al Nassr in the Saudi Pro League.', 'Kylian Mbappé is a French forward known for his explosive pace and clinical finishing. A World Cup winner at just 19, he has become the face of Paris Saint-Germain and is regarded as one of the brightest talents in modern football.', \"Kevin De Bruyne is a world-class midfielder playing for Manchester City. Renowned for his passing accuracy, vision, and ability to control the tempo of a game, he has been a key figure in City's domestic and European success.\", \"Virgil van Dijk is one of the top defenders in the world, commanding Liverpool’s backline with authority. His strength, aerial ability, and calmness under pressure have transformed Liverpool's defense in recent years.\"], 'uris': None, 'data': None, 'metadatas': [{'club': 'Inter Miami'}, {'club': 'Al Nassr'}, {'club': 'Paris Saint-Germain'}, {'club': 'Manchester City'}, {'club': 'Liverpool'}], 'included': [<IncludeEnum.documents: 'documents'>, <IncludeEnum.metadatas: 'metadatas'>]}\n"
     ]
    }
   ],
   "source": [
    "# View all documents\n",
    "print(\"\\n--- All Documents ---\")\n",
    "print(vector_store.get(include=['documents', 'metadatas']))"
   ]
  },
  {
   "cell_type": "code",
   "execution_count": 12,
   "id": "dae00608",
   "metadata": {},
   "outputs": [
    {
     "name": "stdout",
     "output_type": "stream",
     "text": [
      "\n",
      "--- Similarity Search: Greatest ---\n",
      "Lionel Messi is considered one of the greatest footballers of all time. Known for his incredible dribbling, vision, and goal-scoring ability, he has won multiple Ballon d'Or awards. He currently plays for Inter Miami after a legendary career at Barcelona.\n",
      "Virgil van Dijk is one of the top defenders in the world, commanding Liverpool’s backline with authority. His strength, aerial ability, and calmness under pressure have transformed Liverpool's defense in recent years.\n"
     ]
    }
   ],
   "source": [
    "# Similarity search (no score)\n",
    "print(\"\\n--- Similarity Search: Greatest ---\")\n",
    "results = vector_store.similarity_search(\n",
    "    query='Who among these are a greatest?',\n",
    "    k=2\n",
    ")\n",
    "for doc in results:\n",
    "    print(doc.page_content)"
   ]
  },
  {
   "cell_type": "code",
   "execution_count": 13,
   "id": "94c431dc",
   "metadata": {},
   "outputs": [
    {
     "name": "stdout",
     "output_type": "stream",
     "text": [
      "\n",
      "--- Similarity Search with Score: Defender ---\n",
      "Score: 0.5208 | Content: Virgil van Dijk is one of the top defenders in the world, commanding Liverpool’s backline with authority. His strength, aerial ability, and calmness under pressure have transformed Liverpool's defense in recent years.\n",
      "Score: 0.6188 | Content: Lionel Messi is considered one of the greatest footballers of all time. Known for his incredible dribbling, vision, and goal-scoring ability, he has won multiple Ballon d'Or awards. He currently plays for Inter Miami after a legendary career at Barcelona.\n"
     ]
    }
   ],
   "source": [
    "# Similarity search with scores\n",
    "print(\"\\n--- Similarity Search with Score: Defender ---\")\n",
    "scored_results = vector_store.similarity_search_with_score(\n",
    "    query='Who among these are a defender?',\n",
    "    k=2\n",
    ")\n",
    "for doc, score in scored_results:\n",
    "    print(f\"Score: {score:.4f} | Content: {doc.page_content}\")"
   ]
  },
  {
   "cell_type": "code",
   "execution_count": 22,
   "id": "338d3dfb",
   "metadata": {},
   "outputs": [
    {
     "name": "stdout",
     "output_type": "stream",
     "text": [
      "\n",
      "--- Filter by Team ---\n"
     ]
    }
   ],
   "source": [
    "print(\"\\n--- Filter by Team ---\")\n",
    "filtered_results = vector_store.similarity_search_with_score(\n",
    "    query='',\n",
    "    filter={\"team\": \"Paris Saint-Germain\"}\n",
    ")\n",
    "for doc, score in filtered_results:\n",
    "    print(f\"Score: {score:.4f} | Content: {doc.page_content}\")"
   ]
  }
 ],
 "metadata": {
  "kernelspec": {
   "display_name": "Python 3",
   "language": "python",
   "name": "python3"
  },
  "language_info": {
   "codemirror_mode": {
    "name": "ipython",
    "version": 3
   },
   "file_extension": ".py",
   "mimetype": "text/x-python",
   "name": "python",
   "nbconvert_exporter": "python",
   "pygments_lexer": "ipython3",
   "version": "3.11.9"
  }
 },
 "nbformat": 4,
 "nbformat_minor": 5
}
