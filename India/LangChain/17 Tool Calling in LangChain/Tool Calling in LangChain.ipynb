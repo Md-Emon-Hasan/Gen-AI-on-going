{
 "cells": [
  {
   "cell_type": "code",
   "execution_count": null,
   "id": "f6bc8a36",
   "metadata": {},
   "outputs": [],
   "source": [
    "import os\n",
    "os.environ[\"GROQ_API_KEY\"] = \"\"  # 🗝️ Replace with your Groq key"
   ]
  },
  {
   "cell_type": "code",
   "execution_count": 2,
   "id": "72e411f1",
   "metadata": {},
   "outputs": [],
   "source": [
    "from langchain_groq import ChatGroq\n",
    "from langchain_core.tools import tool, InjectedToolArg\n",
    "from typing import Annotated\n",
    "import requests"
   ]
  },
  {
   "cell_type": "code",
   "execution_count": 3,
   "id": "d02b2f1a",
   "metadata": {},
   "outputs": [],
   "source": [
    "@tool\n",
    "def get_conversion_factor(base_currency: str, target_currency: str) -> float:\n",
    "    \"\"\"Fetch conversion rate between base and target currency\"\"\"\n",
    "    url = f'https://v6.exchangerate-api.com/v6/c754eab14ffab33112e380ca/pair/{base_currency}/{target_currency}'\n",
    "    response = requests.get(url)\n",
    "    return response.json()\n",
    "\n",
    "@tool\n",
    "def convert(base_currency_value: int, conversion_rate: Annotated[float, InjectedToolArg]) -> float:\n",
    "    \"\"\"Convert base_currency_value to target using conversion_rate\"\"\"\n",
    "    return base_currency_value * conversion_rate"
   ]
  },
  {
   "cell_type": "code",
   "execution_count": 8,
   "id": "49bc08dc",
   "metadata": {},
   "outputs": [],
   "source": [
    "llm = ChatGroq(\n",
    "    model=\"qwen-qwq-32b\",  # or llama3-70b-8192\n",
    "    temperature=0.7\n",
    ")"
   ]
  },
  {
   "cell_type": "code",
   "execution_count": 9,
   "id": "b439f0eb",
   "metadata": {},
   "outputs": [],
   "source": [
    "llm_with_tools = llm.bind_tools([get_conversion_factor, convert])"
   ]
  },
  {
   "cell_type": "code",
   "execution_count": 10,
   "id": "8295e61d",
   "metadata": {},
   "outputs": [],
   "source": [
    "from langchain_core.messages import HumanMessage\n",
    "\n",
    "messages = [HumanMessage(content=\"What is the conversion rate from INR to USD and convert 10 INR to USD\")]"
   ]
  },
  {
   "cell_type": "code",
   "execution_count": 11,
   "id": "9b747b22",
   "metadata": {},
   "outputs": [],
   "source": [
    "ai_message = llm_with_tools.invoke(messages)"
   ]
  },
  {
   "cell_type": "code",
   "execution_count": 12,
   "id": "e39f28e1",
   "metadata": {},
   "outputs": [],
   "source": [
    "import json\n",
    "conversion_rate = None\n",
    "\n",
    "for tool_call in ai_message.tool_calls:\n",
    "    if tool_call['name'] == 'get_conversion_factor':\n",
    "        tool_message1 = get_conversion_factor.invoke(tool_call)\n",
    "        conversion_rate = json.loads(tool_message1.content)['conversion_rate']\n",
    "        messages.append(tool_message1)\n",
    "    if tool_call['name'] == 'convert':\n",
    "        tool_call['args']['conversion_rate'] = conversion_rate\n",
    "        tool_message2 = convert.invoke(tool_call)\n",
    "        messages.append(tool_message2)"
   ]
  },
  {
   "cell_type": "code",
   "execution_count": 13,
   "id": "e7ad3f6e",
   "metadata": {},
   "outputs": [
    {
     "data": {
      "text/plain": [
       "'The conversion rate from INR to USD is **0.01165** (1 INR = 0.01165 USD).  \\n\\nFor **10 INR** to USD:  \\n10 INR × 0.01165 = **0.1165 USD**.  \\n\\nSo, 10 INR equals approximately **0.1165 USD**.'"
      ]
     },
     "execution_count": 13,
     "metadata": {},
     "output_type": "execute_result"
    }
   ],
   "source": [
    "llm_with_tools.invoke(messages).content"
   ]
  }
 ],
 "metadata": {
  "kernelspec": {
   "display_name": "Python 3",
   "language": "python",
   "name": "python3"
  },
  "language_info": {
   "codemirror_mode": {
    "name": "ipython",
    "version": 3
   },
   "file_extension": ".py",
   "mimetype": "text/x-python",
   "name": "python",
   "nbconvert_exporter": "python",
   "pygments_lexer": "ipython3",
   "version": "3.11.9"
  }
 },
 "nbformat": 4,
 "nbformat_minor": 5
}
