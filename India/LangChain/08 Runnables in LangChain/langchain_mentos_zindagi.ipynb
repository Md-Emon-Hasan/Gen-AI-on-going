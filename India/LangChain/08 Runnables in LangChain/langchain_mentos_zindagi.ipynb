{
  "nbformat": 4,
  "nbformat_minor": 0,
  "metadata": {
    "colab": {
      "provenance": []
    },
    "kernelspec": {
      "name": "python3",
      "display_name": "Python 3"
    },
    "language_info": {
      "name": "python"
    }
  },
  "cells": [
    {
      "cell_type": "code",
      "source": [
        "from abc import ABC, abstractmethod"
      ],
      "metadata": {
        "id": "X17XNOaKGr45"
      },
      "execution_count": 1,
      "outputs": []
    },
    {
      "cell_type": "code",
      "source": [
        "class Runnable(ABC):\n",
        "\n",
        "  @abstractmethod\n",
        "  def invoke(input_data):\n",
        "    pass"
      ],
      "metadata": {
        "id": "IFz_UygPG14c"
      },
      "execution_count": 2,
      "outputs": []
    },
    {
      "cell_type": "code",
      "source": [
        "import random\n",
        "\n",
        "class NakliLLM(Runnable):\n",
        "\n",
        "  def __init__(self):\n",
        "    print('LLM created')\n",
        "\n",
        "  def invoke(self, prompt):\n",
        "    response_list = [\n",
        "        'Delhi is the capital of India',\n",
        "        'IPL is a cricket league',\n",
        "        'AI stands for Artificial Intelligence'\n",
        "    ]\n",
        "\n",
        "    return {'response': random.choice(response_list)}\n",
        "\n",
        "\n",
        "  def predict(self, prompt):\n",
        "\n",
        "    response_list = [\n",
        "        'Delhi is the capital of India',\n",
        "        'IPL is a cricket league',\n",
        "        'AI stands for Artificial Intelligence'\n",
        "    ]\n",
        "\n",
        "    return {'response': random.choice(response_list)}"
      ],
      "metadata": {
        "id": "WPyqRUB0G2Fl"
      },
      "execution_count": 3,
      "outputs": []
    },
    {
      "cell_type": "code",
      "source": [
        "class NakliPromptTemplate(Runnable):\n",
        "\n",
        "  def __init__(self, template, input_variables):\n",
        "    self.template = template\n",
        "    self.input_variables = input_variables\n",
        "\n",
        "  def invoke(self, input_dict):\n",
        "    return self.template.format(**input_dict)\n",
        "\n",
        "  def format(self, input_dict):\n",
        "    return self.template.format(**input_dict)"
      ],
      "metadata": {
        "id": "KDiHeGomG5ek"
      },
      "execution_count": 4,
      "outputs": []
    },
    {
      "cell_type": "code",
      "source": [
        "class NakliStrOutputParser(Runnable):\n",
        "\n",
        "  def __init__(self):\n",
        "    pass\n",
        "\n",
        "  def invoke(self, input_data):\n",
        "    return input_data['response']"
      ],
      "metadata": {
        "id": "aN4aoIOXMn4z"
      },
      "execution_count": 5,
      "outputs": []
    },
    {
      "cell_type": "code",
      "source": [
        "class RunnableConnector(Runnable):\n",
        "\n",
        "  def __init__(self, runnable_list):\n",
        "    self.runnable_list = runnable_list\n",
        "\n",
        "  def invoke(self, input_data):\n",
        "\n",
        "    for runnable in self.runnable_list:\n",
        "      input_data = runnable.invoke(input_data)\n",
        "\n",
        "    return input_data"
      ],
      "metadata": {
        "id": "IMiDtySDIIzj"
      },
      "execution_count": 6,
      "outputs": []
    },
    {
      "cell_type": "code",
      "source": [
        "template = NakliPromptTemplate(\n",
        "    template='Write a {length} poem about {topic}',\n",
        "    input_variables=['length', 'topic']\n",
        ")"
      ],
      "metadata": {
        "id": "Y_c_Lk6fMJ8s"
      },
      "execution_count": 7,
      "outputs": []
    },
    {
      "cell_type": "code",
      "source": [
        "llm = NakliLLM()"
      ],
      "metadata": {
        "colab": {
          "base_uri": "https://localhost:8080/"
        },
        "id": "--x-JA5_MPgg",
        "outputId": "3664814f-2aa9-4dd8-8b17-9d859e1b59b3"
      },
      "execution_count": 8,
      "outputs": [
        {
          "output_type": "stream",
          "name": "stdout",
          "text": [
            "LLM created\n"
          ]
        }
      ]
    },
    {
      "cell_type": "code",
      "source": [
        "parser = NakliStrOutputParser()"
      ],
      "metadata": {
        "id": "3YC3jTYtM3Pr"
      },
      "execution_count": 9,
      "outputs": []
    },
    {
      "cell_type": "code",
      "source": [
        "chain = RunnableConnector([template, llm, parser])"
      ],
      "metadata": {
        "id": "vgp10rvlLrOt"
      },
      "execution_count": 10,
      "outputs": []
    },
    {
      "cell_type": "code",
      "source": [
        "chain.invoke({'length':'long', 'topic':'india'})"
      ],
      "metadata": {
        "colab": {
          "base_uri": "https://localhost:8080/",
          "height": 35
        },
        "id": "Vpbx5zxfMYtn",
        "outputId": "afda08e8-ff65-4450-af6a-a6ebeaa21b4c"
      },
      "execution_count": 11,
      "outputs": [
        {
          "output_type": "execute_result",
          "data": {
            "text/plain": [
              "'AI stands for Artificial Intelligence'"
            ],
            "application/vnd.google.colaboratory.intrinsic+json": {
              "type": "string"
            }
          },
          "metadata": {},
          "execution_count": 11
        }
      ]
    },
    {
      "cell_type": "code",
      "source": [
        "template1 = NakliPromptTemplate(\n",
        "    template='Write a joke about {topic}',\n",
        "    input_variables=['topic']\n",
        ")"
      ],
      "metadata": {
        "id": "MZ9QqMQhOGIH"
      },
      "execution_count": 12,
      "outputs": []
    },
    {
      "cell_type": "code",
      "source": [
        "template2 = NakliPromptTemplate(\n",
        "    template='Explain the following joke {response}',\n",
        "    input_variables=['response']\n",
        ")"
      ],
      "metadata": {
        "id": "-GPhO_fxPiSp"
      },
      "execution_count": 13,
      "outputs": []
    },
    {
      "cell_type": "code",
      "source": [
        "llm = NakliLLM()"
      ],
      "metadata": {
        "colab": {
          "base_uri": "https://localhost:8080/"
        },
        "id": "-tl05IwNPsmc",
        "outputId": "54423fd6-c897-4eeb-cc94-7e464afe7425"
      },
      "execution_count": 14,
      "outputs": [
        {
          "output_type": "stream",
          "name": "stdout",
          "text": [
            "LLM created\n"
          ]
        }
      ]
    },
    {
      "cell_type": "code",
      "source": [
        "parser = NakliStrOutputParser()"
      ],
      "metadata": {
        "id": "VQEM8GzBPvTT"
      },
      "execution_count": 15,
      "outputs": []
    },
    {
      "cell_type": "code",
      "source": [
        "chain1 = RunnableConnector([template1, llm])"
      ],
      "metadata": {
        "id": "l4XLvuL0PxPz"
      },
      "execution_count": 16,
      "outputs": []
    },
    {
      "cell_type": "code",
      "source": [
        "chain2 = RunnableConnector([template2, llm, parser])"
      ],
      "metadata": {
        "id": "mnGtEGWMP6GQ"
      },
      "execution_count": 17,
      "outputs": []
    },
    {
      "cell_type": "code",
      "source": [
        "final_chain = RunnableConnector([chain1, chain2])"
      ],
      "metadata": {
        "id": "j4-MXTQZQIXF"
      },
      "execution_count": 18,
      "outputs": []
    },
    {
      "cell_type": "code",
      "source": [
        "final_chain.invoke({'topic':'cricket'})"
      ],
      "metadata": {
        "id": "lAS8bw7cQP2h",
        "outputId": "48f510d2-72f9-46dd-c9a1-1fb881966a9c",
        "colab": {
          "base_uri": "https://localhost:8080/",
          "height": 35
        }
      },
      "execution_count": 19,
      "outputs": [
        {
          "output_type": "execute_result",
          "data": {
            "text/plain": [
              "'Delhi is the capital of India'"
            ],
            "application/vnd.google.colaboratory.intrinsic+json": {
              "type": "string"
            }
          },
          "metadata": {},
          "execution_count": 19
        }
      ]
    }
  ]
}